{
 "cells": [
  {
   "cell_type": "markdown",
   "id": "28204344",
   "metadata": {},
   "source": [
    "# Database Management System Notebook"
   ]
  },
  {
   "cell_type": "code",
   "execution_count": null,
   "id": "1b2c20de",
   "metadata": {},
   "outputs": [],
   "source": [
    "import json\n",
    "import os\n",
    "import sys\n",
    "sys.path.append('../src')\n",
    "from langvault.dbms import init_db, inserts, modify, delete, find_by_attr\n",
    "from langvault.tables import Unit, CalligraphyCharacter, GrammarRule, Vocabulary, Exercise\n",
    "\n",
    "import logging\n",
    "logging.basicConfig(level=logging.INFO)\n",
    "logger = logging.getLogger(__name__)"
   ]
  },
  {
   "cell_type": "code",
   "execution_count": 2,
   "id": "1b8731a0",
   "metadata": {},
   "outputs": [],
   "source": [
    "language_name = 'zh'"
   ]
  },
  {
   "cell_type": "markdown",
   "id": "e65331c8",
   "metadata": {},
   "source": [
    "## Addition of Units.json"
   ]
  },
  {
   "cell_type": "code",
   "execution_count": 3,
   "id": "ac83b557",
   "metadata": {},
   "outputs": [
    {
     "name": "stderr",
     "output_type": "stream",
     "text": [
      "INFO:langvault.dbms:Creating new database zh.db.\n"
     ]
    },
    {
     "name": "stdout",
     "output_type": "stream",
     "text": [
      "2025-07-03 23:44:58,733 INFO sqlalchemy.engine.Engine BEGIN (implicit)\n"
     ]
    },
    {
     "name": "stderr",
     "output_type": "stream",
     "text": [
      "INFO:sqlalchemy.engine.Engine:BEGIN (implicit)\n"
     ]
    },
    {
     "name": "stdout",
     "output_type": "stream",
     "text": [
      "2025-07-03 23:44:58,734 INFO sqlalchemy.engine.Engine PRAGMA main.table_info(\"units\")\n"
     ]
    },
    {
     "name": "stderr",
     "output_type": "stream",
     "text": [
      "INFO:sqlalchemy.engine.Engine:PRAGMA main.table_info(\"units\")\n"
     ]
    },
    {
     "name": "stdout",
     "output_type": "stream",
     "text": [
      "2025-07-03 23:44:58,735 INFO sqlalchemy.engine.Engine [raw sql] ()\n"
     ]
    },
    {
     "name": "stderr",
     "output_type": "stream",
     "text": [
      "INFO:sqlalchemy.engine.Engine:[raw sql] ()\n"
     ]
    },
    {
     "name": "stdout",
     "output_type": "stream",
     "text": [
      "2025-07-03 23:44:58,735 INFO sqlalchemy.engine.Engine PRAGMA temp.table_info(\"units\")\n"
     ]
    },
    {
     "name": "stderr",
     "output_type": "stream",
     "text": [
      "INFO:sqlalchemy.engine.Engine:PRAGMA temp.table_info(\"units\")\n"
     ]
    },
    {
     "name": "stdout",
     "output_type": "stream",
     "text": [
      "2025-07-03 23:44:58,735 INFO sqlalchemy.engine.Engine [raw sql] ()\n"
     ]
    },
    {
     "name": "stderr",
     "output_type": "stream",
     "text": [
      "INFO:sqlalchemy.engine.Engine:[raw sql] ()\n"
     ]
    },
    {
     "name": "stdout",
     "output_type": "stream",
     "text": [
      "2025-07-03 23:44:58,735 INFO sqlalchemy.engine.Engine PRAGMA main.table_info(\"calligraphy_characters\")\n"
     ]
    },
    {
     "name": "stderr",
     "output_type": "stream",
     "text": [
      "INFO:sqlalchemy.engine.Engine:PRAGMA main.table_info(\"calligraphy_characters\")\n"
     ]
    },
    {
     "name": "stdout",
     "output_type": "stream",
     "text": [
      "2025-07-03 23:44:58,736 INFO sqlalchemy.engine.Engine [raw sql] ()\n"
     ]
    },
    {
     "name": "stderr",
     "output_type": "stream",
     "text": [
      "INFO:sqlalchemy.engine.Engine:[raw sql] ()\n"
     ]
    },
    {
     "name": "stdout",
     "output_type": "stream",
     "text": [
      "2025-07-03 23:44:58,736 INFO sqlalchemy.engine.Engine PRAGMA temp.table_info(\"calligraphy_characters\")\n"
     ]
    },
    {
     "name": "stderr",
     "output_type": "stream",
     "text": [
      "INFO:sqlalchemy.engine.Engine:PRAGMA temp.table_info(\"calligraphy_characters\")\n"
     ]
    },
    {
     "name": "stdout",
     "output_type": "stream",
     "text": [
      "2025-07-03 23:44:58,736 INFO sqlalchemy.engine.Engine [raw sql] ()\n"
     ]
    },
    {
     "name": "stderr",
     "output_type": "stream",
     "text": [
      "INFO:sqlalchemy.engine.Engine:[raw sql] ()\n"
     ]
    },
    {
     "name": "stdout",
     "output_type": "stream",
     "text": [
      "2025-07-03 23:44:58,736 INFO sqlalchemy.engine.Engine PRAGMA main.table_info(\"grammar_rules\")\n"
     ]
    },
    {
     "name": "stderr",
     "output_type": "stream",
     "text": [
      "INFO:sqlalchemy.engine.Engine:PRAGMA main.table_info(\"grammar_rules\")\n"
     ]
    },
    {
     "name": "stdout",
     "output_type": "stream",
     "text": [
      "2025-07-03 23:44:58,737 INFO sqlalchemy.engine.Engine [raw sql] ()\n"
     ]
    },
    {
     "name": "stderr",
     "output_type": "stream",
     "text": [
      "INFO:sqlalchemy.engine.Engine:[raw sql] ()\n"
     ]
    },
    {
     "name": "stdout",
     "output_type": "stream",
     "text": [
      "2025-07-03 23:44:58,737 INFO sqlalchemy.engine.Engine PRAGMA temp.table_info(\"grammar_rules\")\n"
     ]
    },
    {
     "name": "stderr",
     "output_type": "stream",
     "text": [
      "INFO:sqlalchemy.engine.Engine:PRAGMA temp.table_info(\"grammar_rules\")\n"
     ]
    },
    {
     "name": "stdout",
     "output_type": "stream",
     "text": [
      "2025-07-03 23:44:58,737 INFO sqlalchemy.engine.Engine [raw sql] ()\n"
     ]
    },
    {
     "name": "stderr",
     "output_type": "stream",
     "text": [
      "INFO:sqlalchemy.engine.Engine:[raw sql] ()\n"
     ]
    },
    {
     "name": "stdout",
     "output_type": "stream",
     "text": [
      "2025-07-03 23:44:58,737 INFO sqlalchemy.engine.Engine PRAGMA main.table_info(\"vocabulary\")\n"
     ]
    },
    {
     "name": "stderr",
     "output_type": "stream",
     "text": [
      "INFO:sqlalchemy.engine.Engine:PRAGMA main.table_info(\"vocabulary\")\n"
     ]
    },
    {
     "name": "stdout",
     "output_type": "stream",
     "text": [
      "2025-07-03 23:44:58,738 INFO sqlalchemy.engine.Engine [raw sql] ()\n"
     ]
    },
    {
     "name": "stderr",
     "output_type": "stream",
     "text": [
      "INFO:sqlalchemy.engine.Engine:[raw sql] ()\n"
     ]
    },
    {
     "name": "stdout",
     "output_type": "stream",
     "text": [
      "2025-07-03 23:44:58,738 INFO sqlalchemy.engine.Engine PRAGMA temp.table_info(\"vocabulary\")\n"
     ]
    },
    {
     "name": "stderr",
     "output_type": "stream",
     "text": [
      "INFO:sqlalchemy.engine.Engine:PRAGMA temp.table_info(\"vocabulary\")\n"
     ]
    },
    {
     "name": "stdout",
     "output_type": "stream",
     "text": [
      "2025-07-03 23:44:58,738 INFO sqlalchemy.engine.Engine [raw sql] ()\n"
     ]
    },
    {
     "name": "stderr",
     "output_type": "stream",
     "text": [
      "INFO:sqlalchemy.engine.Engine:[raw sql] ()\n"
     ]
    },
    {
     "name": "stdout",
     "output_type": "stream",
     "text": [
      "2025-07-03 23:44:58,738 INFO sqlalchemy.engine.Engine PRAGMA main.table_info(\"exercises\")\n"
     ]
    },
    {
     "name": "stderr",
     "output_type": "stream",
     "text": [
      "INFO:sqlalchemy.engine.Engine:PRAGMA main.table_info(\"exercises\")\n"
     ]
    },
    {
     "name": "stdout",
     "output_type": "stream",
     "text": [
      "2025-07-03 23:44:58,738 INFO sqlalchemy.engine.Engine [raw sql] ()\n"
     ]
    },
    {
     "name": "stderr",
     "output_type": "stream",
     "text": [
      "INFO:sqlalchemy.engine.Engine:[raw sql] ()\n"
     ]
    },
    {
     "name": "stdout",
     "output_type": "stream",
     "text": [
      "2025-07-03 23:44:58,739 INFO sqlalchemy.engine.Engine PRAGMA temp.table_info(\"exercises\")\n"
     ]
    },
    {
     "name": "stderr",
     "output_type": "stream",
     "text": [
      "INFO:sqlalchemy.engine.Engine:PRAGMA temp.table_info(\"exercises\")\n"
     ]
    },
    {
     "name": "stdout",
     "output_type": "stream",
     "text": [
      "2025-07-03 23:44:58,739 INFO sqlalchemy.engine.Engine [raw sql] ()\n"
     ]
    },
    {
     "name": "stderr",
     "output_type": "stream",
     "text": [
      "INFO:sqlalchemy.engine.Engine:[raw sql] ()\n"
     ]
    },
    {
     "name": "stdout",
     "output_type": "stream",
     "text": [
      "2025-07-03 23:44:58,739 INFO sqlalchemy.engine.Engine \n",
      "CREATE TABLE units (\n",
      "\tunit_id VARCHAR NOT NULL, \n",
      "\ttitle VARCHAR, \n",
      "\tdescription VARCHAR, \n",
      "\tlevel VARCHAR, \n",
      "\tPRIMARY KEY (unit_id)\n",
      ")\n",
      "\n",
      "\n"
     ]
    },
    {
     "name": "stderr",
     "output_type": "stream",
     "text": [
      "INFO:sqlalchemy.engine.Engine:\n",
      "CREATE TABLE units (\n",
      "\tunit_id VARCHAR NOT NULL, \n",
      "\ttitle VARCHAR, \n",
      "\tdescription VARCHAR, \n",
      "\tlevel VARCHAR, \n",
      "\tPRIMARY KEY (unit_id)\n",
      ")\n",
      "\n",
      "\n"
     ]
    },
    {
     "name": "stdout",
     "output_type": "stream",
     "text": [
      "2025-07-03 23:44:58,740 INFO sqlalchemy.engine.Engine [no key 0.00018s] ()\n"
     ]
    },
    {
     "name": "stderr",
     "output_type": "stream",
     "text": [
      "INFO:sqlalchemy.engine.Engine:[no key 0.00018s] ()\n"
     ]
    },
    {
     "name": "stdout",
     "output_type": "stream",
     "text": [
      "2025-07-03 23:44:58,740 INFO sqlalchemy.engine.Engine CREATE INDEX ix_units_title ON units (title)\n"
     ]
    },
    {
     "name": "stderr",
     "output_type": "stream",
     "text": [
      "INFO:sqlalchemy.engine.Engine:CREATE INDEX ix_units_title ON units (title)\n"
     ]
    },
    {
     "name": "stdout",
     "output_type": "stream",
     "text": [
      "2025-07-03 23:44:58,740 INFO sqlalchemy.engine.Engine [no key 0.00021s] ()\n"
     ]
    },
    {
     "name": "stderr",
     "output_type": "stream",
     "text": [
      "INFO:sqlalchemy.engine.Engine:[no key 0.00021s] ()\n"
     ]
    },
    {
     "name": "stdout",
     "output_type": "stream",
     "text": [
      "2025-07-03 23:44:58,741 INFO sqlalchemy.engine.Engine CREATE INDEX ix_units_unit_id ON units (unit_id)\n"
     ]
    },
    {
     "name": "stderr",
     "output_type": "stream",
     "text": [
      "INFO:sqlalchemy.engine.Engine:CREATE INDEX ix_units_unit_id ON units (unit_id)\n"
     ]
    },
    {
     "name": "stdout",
     "output_type": "stream",
     "text": [
      "2025-07-03 23:44:58,741 INFO sqlalchemy.engine.Engine [no key 0.00019s] ()\n"
     ]
    },
    {
     "name": "stderr",
     "output_type": "stream",
     "text": [
      "INFO:sqlalchemy.engine.Engine:[no key 0.00019s] ()\n"
     ]
    },
    {
     "name": "stdout",
     "output_type": "stream",
     "text": [
      "2025-07-03 23:44:58,742 INFO sqlalchemy.engine.Engine \n",
      "CREATE TABLE calligraphy_characters (\n",
      "\tchar_id VARCHAR NOT NULL, \n",
      "\tunit_id VARCHAR, \n",
      "\tcharacter VARCHAR, \n",
      "\tchar_translation VARCHAR, \n",
      "\tcomponents VARCHAR, \n",
      "\tPRIMARY KEY (char_id), \n",
      "\tFOREIGN KEY(unit_id) REFERENCES units (unit_id)\n",
      ")\n",
      "\n",
      "\n"
     ]
    },
    {
     "name": "stderr",
     "output_type": "stream",
     "text": [
      "INFO:sqlalchemy.engine.Engine:\n",
      "CREATE TABLE calligraphy_characters (\n",
      "\tchar_id VARCHAR NOT NULL, \n",
      "\tunit_id VARCHAR, \n",
      "\tcharacter VARCHAR, \n",
      "\tchar_translation VARCHAR, \n",
      "\tcomponents VARCHAR, \n",
      "\tPRIMARY KEY (char_id), \n",
      "\tFOREIGN KEY(unit_id) REFERENCES units (unit_id)\n",
      ")\n",
      "\n",
      "\n"
     ]
    },
    {
     "name": "stdout",
     "output_type": "stream",
     "text": [
      "2025-07-03 23:44:58,742 INFO sqlalchemy.engine.Engine [no key 0.00019s] ()\n"
     ]
    },
    {
     "name": "stderr",
     "output_type": "stream",
     "text": [
      "INFO:sqlalchemy.engine.Engine:[no key 0.00019s] ()\n"
     ]
    },
    {
     "name": "stdout",
     "output_type": "stream",
     "text": [
      "2025-07-03 23:44:58,742 INFO sqlalchemy.engine.Engine CREATE INDEX ix_calligraphy_characters_unit_id ON calligraphy_characters (unit_id)\n"
     ]
    },
    {
     "name": "stderr",
     "output_type": "stream",
     "text": [
      "INFO:sqlalchemy.engine.Engine:CREATE INDEX ix_calligraphy_characters_unit_id ON calligraphy_characters (unit_id)\n"
     ]
    },
    {
     "name": "stdout",
     "output_type": "stream",
     "text": [
      "2025-07-03 23:44:58,743 INFO sqlalchemy.engine.Engine [no key 0.00028s] ()\n"
     ]
    },
    {
     "name": "stderr",
     "output_type": "stream",
     "text": [
      "INFO:sqlalchemy.engine.Engine:[no key 0.00028s] ()\n"
     ]
    },
    {
     "name": "stdout",
     "output_type": "stream",
     "text": [
      "2025-07-03 23:44:58,743 INFO sqlalchemy.engine.Engine CREATE INDEX ix_calligraphy_characters_character ON calligraphy_characters (character)\n"
     ]
    },
    {
     "name": "stderr",
     "output_type": "stream",
     "text": [
      "INFO:sqlalchemy.engine.Engine:CREATE INDEX ix_calligraphy_characters_character ON calligraphy_characters (character)\n"
     ]
    },
    {
     "name": "stdout",
     "output_type": "stream",
     "text": [
      "2025-07-03 23:44:58,743 INFO sqlalchemy.engine.Engine [no key 0.00020s] ()\n"
     ]
    },
    {
     "name": "stderr",
     "output_type": "stream",
     "text": [
      "INFO:sqlalchemy.engine.Engine:[no key 0.00020s] ()\n"
     ]
    },
    {
     "name": "stdout",
     "output_type": "stream",
     "text": [
      "2025-07-03 23:44:58,744 INFO sqlalchemy.engine.Engine CREATE INDEX ix_calligraphy_characters_char_id ON calligraphy_characters (char_id)\n"
     ]
    },
    {
     "name": "stderr",
     "output_type": "stream",
     "text": [
      "INFO:sqlalchemy.engine.Engine:CREATE INDEX ix_calligraphy_characters_char_id ON calligraphy_characters (char_id)\n"
     ]
    },
    {
     "name": "stdout",
     "output_type": "stream",
     "text": [
      "2025-07-03 23:44:58,744 INFO sqlalchemy.engine.Engine [no key 0.00019s] ()\n"
     ]
    },
    {
     "name": "stderr",
     "output_type": "stream",
     "text": [
      "INFO:sqlalchemy.engine.Engine:[no key 0.00019s] ()\n"
     ]
    },
    {
     "name": "stdout",
     "output_type": "stream",
     "text": [
      "2025-07-03 23:44:58,745 INFO sqlalchemy.engine.Engine \n",
      "CREATE TABLE grammar_rules (\n",
      "\tgrammar_id VARCHAR NOT NULL, \n",
      "\tunit_id VARCHAR, \n",
      "\tgrammar_title VARCHAR, \n",
      "\texplanation VARCHAR, \n",
      "\tPRIMARY KEY (grammar_id), \n",
      "\tFOREIGN KEY(unit_id) REFERENCES units (unit_id)\n",
      ")\n",
      "\n",
      "\n"
     ]
    },
    {
     "name": "stderr",
     "output_type": "stream",
     "text": [
      "INFO:sqlalchemy.engine.Engine:\n",
      "CREATE TABLE grammar_rules (\n",
      "\tgrammar_id VARCHAR NOT NULL, \n",
      "\tunit_id VARCHAR, \n",
      "\tgrammar_title VARCHAR, \n",
      "\texplanation VARCHAR, \n",
      "\tPRIMARY KEY (grammar_id), \n",
      "\tFOREIGN KEY(unit_id) REFERENCES units (unit_id)\n",
      ")\n",
      "\n",
      "\n"
     ]
    },
    {
     "name": "stdout",
     "output_type": "stream",
     "text": [
      "2025-07-03 23:44:58,745 INFO sqlalchemy.engine.Engine [no key 0.00022s] ()\n"
     ]
    },
    {
     "name": "stderr",
     "output_type": "stream",
     "text": [
      "INFO:sqlalchemy.engine.Engine:[no key 0.00022s] ()\n"
     ]
    },
    {
     "name": "stdout",
     "output_type": "stream",
     "text": [
      "2025-07-03 23:44:58,746 INFO sqlalchemy.engine.Engine CREATE INDEX ix_grammar_rules_unit_id ON grammar_rules (unit_id)\n"
     ]
    },
    {
     "name": "stderr",
     "output_type": "stream",
     "text": [
      "INFO:sqlalchemy.engine.Engine:CREATE INDEX ix_grammar_rules_unit_id ON grammar_rules (unit_id)\n"
     ]
    },
    {
     "name": "stdout",
     "output_type": "stream",
     "text": [
      "2025-07-03 23:44:58,746 INFO sqlalchemy.engine.Engine [no key 0.00027s] ()\n"
     ]
    },
    {
     "name": "stderr",
     "output_type": "stream",
     "text": [
      "INFO:sqlalchemy.engine.Engine:[no key 0.00027s] ()\n"
     ]
    },
    {
     "name": "stdout",
     "output_type": "stream",
     "text": [
      "2025-07-03 23:44:58,746 INFO sqlalchemy.engine.Engine CREATE INDEX ix_grammar_rules_grammar_id ON grammar_rules (grammar_id)\n"
     ]
    },
    {
     "name": "stderr",
     "output_type": "stream",
     "text": [
      "INFO:sqlalchemy.engine.Engine:CREATE INDEX ix_grammar_rules_grammar_id ON grammar_rules (grammar_id)\n"
     ]
    },
    {
     "name": "stdout",
     "output_type": "stream",
     "text": [
      "2025-07-03 23:44:58,746 INFO sqlalchemy.engine.Engine [no key 0.00019s] ()\n"
     ]
    },
    {
     "name": "stderr",
     "output_type": "stream",
     "text": [
      "INFO:sqlalchemy.engine.Engine:[no key 0.00019s] ()\n"
     ]
    },
    {
     "name": "stdout",
     "output_type": "stream",
     "text": [
      "2025-07-03 23:44:58,747 INFO sqlalchemy.engine.Engine CREATE INDEX ix_grammar_rules_grammar_title ON grammar_rules (grammar_title)\n"
     ]
    },
    {
     "name": "stderr",
     "output_type": "stream",
     "text": [
      "INFO:sqlalchemy.engine.Engine:CREATE INDEX ix_grammar_rules_grammar_title ON grammar_rules (grammar_title)\n"
     ]
    },
    {
     "name": "stdout",
     "output_type": "stream",
     "text": [
      "2025-07-03 23:44:58,747 INFO sqlalchemy.engine.Engine [no key 0.00020s] ()\n"
     ]
    },
    {
     "name": "stderr",
     "output_type": "stream",
     "text": [
      "INFO:sqlalchemy.engine.Engine:[no key 0.00020s] ()\n"
     ]
    },
    {
     "name": "stdout",
     "output_type": "stream",
     "text": [
      "2025-07-03 23:44:58,748 INFO sqlalchemy.engine.Engine \n",
      "CREATE TABLE vocabulary (\n",
      "\tvoc_id VARCHAR NOT NULL, \n",
      "\tunit_id VARCHAR, \n",
      "\tword VARCHAR, \n",
      "\tvoc_translation VARCHAR, \n",
      "\tvoc_phonetic VARCHAR, \n",
      "\texample_sentence VARCHAR, \n",
      "\tvoc_type VARCHAR, \n",
      "\tPRIMARY KEY (voc_id), \n",
      "\tFOREIGN KEY(unit_id) REFERENCES units (unit_id)\n",
      ")\n",
      "\n",
      "\n"
     ]
    },
    {
     "name": "stderr",
     "output_type": "stream",
     "text": [
      "INFO:sqlalchemy.engine.Engine:\n",
      "CREATE TABLE vocabulary (\n",
      "\tvoc_id VARCHAR NOT NULL, \n",
      "\tunit_id VARCHAR, \n",
      "\tword VARCHAR, \n",
      "\tvoc_translation VARCHAR, \n",
      "\tvoc_phonetic VARCHAR, \n",
      "\texample_sentence VARCHAR, \n",
      "\tvoc_type VARCHAR, \n",
      "\tPRIMARY KEY (voc_id), \n",
      "\tFOREIGN KEY(unit_id) REFERENCES units (unit_id)\n",
      ")\n",
      "\n",
      "\n"
     ]
    },
    {
     "name": "stdout",
     "output_type": "stream",
     "text": [
      "2025-07-03 23:44:58,748 INFO sqlalchemy.engine.Engine [no key 0.00020s] ()\n"
     ]
    },
    {
     "name": "stderr",
     "output_type": "stream",
     "text": [
      "INFO:sqlalchemy.engine.Engine:[no key 0.00020s] ()\n"
     ]
    },
    {
     "name": "stdout",
     "output_type": "stream",
     "text": [
      "2025-07-03 23:44:58,748 INFO sqlalchemy.engine.Engine CREATE INDEX ix_vocabulary_voc_id ON vocabulary (voc_id)\n"
     ]
    },
    {
     "name": "stderr",
     "output_type": "stream",
     "text": [
      "INFO:sqlalchemy.engine.Engine:CREATE INDEX ix_vocabulary_voc_id ON vocabulary (voc_id)\n"
     ]
    },
    {
     "name": "stdout",
     "output_type": "stream",
     "text": [
      "2025-07-03 23:44:58,749 INFO sqlalchemy.engine.Engine [no key 0.00017s] ()\n"
     ]
    },
    {
     "name": "stderr",
     "output_type": "stream",
     "text": [
      "INFO:sqlalchemy.engine.Engine:[no key 0.00017s] ()\n"
     ]
    },
    {
     "name": "stdout",
     "output_type": "stream",
     "text": [
      "2025-07-03 23:44:58,749 INFO sqlalchemy.engine.Engine CREATE INDEX ix_vocabulary_unit_id ON vocabulary (unit_id)\n"
     ]
    },
    {
     "name": "stderr",
     "output_type": "stream",
     "text": [
      "INFO:sqlalchemy.engine.Engine:CREATE INDEX ix_vocabulary_unit_id ON vocabulary (unit_id)\n"
     ]
    },
    {
     "name": "stdout",
     "output_type": "stream",
     "text": [
      "2025-07-03 23:44:58,749 INFO sqlalchemy.engine.Engine [no key 0.00018s] ()\n"
     ]
    },
    {
     "name": "stderr",
     "output_type": "stream",
     "text": [
      "INFO:sqlalchemy.engine.Engine:[no key 0.00018s] ()\n"
     ]
    },
    {
     "name": "stdout",
     "output_type": "stream",
     "text": [
      "2025-07-03 23:44:58,750 INFO sqlalchemy.engine.Engine CREATE INDEX ix_vocabulary_word ON vocabulary (word)\n"
     ]
    },
    {
     "name": "stderr",
     "output_type": "stream",
     "text": [
      "INFO:sqlalchemy.engine.Engine:CREATE INDEX ix_vocabulary_word ON vocabulary (word)\n"
     ]
    },
    {
     "name": "stdout",
     "output_type": "stream",
     "text": [
      "2025-07-03 23:44:58,750 INFO sqlalchemy.engine.Engine [no key 0.00020s] ()\n"
     ]
    },
    {
     "name": "stderr",
     "output_type": "stream",
     "text": [
      "INFO:sqlalchemy.engine.Engine:[no key 0.00020s] ()\n"
     ]
    },
    {
     "name": "stdout",
     "output_type": "stream",
     "text": [
      "2025-07-03 23:44:58,751 INFO sqlalchemy.engine.Engine \n",
      "CREATE TABLE exercises (\n",
      "\texercise_id VARCHAR NOT NULL, \n",
      "\tunit_id VARCHAR, \n",
      "\texercise_type VARCHAR, \n",
      "\tquestion VARCHAR, \n",
      "\tsupport VARCHAR, \n",
      "\tanswer VARCHAR, \n",
      "\tPRIMARY KEY (exercise_id), \n",
      "\tFOREIGN KEY(unit_id) REFERENCES units (unit_id)\n",
      ")\n",
      "\n",
      "\n"
     ]
    },
    {
     "name": "stderr",
     "output_type": "stream",
     "text": [
      "INFO:sqlalchemy.engine.Engine:\n",
      "CREATE TABLE exercises (\n",
      "\texercise_id VARCHAR NOT NULL, \n",
      "\tunit_id VARCHAR, \n",
      "\texercise_type VARCHAR, \n",
      "\tquestion VARCHAR, \n",
      "\tsupport VARCHAR, \n",
      "\tanswer VARCHAR, \n",
      "\tPRIMARY KEY (exercise_id), \n",
      "\tFOREIGN KEY(unit_id) REFERENCES units (unit_id)\n",
      ")\n",
      "\n",
      "\n"
     ]
    },
    {
     "name": "stdout",
     "output_type": "stream",
     "text": [
      "2025-07-03 23:44:58,751 INFO sqlalchemy.engine.Engine [no key 0.00020s] ()\n"
     ]
    },
    {
     "name": "stderr",
     "output_type": "stream",
     "text": [
      "INFO:sqlalchemy.engine.Engine:[no key 0.00020s] ()\n"
     ]
    },
    {
     "name": "stdout",
     "output_type": "stream",
     "text": [
      "2025-07-03 23:44:58,752 INFO sqlalchemy.engine.Engine CREATE INDEX ix_exercises_exercise_id ON exercises (exercise_id)\n"
     ]
    },
    {
     "name": "stderr",
     "output_type": "stream",
     "text": [
      "INFO:sqlalchemy.engine.Engine:CREATE INDEX ix_exercises_exercise_id ON exercises (exercise_id)\n"
     ]
    },
    {
     "name": "stdout",
     "output_type": "stream",
     "text": [
      "2025-07-03 23:44:58,752 INFO sqlalchemy.engine.Engine [no key 0.00021s] ()\n"
     ]
    },
    {
     "name": "stderr",
     "output_type": "stream",
     "text": [
      "INFO:sqlalchemy.engine.Engine:[no key 0.00021s] ()\n"
     ]
    },
    {
     "name": "stdout",
     "output_type": "stream",
     "text": [
      "2025-07-03 23:44:58,752 INFO sqlalchemy.engine.Engine CREATE INDEX ix_exercises_question ON exercises (question)\n"
     ]
    },
    {
     "name": "stderr",
     "output_type": "stream",
     "text": [
      "INFO:sqlalchemy.engine.Engine:CREATE INDEX ix_exercises_question ON exercises (question)\n"
     ]
    },
    {
     "name": "stdout",
     "output_type": "stream",
     "text": [
      "2025-07-03 23:44:58,752 INFO sqlalchemy.engine.Engine [no key 0.00019s] ()\n"
     ]
    },
    {
     "name": "stderr",
     "output_type": "stream",
     "text": [
      "INFO:sqlalchemy.engine.Engine:[no key 0.00019s] ()\n"
     ]
    },
    {
     "name": "stdout",
     "output_type": "stream",
     "text": [
      "2025-07-03 23:44:58,753 INFO sqlalchemy.engine.Engine CREATE INDEX ix_exercises_unit_id ON exercises (unit_id)\n"
     ]
    },
    {
     "name": "stderr",
     "output_type": "stream",
     "text": [
      "INFO:sqlalchemy.engine.Engine:CREATE INDEX ix_exercises_unit_id ON exercises (unit_id)\n"
     ]
    },
    {
     "name": "stdout",
     "output_type": "stream",
     "text": [
      "2025-07-03 23:44:58,753 INFO sqlalchemy.engine.Engine [no key 0.00019s] ()\n"
     ]
    },
    {
     "name": "stderr",
     "output_type": "stream",
     "text": [
      "INFO:sqlalchemy.engine.Engine:[no key 0.00019s] ()\n"
     ]
    },
    {
     "name": "stdout",
     "output_type": "stream",
     "text": [
      "2025-07-03 23:44:58,754 INFO sqlalchemy.engine.Engine CREATE INDEX ix_exercises_exercise_type ON exercises (exercise_type)\n"
     ]
    },
    {
     "name": "stderr",
     "output_type": "stream",
     "text": [
      "INFO:sqlalchemy.engine.Engine:CREATE INDEX ix_exercises_exercise_type ON exercises (exercise_type)\n"
     ]
    },
    {
     "name": "stdout",
     "output_type": "stream",
     "text": [
      "2025-07-03 23:44:58,754 INFO sqlalchemy.engine.Engine [no key 0.00020s] ()\n"
     ]
    },
    {
     "name": "stderr",
     "output_type": "stream",
     "text": [
      "INFO:sqlalchemy.engine.Engine:[no key 0.00020s] ()\n"
     ]
    },
    {
     "name": "stdout",
     "output_type": "stream",
     "text": [
      "2025-07-03 23:44:58,754 INFO sqlalchemy.engine.Engine COMMIT\n"
     ]
    },
    {
     "name": "stderr",
     "output_type": "stream",
     "text": [
      "INFO:sqlalchemy.engine.Engine:COMMIT\n",
      "INFO:langvault.dbms:Database zh.db initialized successfully.\n",
      "INFO:__main__:Units loaded: 16\n"
     ]
    },
    {
     "name": "stdout",
     "output_type": "stream",
     "text": [
      "2025-07-03 23:44:58,756 INFO sqlalchemy.engine.Engine BEGIN (implicit)\n"
     ]
    },
    {
     "name": "stderr",
     "output_type": "stream",
     "text": [
      "INFO:sqlalchemy.engine.Engine:BEGIN (implicit)\n"
     ]
    },
    {
     "name": "stdout",
     "output_type": "stream",
     "text": [
      "2025-07-03 23:44:58,757 INFO sqlalchemy.engine.Engine INSERT INTO units (unit_id, title, description, level) VALUES (?, ?, ?, ?)\n"
     ]
    },
    {
     "name": "stderr",
     "output_type": "stream",
     "text": [
      "INFO:sqlalchemy.engine.Engine:INSERT INTO units (unit_id, title, description, level) VALUES (?, ?, ?, ?)\n"
     ]
    },
    {
     "name": "stdout",
     "output_type": "stream",
     "text": [
      "2025-07-03 23:44:58,757 INFO sqlalchemy.engine.Engine [generated in 0.00026s] ('ZH_1', 'Lecon introductive: Bonjour!', \"A l'oral: Connaitre les salutations de base\\nA l'ecrit: 5 caracteres\", 'A1')\n"
     ]
    },
    {
     "name": "stderr",
     "output_type": "stream",
     "text": [
      "INFO:sqlalchemy.engine.Engine:[generated in 0.00026s] ('ZH_1', 'Lecon introductive: Bonjour!', \"A l'oral: Connaitre les salutations de base\\nA l'ecrit: 5 caracteres\", 'A1')\n"
     ]
    },
    {
     "name": "stdout",
     "output_type": "stream",
     "text": [
      "2025-07-03 23:44:58,757 INFO sqlalchemy.engine.Engine COMMIT\n"
     ]
    },
    {
     "name": "stderr",
     "output_type": "stream",
     "text": [
      "INFO:sqlalchemy.engine.Engine:COMMIT\n"
     ]
    },
    {
     "name": "stdout",
     "output_type": "stream",
     "text": [
      "2025-07-03 23:44:58,758 INFO sqlalchemy.engine.Engine BEGIN (implicit)\n"
     ]
    },
    {
     "name": "stderr",
     "output_type": "stream",
     "text": [
      "INFO:sqlalchemy.engine.Engine:BEGIN (implicit)\n"
     ]
    },
    {
     "name": "stdout",
     "output_type": "stream",
     "text": [
      "2025-07-03 23:44:58,758 INFO sqlalchemy.engine.Engine INSERT INTO units (unit_id, title, description, level) VALUES (?, ?, ?, ?)\n"
     ]
    },
    {
     "name": "stderr",
     "output_type": "stream",
     "text": [
      "INFO:sqlalchemy.engine.Engine:INSERT INTO units (unit_id, title, description, level) VALUES (?, ?, ?, ?)\n"
     ]
    },
    {
     "name": "stdout",
     "output_type": "stream",
     "text": [
      "2025-07-03 23:44:58,758 INFO sqlalchemy.engine.Engine [cached since 0.00168s ago] ('ZH_2', \"Unite 1: Comment t'appelles-tu?\", \"A l'oral: Savoir se presenter et presenter quelqu'un\\nParler de sa nationalite\\nA l'ecrit: 19 caracteres\", 'A1')\n"
     ]
    },
    {
     "name": "stderr",
     "output_type": "stream",
     "text": [
      "INFO:sqlalchemy.engine.Engine:[cached since 0.00168s ago] ('ZH_2', \"Unite 1: Comment t'appelles-tu?\", \"A l'oral: Savoir se presenter et presenter quelqu'un\\nParler de sa nationalite\\nA l'ecrit: 19 caracteres\", 'A1')\n"
     ]
    },
    {
     "name": "stdout",
     "output_type": "stream",
     "text": [
      "2025-07-03 23:44:58,758 INFO sqlalchemy.engine.Engine COMMIT\n"
     ]
    },
    {
     "name": "stderr",
     "output_type": "stream",
     "text": [
      "INFO:sqlalchemy.engine.Engine:COMMIT\n"
     ]
    },
    {
     "name": "stdout",
     "output_type": "stream",
     "text": [
      "2025-07-03 23:44:58,759 INFO sqlalchemy.engine.Engine BEGIN (implicit)\n"
     ]
    },
    {
     "name": "stderr",
     "output_type": "stream",
     "text": [
      "INFO:sqlalchemy.engine.Engine:BEGIN (implicit)\n"
     ]
    },
    {
     "name": "stdout",
     "output_type": "stream",
     "text": [
      "2025-07-03 23:44:58,759 INFO sqlalchemy.engine.Engine INSERT INTO units (unit_id, title, description, level) VALUES (?, ?, ?, ?)\n"
     ]
    },
    {
     "name": "stderr",
     "output_type": "stream",
     "text": [
      "INFO:sqlalchemy.engine.Engine:INSERT INTO units (unit_id, title, description, level) VALUES (?, ?, ?, ?)\n"
     ]
    },
    {
     "name": "stdout",
     "output_type": "stream",
     "text": [
      "2025-07-03 23:44:58,759 INFO sqlalchemy.engine.Engine [cached since 0.002823s ago] ('ZH_3', 'Unite 2: Un, deux, trois', \"A l'oral: Compter de 1 a 9999\\nSavoir enumerer des objets\\nA l'ecrit: 19 caracteres\", 'A1')\n"
     ]
    },
    {
     "name": "stderr",
     "output_type": "stream",
     "text": [
      "INFO:sqlalchemy.engine.Engine:[cached since 0.002823s ago] ('ZH_3', 'Unite 2: Un, deux, trois', \"A l'oral: Compter de 1 a 9999\\nSavoir enumerer des objets\\nA l'ecrit: 19 caracteres\", 'A1')\n"
     ]
    },
    {
     "name": "stdout",
     "output_type": "stream",
     "text": [
      "2025-07-03 23:44:58,760 INFO sqlalchemy.engine.Engine COMMIT\n"
     ]
    },
    {
     "name": "stderr",
     "output_type": "stream",
     "text": [
      "INFO:sqlalchemy.engine.Engine:COMMIT\n"
     ]
    },
    {
     "name": "stdout",
     "output_type": "stream",
     "text": [
      "2025-07-03 23:44:58,760 INFO sqlalchemy.engine.Engine BEGIN (implicit)\n"
     ]
    },
    {
     "name": "stderr",
     "output_type": "stream",
     "text": [
      "INFO:sqlalchemy.engine.Engine:BEGIN (implicit)\n"
     ]
    },
    {
     "name": "stdout",
     "output_type": "stream",
     "text": [
      "2025-07-03 23:44:58,760 INFO sqlalchemy.engine.Engine INSERT INTO units (unit_id, title, description, level) VALUES (?, ?, ?, ?)\n"
     ]
    },
    {
     "name": "stderr",
     "output_type": "stream",
     "text": [
      "INFO:sqlalchemy.engine.Engine:INSERT INTO units (unit_id, title, description, level) VALUES (?, ?, ?, ?)\n"
     ]
    },
    {
     "name": "stdout",
     "output_type": "stream",
     "text": [
      "2025-07-03 23:44:58,760 INFO sqlalchemy.engine.Engine [cached since 0.004026s ago] ('ZH_4', \"Unite 3: Aujourd'hui\", \"A l'oral: Savoir annoncer la date\\nParler des moments de la journee et de l'heure\\nA l'ecrit: 17 caracteres\", 'A1')\n"
     ]
    },
    {
     "name": "stderr",
     "output_type": "stream",
     "text": [
      "INFO:sqlalchemy.engine.Engine:[cached since 0.004026s ago] ('ZH_4', \"Unite 3: Aujourd'hui\", \"A l'oral: Savoir annoncer la date\\nParler des moments de la journee et de l'heure\\nA l'ecrit: 17 caracteres\", 'A1')\n"
     ]
    },
    {
     "name": "stdout",
     "output_type": "stream",
     "text": [
      "2025-07-03 23:44:58,761 INFO sqlalchemy.engine.Engine COMMIT\n"
     ]
    },
    {
     "name": "stderr",
     "output_type": "stream",
     "text": [
      "INFO:sqlalchemy.engine.Engine:COMMIT\n"
     ]
    },
    {
     "name": "stdout",
     "output_type": "stream",
     "text": [
      "2025-07-03 23:44:58,762 INFO sqlalchemy.engine.Engine BEGIN (implicit)\n"
     ]
    },
    {
     "name": "stderr",
     "output_type": "stream",
     "text": [
      "INFO:sqlalchemy.engine.Engine:BEGIN (implicit)\n"
     ]
    },
    {
     "name": "stdout",
     "output_type": "stream",
     "text": [
      "2025-07-03 23:44:58,762 INFO sqlalchemy.engine.Engine INSERT INTO units (unit_id, title, description, level) VALUES (?, ?, ?, ?)\n"
     ]
    },
    {
     "name": "stderr",
     "output_type": "stream",
     "text": [
      "INFO:sqlalchemy.engine.Engine:INSERT INTO units (unit_id, title, description, level) VALUES (?, ?, ?, ?)\n"
     ]
    },
    {
     "name": "stdout",
     "output_type": "stream",
     "text": [
      "2025-07-03 23:44:58,762 INFO sqlalchemy.engine.Engine [cached since 0.005673s ago] ('ZH_5', 'Unite 4: Ou allons-nous?', \"A l'oral: Parler d'un evenement passe, d'une experience\\nPouvoir se situer, parler ou l'on est, ou l'on va\\nA l'ecrit: 17 caracteres\", 'A1')\n"
     ]
    },
    {
     "name": "stderr",
     "output_type": "stream",
     "text": [
      "INFO:sqlalchemy.engine.Engine:[cached since 0.005673s ago] ('ZH_5', 'Unite 4: Ou allons-nous?', \"A l'oral: Parler d'un evenement passe, d'une experience\\nPouvoir se situer, parler ou l'on est, ou l'on va\\nA l'ecrit: 17 caracteres\", 'A1')\n"
     ]
    },
    {
     "name": "stdout",
     "output_type": "stream",
     "text": [
      "2025-07-03 23:44:58,763 INFO sqlalchemy.engine.Engine COMMIT\n"
     ]
    },
    {
     "name": "stderr",
     "output_type": "stream",
     "text": [
      "INFO:sqlalchemy.engine.Engine:COMMIT\n"
     ]
    },
    {
     "name": "stdout",
     "output_type": "stream",
     "text": [
      "2025-07-03 23:44:58,763 INFO sqlalchemy.engine.Engine BEGIN (implicit)\n"
     ]
    },
    {
     "name": "stderr",
     "output_type": "stream",
     "text": [
      "INFO:sqlalchemy.engine.Engine:BEGIN (implicit)\n"
     ]
    },
    {
     "name": "stdout",
     "output_type": "stream",
     "text": [
      "2025-07-03 23:44:58,763 INFO sqlalchemy.engine.Engine INSERT INTO units (unit_id, title, description, level) VALUES (?, ?, ?, ?)\n"
     ]
    },
    {
     "name": "stderr",
     "output_type": "stream",
     "text": [
      "INFO:sqlalchemy.engine.Engine:INSERT INTO units (unit_id, title, description, level) VALUES (?, ?, ?, ?)\n"
     ]
    },
    {
     "name": "stdout",
     "output_type": "stream",
     "text": [
      "2025-07-03 23:44:58,763 INFO sqlalchemy.engine.Engine [cached since 0.006877s ago] ('ZH_6', 'Unite 5: Je ne suis pas vieux', \"A l'oral: Decrire quelqu'un ou quelque chose\\nUtilise les adjectifs\\nA l'ecrit: 17 caracteres\", 'A1')\n"
     ]
    },
    {
     "name": "stderr",
     "output_type": "stream",
     "text": [
      "INFO:sqlalchemy.engine.Engine:[cached since 0.006877s ago] ('ZH_6', 'Unite 5: Je ne suis pas vieux', \"A l'oral: Decrire quelqu'un ou quelque chose\\nUtilise les adjectifs\\nA l'ecrit: 17 caracteres\", 'A1')\n"
     ]
    },
    {
     "name": "stdout",
     "output_type": "stream",
     "text": [
      "2025-07-03 23:44:58,764 INFO sqlalchemy.engine.Engine COMMIT\n"
     ]
    },
    {
     "name": "stderr",
     "output_type": "stream",
     "text": [
      "INFO:sqlalchemy.engine.Engine:COMMIT\n"
     ]
    },
    {
     "name": "stdout",
     "output_type": "stream",
     "text": [
      "2025-07-03 23:44:58,764 INFO sqlalchemy.engine.Engine BEGIN (implicit)\n"
     ]
    },
    {
     "name": "stderr",
     "output_type": "stream",
     "text": [
      "INFO:sqlalchemy.engine.Engine:BEGIN (implicit)\n"
     ]
    },
    {
     "name": "stdout",
     "output_type": "stream",
     "text": [
      "2025-07-03 23:44:58,764 INFO sqlalchemy.engine.Engine INSERT INTO units (unit_id, title, description, level) VALUES (?, ?, ?, ?)\n"
     ]
    },
    {
     "name": "stderr",
     "output_type": "stream",
     "text": [
      "INFO:sqlalchemy.engine.Engine:INSERT INTO units (unit_id, title, description, level) VALUES (?, ?, ?, ?)\n"
     ]
    },
    {
     "name": "stdout",
     "output_type": "stream",
     "text": [
      "2025-07-03 23:44:58,765 INFO sqlalchemy.engine.Engine [cached since 0.008167s ago] ('ZH_7', 'Unite 6: Ma famille', \"A l'oral: Pouvoir presenter sa famille\\nUtilise les demonstratifs\\nA l'ecrit: 22 caracteres\", 'A1')\n"
     ]
    },
    {
     "name": "stderr",
     "output_type": "stream",
     "text": [
      "INFO:sqlalchemy.engine.Engine:[cached since 0.008167s ago] ('ZH_7', 'Unite 6: Ma famille', \"A l'oral: Pouvoir presenter sa famille\\nUtilise les demonstratifs\\nA l'ecrit: 22 caracteres\", 'A1')\n"
     ]
    },
    {
     "name": "stdout",
     "output_type": "stream",
     "text": [
      "2025-07-03 23:44:58,765 INFO sqlalchemy.engine.Engine COMMIT\n"
     ]
    },
    {
     "name": "stderr",
     "output_type": "stream",
     "text": [
      "INFO:sqlalchemy.engine.Engine:COMMIT\n"
     ]
    },
    {
     "name": "stdout",
     "output_type": "stream",
     "text": [
      "2025-07-03 23:44:58,766 INFO sqlalchemy.engine.Engine BEGIN (implicit)\n"
     ]
    },
    {
     "name": "stderr",
     "output_type": "stream",
     "text": [
      "INFO:sqlalchemy.engine.Engine:BEGIN (implicit)\n"
     ]
    },
    {
     "name": "stdout",
     "output_type": "stream",
     "text": [
      "2025-07-03 23:44:58,766 INFO sqlalchemy.engine.Engine INSERT INTO units (unit_id, title, description, level) VALUES (?, ?, ?, ?)\n"
     ]
    },
    {
     "name": "stderr",
     "output_type": "stream",
     "text": [
      "INFO:sqlalchemy.engine.Engine:INSERT INTO units (unit_id, title, description, level) VALUES (?, ?, ?, ?)\n"
     ]
    },
    {
     "name": "stdout",
     "output_type": "stream",
     "text": [
      "2025-07-03 23:44:58,766 INFO sqlalchemy.engine.Engine [cached since 0.009458s ago] ('ZH_8', 'Unite 7: Mes amis', \"A l'oral: Parler des ses amis\\nParler des langues etrangeres\\nComparer des gens ou des objets\\nA l'ecrit: 18 caracteres\", 'A1')\n"
     ]
    },
    {
     "name": "stderr",
     "output_type": "stream",
     "text": [
      "INFO:sqlalchemy.engine.Engine:[cached since 0.009458s ago] ('ZH_8', 'Unite 7: Mes amis', \"A l'oral: Parler des ses amis\\nParler des langues etrangeres\\nComparer des gens ou des objets\\nA l'ecrit: 18 caracteres\", 'A1')\n"
     ]
    },
    {
     "name": "stdout",
     "output_type": "stream",
     "text": [
      "2025-07-03 23:44:58,766 INFO sqlalchemy.engine.Engine COMMIT\n"
     ]
    },
    {
     "name": "stderr",
     "output_type": "stream",
     "text": [
      "INFO:sqlalchemy.engine.Engine:COMMIT\n"
     ]
    },
    {
     "name": "stdout",
     "output_type": "stream",
     "text": [
      "2025-07-03 23:44:58,767 INFO sqlalchemy.engine.Engine BEGIN (implicit)\n"
     ]
    },
    {
     "name": "stderr",
     "output_type": "stream",
     "text": [
      "INFO:sqlalchemy.engine.Engine:BEGIN (implicit)\n"
     ]
    },
    {
     "name": "stdout",
     "output_type": "stream",
     "text": [
      "2025-07-03 23:44:58,767 INFO sqlalchemy.engine.Engine INSERT INTO units (unit_id, title, description, level) VALUES (?, ?, ?, ?)\n"
     ]
    },
    {
     "name": "stderr",
     "output_type": "stream",
     "text": [
      "INFO:sqlalchemy.engine.Engine:INSERT INTO units (unit_id, title, description, level) VALUES (?, ?, ?, ?)\n"
     ]
    },
    {
     "name": "stdout",
     "output_type": "stream",
     "text": [
      "2025-07-03 23:44:58,767 INFO sqlalchemy.engine.Engine [cached since 0.0106s ago] ('ZH_9', \"Unite 8: Qu'aimes-tu faire?\", \"A l'oral: Parler de ses activites favorites\\nInterroger sur la maniere\\nA l'ecrit: 16 caracteres\", 'A2')\n"
     ]
    },
    {
     "name": "stderr",
     "output_type": "stream",
     "text": [
      "INFO:sqlalchemy.engine.Engine:[cached since 0.0106s ago] ('ZH_9', \"Unite 8: Qu'aimes-tu faire?\", \"A l'oral: Parler de ses activites favorites\\nInterroger sur la maniere\\nA l'ecrit: 16 caracteres\", 'A2')\n"
     ]
    },
    {
     "name": "stdout",
     "output_type": "stream",
     "text": [
      "2025-07-03 23:44:58,767 INFO sqlalchemy.engine.Engine COMMIT\n"
     ]
    },
    {
     "name": "stderr",
     "output_type": "stream",
     "text": [
      "INFO:sqlalchemy.engine.Engine:COMMIT\n"
     ]
    },
    {
     "name": "stdout",
     "output_type": "stream",
     "text": [
      "2025-07-03 23:44:58,768 INFO sqlalchemy.engine.Engine BEGIN (implicit)\n"
     ]
    },
    {
     "name": "stderr",
     "output_type": "stream",
     "text": [
      "INFO:sqlalchemy.engine.Engine:BEGIN (implicit)\n"
     ]
    },
    {
     "name": "stdout",
     "output_type": "stream",
     "text": [
      "2025-07-03 23:44:58,768 INFO sqlalchemy.engine.Engine INSERT INTO units (unit_id, title, description, level) VALUES (?, ?, ?, ?)\n"
     ]
    },
    {
     "name": "stderr",
     "output_type": "stream",
     "text": [
      "INFO:sqlalchemy.engine.Engine:INSERT INTO units (unit_id, title, description, level) VALUES (?, ?, ?, ?)\n"
     ]
    },
    {
     "name": "stdout",
     "output_type": "stream",
     "text": [
      "2025-07-03 23:44:58,769 INFO sqlalchemy.engine.Engine [cached since 0.01206s ago] ('ZH_10', 'Unite 9: Une journee classique', \"A l'oral: Raconter sa journee\\nParler des differents moyens de transport\\nA l'ecrit: 16 caracteres\", 'A2')\n"
     ]
    },
    {
     "name": "stderr",
     "output_type": "stream",
     "text": [
      "INFO:sqlalchemy.engine.Engine:[cached since 0.01206s ago] ('ZH_10', 'Unite 9: Une journee classique', \"A l'oral: Raconter sa journee\\nParler des differents moyens de transport\\nA l'ecrit: 16 caracteres\", 'A2')\n"
     ]
    },
    {
     "name": "stdout",
     "output_type": "stream",
     "text": [
      "2025-07-03 23:44:58,769 INFO sqlalchemy.engine.Engine COMMIT\n"
     ]
    },
    {
     "name": "stderr",
     "output_type": "stream",
     "text": [
      "INFO:sqlalchemy.engine.Engine:COMMIT\n"
     ]
    },
    {
     "name": "stdout",
     "output_type": "stream",
     "text": [
      "2025-07-03 23:44:58,769 INFO sqlalchemy.engine.Engine BEGIN (implicit)\n"
     ]
    },
    {
     "name": "stderr",
     "output_type": "stream",
     "text": [
      "INFO:sqlalchemy.engine.Engine:BEGIN (implicit)\n"
     ]
    },
    {
     "name": "stdout",
     "output_type": "stream",
     "text": [
      "2025-07-03 23:44:58,769 INFO sqlalchemy.engine.Engine INSERT INTO units (unit_id, title, description, level) VALUES (?, ?, ?, ?)\n"
     ]
    },
    {
     "name": "stderr",
     "output_type": "stream",
     "text": [
      "INFO:sqlalchemy.engine.Engine:INSERT INTO units (unit_id, title, description, level) VALUES (?, ?, ?, ?)\n"
     ]
    },
    {
     "name": "stdout",
     "output_type": "stream",
     "text": [
      "2025-07-03 23:44:58,770 INFO sqlalchemy.engine.Engine [cached since 0.01319s ago] ('ZH_11', 'Unite 10: Au travail', \"A l'oral: Parler du monde du travail\\nA l'ecrit: 18 caracteres\", 'A2')\n"
     ]
    },
    {
     "name": "stderr",
     "output_type": "stream",
     "text": [
      "INFO:sqlalchemy.engine.Engine:[cached since 0.01319s ago] ('ZH_11', 'Unite 10: Au travail', \"A l'oral: Parler du monde du travail\\nA l'ecrit: 18 caracteres\", 'A2')\n"
     ]
    },
    {
     "name": "stdout",
     "output_type": "stream",
     "text": [
      "2025-07-03 23:44:58,770 INFO sqlalchemy.engine.Engine COMMIT\n"
     ]
    },
    {
     "name": "stderr",
     "output_type": "stream",
     "text": [
      "INFO:sqlalchemy.engine.Engine:COMMIT\n"
     ]
    },
    {
     "name": "stdout",
     "output_type": "stream",
     "text": [
      "2025-07-03 23:44:58,770 INFO sqlalchemy.engine.Engine BEGIN (implicit)\n"
     ]
    },
    {
     "name": "stderr",
     "output_type": "stream",
     "text": [
      "INFO:sqlalchemy.engine.Engine:BEGIN (implicit)\n"
     ]
    },
    {
     "name": "stdout",
     "output_type": "stream",
     "text": [
      "2025-07-03 23:44:58,771 INFO sqlalchemy.engine.Engine INSERT INTO units (unit_id, title, description, level) VALUES (?, ?, ?, ?)\n"
     ]
    },
    {
     "name": "stderr",
     "output_type": "stream",
     "text": [
      "INFO:sqlalchemy.engine.Engine:INSERT INTO units (unit_id, title, description, level) VALUES (?, ?, ?, ?)\n"
     ]
    },
    {
     "name": "stdout",
     "output_type": "stream",
     "text": [
      "2025-07-03 23:44:58,771 INFO sqlalchemy.engine.Engine [cached since 0.01436s ago] ('ZH_12', 'Unite 11: Dans une grande ville', \"A l'oral: Pouvoir demander son chemin\\nSe reperer en ville\\nA l'ecrit: 18 caracteres\", 'A2')\n"
     ]
    },
    {
     "name": "stderr",
     "output_type": "stream",
     "text": [
      "INFO:sqlalchemy.engine.Engine:[cached since 0.01436s ago] ('ZH_12', 'Unite 11: Dans une grande ville', \"A l'oral: Pouvoir demander son chemin\\nSe reperer en ville\\nA l'ecrit: 18 caracteres\", 'A2')\n"
     ]
    },
    {
     "name": "stdout",
     "output_type": "stream",
     "text": [
      "2025-07-03 23:44:58,771 INFO sqlalchemy.engine.Engine COMMIT\n"
     ]
    },
    {
     "name": "stderr",
     "output_type": "stream",
     "text": [
      "INFO:sqlalchemy.engine.Engine:COMMIT\n"
     ]
    },
    {
     "name": "stdout",
     "output_type": "stream",
     "text": [
      "2025-07-03 23:44:58,772 INFO sqlalchemy.engine.Engine BEGIN (implicit)\n"
     ]
    },
    {
     "name": "stderr",
     "output_type": "stream",
     "text": [
      "INFO:sqlalchemy.engine.Engine:BEGIN (implicit)\n"
     ]
    },
    {
     "name": "stdout",
     "output_type": "stream",
     "text": [
      "2025-07-03 23:44:58,772 INFO sqlalchemy.engine.Engine INSERT INTO units (unit_id, title, description, level) VALUES (?, ?, ?, ?)\n"
     ]
    },
    {
     "name": "stderr",
     "output_type": "stream",
     "text": [
      "INFO:sqlalchemy.engine.Engine:INSERT INTO units (unit_id, title, description, level) VALUES (?, ?, ?, ?)\n"
     ]
    },
    {
     "name": "stdout",
     "output_type": "stream",
     "text": [
      "2025-07-03 23:44:58,772 INFO sqlalchemy.engine.Engine [cached since 0.01552s ago] ('ZH_13', 'Unite 12: Faire des achats', \"A l'oral: Negocier un prix\\nFaire des achats\\nA l'ecrit: 18 caracteres\", 'A2')\n"
     ]
    },
    {
     "name": "stderr",
     "output_type": "stream",
     "text": [
      "INFO:sqlalchemy.engine.Engine:[cached since 0.01552s ago] ('ZH_13', 'Unite 12: Faire des achats', \"A l'oral: Negocier un prix\\nFaire des achats\\nA l'ecrit: 18 caracteres\", 'A2')\n"
     ]
    },
    {
     "name": "stdout",
     "output_type": "stream",
     "text": [
      "2025-07-03 23:44:58,772 INFO sqlalchemy.engine.Engine COMMIT\n"
     ]
    },
    {
     "name": "stderr",
     "output_type": "stream",
     "text": [
      "INFO:sqlalchemy.engine.Engine:COMMIT\n"
     ]
    },
    {
     "name": "stdout",
     "output_type": "stream",
     "text": [
      "2025-07-03 23:44:58,773 INFO sqlalchemy.engine.Engine BEGIN (implicit)\n"
     ]
    },
    {
     "name": "stderr",
     "output_type": "stream",
     "text": [
      "INFO:sqlalchemy.engine.Engine:BEGIN (implicit)\n"
     ]
    },
    {
     "name": "stdout",
     "output_type": "stream",
     "text": [
      "2025-07-03 23:44:58,773 INFO sqlalchemy.engine.Engine INSERT INTO units (unit_id, title, description, level) VALUES (?, ?, ?, ?)\n"
     ]
    },
    {
     "name": "stderr",
     "output_type": "stream",
     "text": [
      "INFO:sqlalchemy.engine.Engine:INSERT INTO units (unit_id, title, description, level) VALUES (?, ?, ?, ?)\n"
     ]
    },
    {
     "name": "stdout",
     "output_type": "stream",
     "text": [
      "2025-07-03 23:44:58,773 INFO sqlalchemy.engine.Engine [cached since 0.01668s ago] ('ZH_14', \"Unite 13: En voyage a l'etranger\", \"A l'oral: Pouvoir raconter ou prevoir un voyage\\nUtiliser 'Avant, apres, pendant'\\nA l'ecrit: 17 caracteres\", 'A2')\n"
     ]
    },
    {
     "name": "stderr",
     "output_type": "stream",
     "text": [
      "INFO:sqlalchemy.engine.Engine:[cached since 0.01668s ago] ('ZH_14', \"Unite 13: En voyage a l'etranger\", \"A l'oral: Pouvoir raconter ou prevoir un voyage\\nUtiliser 'Avant, apres, pendant'\\nA l'ecrit: 17 caracteres\", 'A2')\n"
     ]
    },
    {
     "name": "stdout",
     "output_type": "stream",
     "text": [
      "2025-07-03 23:44:58,773 INFO sqlalchemy.engine.Engine COMMIT\n"
     ]
    },
    {
     "name": "stderr",
     "output_type": "stream",
     "text": [
      "INFO:sqlalchemy.engine.Engine:COMMIT\n"
     ]
    },
    {
     "name": "stdout",
     "output_type": "stream",
     "text": [
      "2025-07-03 23:44:58,774 INFO sqlalchemy.engine.Engine BEGIN (implicit)\n"
     ]
    },
    {
     "name": "stderr",
     "output_type": "stream",
     "text": [
      "INFO:sqlalchemy.engine.Engine:BEGIN (implicit)\n"
     ]
    },
    {
     "name": "stdout",
     "output_type": "stream",
     "text": [
      "2025-07-03 23:44:58,774 INFO sqlalchemy.engine.Engine INSERT INTO units (unit_id, title, description, level) VALUES (?, ?, ?, ?)\n"
     ]
    },
    {
     "name": "stderr",
     "output_type": "stream",
     "text": [
      "INFO:sqlalchemy.engine.Engine:INSERT INTO units (unit_id, title, description, level) VALUES (?, ?, ?, ?)\n"
     ]
    },
    {
     "name": "stdout",
     "output_type": "stream",
     "text": [
      "2025-07-03 23:44:58,774 INFO sqlalchemy.engine.Engine [cached since 0.01792s ago] ('ZH_15', 'Unite 14: La culture chinoise', \"A l'oral: Decouvrir la culture chinoise\\nParler des fetes et des vacances\\nA l'ecrit: 19 caracteres\", 'A2')\n"
     ]
    },
    {
     "name": "stderr",
     "output_type": "stream",
     "text": [
      "INFO:sqlalchemy.engine.Engine:[cached since 0.01792s ago] ('ZH_15', 'Unite 14: La culture chinoise', \"A l'oral: Decouvrir la culture chinoise\\nParler des fetes et des vacances\\nA l'ecrit: 19 caracteres\", 'A2')\n"
     ]
    },
    {
     "name": "stdout",
     "output_type": "stream",
     "text": [
      "2025-07-03 23:44:58,775 INFO sqlalchemy.engine.Engine COMMIT\n"
     ]
    },
    {
     "name": "stderr",
     "output_type": "stream",
     "text": [
      "INFO:sqlalchemy.engine.Engine:COMMIT\n"
     ]
    },
    {
     "name": "stdout",
     "output_type": "stream",
     "text": [
      "2025-07-03 23:44:58,775 INFO sqlalchemy.engine.Engine BEGIN (implicit)\n"
     ]
    },
    {
     "name": "stderr",
     "output_type": "stream",
     "text": [
      "INFO:sqlalchemy.engine.Engine:BEGIN (implicit)\n"
     ]
    },
    {
     "name": "stdout",
     "output_type": "stream",
     "text": [
      "2025-07-03 23:44:58,775 INFO sqlalchemy.engine.Engine INSERT INTO units (unit_id, title, description, level) VALUES (?, ?, ?, ?)\n"
     ]
    },
    {
     "name": "stderr",
     "output_type": "stream",
     "text": [
      "INFO:sqlalchemy.engine.Engine:INSERT INTO units (unit_id, title, description, level) VALUES (?, ?, ?, ?)\n"
     ]
    },
    {
     "name": "stdout",
     "output_type": "stream",
     "text": [
      "2025-07-03 23:44:58,776 INFO sqlalchemy.engine.Engine [cached since 0.01914s ago] ('ZH_16', 'Unite 15: A la maison', \"A l'oral: Decrire une maison, un appartement\\nUtiliser 吧 et les directionnels\\nA l'ecrit: 17 caracteres\", 'A2')\n"
     ]
    },
    {
     "name": "stderr",
     "output_type": "stream",
     "text": [
      "INFO:sqlalchemy.engine.Engine:[cached since 0.01914s ago] ('ZH_16', 'Unite 15: A la maison', \"A l'oral: Decrire une maison, un appartement\\nUtiliser 吧 et les directionnels\\nA l'ecrit: 17 caracteres\", 'A2')\n"
     ]
    },
    {
     "name": "stdout",
     "output_type": "stream",
     "text": [
      "2025-07-03 23:44:58,776 INFO sqlalchemy.engine.Engine COMMIT\n"
     ]
    },
    {
     "name": "stderr",
     "output_type": "stream",
     "text": [
      "INFO:sqlalchemy.engine.Engine:COMMIT\n"
     ]
    }
   ],
   "source": [
    "# Initialize the database connection and create db file if it doesn't exist\n",
    "engine, session = init_db(language_name)\n",
    "\n",
    "if not os.path.exists(f'../data/{language_name}'):\n",
    "    raise FileNotFoundError(f\"Dataset for {language_name} not found.\")\n",
    "\n",
    "# Initialize the database\n",
    "with open(f'../data/{language_name}/units.json', 'r') as f:\n",
    "    units_array = json.load(f)\n",
    "    \n",
    "logger.info(f\"Units loaded: {len(units_array)}\")\n",
    "units = []\n",
    "for idx, unit_data in enumerate(units_array):\n",
    "    units.append(\n",
    "        Unit(\n",
    "            unit_id = f\"{language_name.upper()}_{idx + 1}\",\n",
    "            title = unit_data['title'],\n",
    "            description = unit_data['description'],\n",
    "            level = unit_data['level'],\n",
    "        )\n",
    "    )\n",
    "inserts(session, units)\n",
    "session.close()"
   ]
  },
  {
   "cell_type": "markdown",
   "id": "ad8c7c20",
   "metadata": {},
   "source": [
    "## Find Unit by Attribute values"
   ]
  },
  {
   "cell_type": "code",
   "execution_count": 4,
   "id": "6a861317",
   "metadata": {},
   "outputs": [
    {
     "name": "stderr",
     "output_type": "stream",
     "text": [
      "INFO:langvault.dbms:Found existing database zh.db.\n"
     ]
    },
    {
     "name": "stdout",
     "output_type": "stream",
     "text": [
      "2025-07-03 23:44:58,780 INFO sqlalchemy.engine.Engine BEGIN (implicit)\n"
     ]
    },
    {
     "name": "stderr",
     "output_type": "stream",
     "text": [
      "INFO:sqlalchemy.engine.Engine:BEGIN (implicit)\n"
     ]
    },
    {
     "name": "stdout",
     "output_type": "stream",
     "text": [
      "2025-07-03 23:44:58,780 INFO sqlalchemy.engine.Engine PRAGMA main.table_info(\"units\")\n"
     ]
    },
    {
     "name": "stderr",
     "output_type": "stream",
     "text": [
      "INFO:sqlalchemy.engine.Engine:PRAGMA main.table_info(\"units\")\n"
     ]
    },
    {
     "name": "stdout",
     "output_type": "stream",
     "text": [
      "2025-07-03 23:44:58,781 INFO sqlalchemy.engine.Engine [raw sql] ()\n"
     ]
    },
    {
     "name": "stderr",
     "output_type": "stream",
     "text": [
      "INFO:sqlalchemy.engine.Engine:[raw sql] ()\n"
     ]
    },
    {
     "name": "stdout",
     "output_type": "stream",
     "text": [
      "2025-07-03 23:44:58,781 INFO sqlalchemy.engine.Engine PRAGMA main.table_info(\"calligraphy_characters\")\n"
     ]
    },
    {
     "name": "stderr",
     "output_type": "stream",
     "text": [
      "INFO:sqlalchemy.engine.Engine:PRAGMA main.table_info(\"calligraphy_characters\")\n"
     ]
    },
    {
     "name": "stdout",
     "output_type": "stream",
     "text": [
      "2025-07-03 23:44:58,782 INFO sqlalchemy.engine.Engine [raw sql] ()\n"
     ]
    },
    {
     "name": "stderr",
     "output_type": "stream",
     "text": [
      "INFO:sqlalchemy.engine.Engine:[raw sql] ()\n"
     ]
    },
    {
     "name": "stdout",
     "output_type": "stream",
     "text": [
      "2025-07-03 23:44:58,782 INFO sqlalchemy.engine.Engine PRAGMA main.table_info(\"grammar_rules\")\n"
     ]
    },
    {
     "name": "stderr",
     "output_type": "stream",
     "text": [
      "INFO:sqlalchemy.engine.Engine:PRAGMA main.table_info(\"grammar_rules\")\n"
     ]
    },
    {
     "name": "stdout",
     "output_type": "stream",
     "text": [
      "2025-07-03 23:44:58,782 INFO sqlalchemy.engine.Engine [raw sql] ()\n"
     ]
    },
    {
     "name": "stderr",
     "output_type": "stream",
     "text": [
      "INFO:sqlalchemy.engine.Engine:[raw sql] ()\n"
     ]
    },
    {
     "name": "stdout",
     "output_type": "stream",
     "text": [
      "2025-07-03 23:44:58,783 INFO sqlalchemy.engine.Engine PRAGMA main.table_info(\"vocabulary\")\n"
     ]
    },
    {
     "name": "stderr",
     "output_type": "stream",
     "text": [
      "INFO:sqlalchemy.engine.Engine:PRAGMA main.table_info(\"vocabulary\")\n"
     ]
    },
    {
     "name": "stdout",
     "output_type": "stream",
     "text": [
      "2025-07-03 23:44:58,783 INFO sqlalchemy.engine.Engine [raw sql] ()\n"
     ]
    },
    {
     "name": "stderr",
     "output_type": "stream",
     "text": [
      "INFO:sqlalchemy.engine.Engine:[raw sql] ()\n"
     ]
    },
    {
     "name": "stdout",
     "output_type": "stream",
     "text": [
      "2025-07-03 23:44:58,783 INFO sqlalchemy.engine.Engine PRAGMA main.table_info(\"exercises\")\n"
     ]
    },
    {
     "name": "stderr",
     "output_type": "stream",
     "text": [
      "INFO:sqlalchemy.engine.Engine:PRAGMA main.table_info(\"exercises\")\n"
     ]
    },
    {
     "name": "stdout",
     "output_type": "stream",
     "text": [
      "2025-07-03 23:44:58,783 INFO sqlalchemy.engine.Engine [raw sql] ()\n"
     ]
    },
    {
     "name": "stderr",
     "output_type": "stream",
     "text": [
      "INFO:sqlalchemy.engine.Engine:[raw sql] ()\n"
     ]
    },
    {
     "name": "stdout",
     "output_type": "stream",
     "text": [
      "2025-07-03 23:44:58,784 INFO sqlalchemy.engine.Engine COMMIT\n"
     ]
    },
    {
     "name": "stderr",
     "output_type": "stream",
     "text": [
      "INFO:sqlalchemy.engine.Engine:COMMIT\n",
      "INFO:langvault.dbms:Database zh.db initialized successfully.\n"
     ]
    },
    {
     "name": "stdout",
     "output_type": "stream",
     "text": [
      "2025-07-03 23:44:58,785 INFO sqlalchemy.engine.Engine BEGIN (implicit)\n"
     ]
    },
    {
     "name": "stderr",
     "output_type": "stream",
     "text": [
      "INFO:sqlalchemy.engine.Engine:BEGIN (implicit)\n"
     ]
    },
    {
     "name": "stdout",
     "output_type": "stream",
     "text": [
      "2025-07-03 23:44:58,786 INFO sqlalchemy.engine.Engine SELECT units.unit_id AS units_unit_id, units.title AS units_title, units.description AS units_description, units.level AS units_level \n",
      "FROM units \n",
      "WHERE units.title = ? AND units.level = ?\n",
      " LIMIT ? OFFSET ?\n"
     ]
    },
    {
     "name": "stderr",
     "output_type": "stream",
     "text": [
      "INFO:sqlalchemy.engine.Engine:SELECT units.unit_id AS units_unit_id, units.title AS units_title, units.description AS units_description, units.level AS units_level \n",
      "FROM units \n",
      "WHERE units.title = ? AND units.level = ?\n",
      " LIMIT ? OFFSET ?\n"
     ]
    },
    {
     "name": "stdout",
     "output_type": "stream",
     "text": [
      "2025-07-03 23:44:58,787 INFO sqlalchemy.engine.Engine [generated in 0.00030s] ('Unite 7: Mes amis', 'A1', 1, 0)\n"
     ]
    },
    {
     "name": "stderr",
     "output_type": "stream",
     "text": [
      "INFO:sqlalchemy.engine.Engine:[generated in 0.00030s] ('Unite 7: Mes amis', 'A1', 1, 0)\n"
     ]
    },
    {
     "name": "stdout",
     "output_type": "stream",
     "text": [
      "Found unit: {'title': 'Unite 7: Mes amis', 'description': \"A l'oral: Parler des ses amis\\nParler des langues etrangeres\\nComparer des gens ou des objets\\nA l'ecrit: 18 caracteres\", 'unit_id': 'ZH_8', 'level': 'A1'}\n",
      "2025-07-03 23:44:58,787 INFO sqlalchemy.engine.Engine ROLLBACK\n"
     ]
    },
    {
     "name": "stderr",
     "output_type": "stream",
     "text": [
      "INFO:sqlalchemy.engine.Engine:ROLLBACK\n"
     ]
    }
   ],
   "source": [
    "engine, session = init_db(language_name)\n",
    "\n",
    "title = \"Unite 7: Mes amis\"\n",
    "level = \"A1\"\n",
    "\n",
    "unit = find_by_attr(session, {\"title\": title, \"level\": level}, model_class=Unit)\n",
    "print(f\"Found unit: {unit}\")\n",
    "session.close()"
   ]
  },
  {
   "cell_type": "markdown",
   "id": "736f8010",
   "metadata": {},
   "source": [
    "## Modification of specific Unit in database"
   ]
  },
  {
   "cell_type": "code",
   "execution_count": 5,
   "id": "c9402f8f",
   "metadata": {},
   "outputs": [
    {
     "name": "stderr",
     "output_type": "stream",
     "text": [
      "INFO:langvault.dbms:Found existing database zh.db.\n"
     ]
    },
    {
     "name": "stdout",
     "output_type": "stream",
     "text": [
      "2025-07-03 23:44:58,792 INFO sqlalchemy.engine.Engine BEGIN (implicit)\n"
     ]
    },
    {
     "name": "stderr",
     "output_type": "stream",
     "text": [
      "INFO:sqlalchemy.engine.Engine:BEGIN (implicit)\n"
     ]
    },
    {
     "name": "stdout",
     "output_type": "stream",
     "text": [
      "2025-07-03 23:44:58,792 INFO sqlalchemy.engine.Engine PRAGMA main.table_info(\"units\")\n"
     ]
    },
    {
     "name": "stderr",
     "output_type": "stream",
     "text": [
      "INFO:sqlalchemy.engine.Engine:PRAGMA main.table_info(\"units\")\n"
     ]
    },
    {
     "name": "stdout",
     "output_type": "stream",
     "text": [
      "2025-07-03 23:44:58,792 INFO sqlalchemy.engine.Engine [raw sql] ()\n"
     ]
    },
    {
     "name": "stderr",
     "output_type": "stream",
     "text": [
      "INFO:sqlalchemy.engine.Engine:[raw sql] ()\n"
     ]
    },
    {
     "name": "stdout",
     "output_type": "stream",
     "text": [
      "2025-07-03 23:44:58,793 INFO sqlalchemy.engine.Engine PRAGMA main.table_info(\"calligraphy_characters\")\n"
     ]
    },
    {
     "name": "stderr",
     "output_type": "stream",
     "text": [
      "INFO:sqlalchemy.engine.Engine:PRAGMA main.table_info(\"calligraphy_characters\")\n"
     ]
    },
    {
     "name": "stdout",
     "output_type": "stream",
     "text": [
      "2025-07-03 23:44:58,793 INFO sqlalchemy.engine.Engine [raw sql] ()\n"
     ]
    },
    {
     "name": "stderr",
     "output_type": "stream",
     "text": [
      "INFO:sqlalchemy.engine.Engine:[raw sql] ()\n"
     ]
    },
    {
     "name": "stdout",
     "output_type": "stream",
     "text": [
      "2025-07-03 23:44:58,793 INFO sqlalchemy.engine.Engine PRAGMA main.table_info(\"grammar_rules\")\n"
     ]
    },
    {
     "name": "stderr",
     "output_type": "stream",
     "text": [
      "INFO:sqlalchemy.engine.Engine:PRAGMA main.table_info(\"grammar_rules\")\n"
     ]
    },
    {
     "name": "stdout",
     "output_type": "stream",
     "text": [
      "2025-07-03 23:44:58,793 INFO sqlalchemy.engine.Engine [raw sql] ()\n"
     ]
    },
    {
     "name": "stderr",
     "output_type": "stream",
     "text": [
      "INFO:sqlalchemy.engine.Engine:[raw sql] ()\n"
     ]
    },
    {
     "name": "stdout",
     "output_type": "stream",
     "text": [
      "2025-07-03 23:44:58,794 INFO sqlalchemy.engine.Engine PRAGMA main.table_info(\"vocabulary\")\n"
     ]
    },
    {
     "name": "stderr",
     "output_type": "stream",
     "text": [
      "INFO:sqlalchemy.engine.Engine:PRAGMA main.table_info(\"vocabulary\")\n"
     ]
    },
    {
     "name": "stdout",
     "output_type": "stream",
     "text": [
      "2025-07-03 23:44:58,794 INFO sqlalchemy.engine.Engine [raw sql] ()\n"
     ]
    },
    {
     "name": "stderr",
     "output_type": "stream",
     "text": [
      "INFO:sqlalchemy.engine.Engine:[raw sql] ()\n"
     ]
    },
    {
     "name": "stdout",
     "output_type": "stream",
     "text": [
      "2025-07-03 23:44:58,794 INFO sqlalchemy.engine.Engine PRAGMA main.table_info(\"exercises\")\n"
     ]
    },
    {
     "name": "stderr",
     "output_type": "stream",
     "text": [
      "INFO:sqlalchemy.engine.Engine:PRAGMA main.table_info(\"exercises\")\n"
     ]
    },
    {
     "name": "stdout",
     "output_type": "stream",
     "text": [
      "2025-07-03 23:44:58,794 INFO sqlalchemy.engine.Engine [raw sql] ()\n"
     ]
    },
    {
     "name": "stderr",
     "output_type": "stream",
     "text": [
      "INFO:sqlalchemy.engine.Engine:[raw sql] ()\n"
     ]
    },
    {
     "name": "stdout",
     "output_type": "stream",
     "text": [
      "2025-07-03 23:44:58,795 INFO sqlalchemy.engine.Engine COMMIT\n"
     ]
    },
    {
     "name": "stderr",
     "output_type": "stream",
     "text": [
      "INFO:sqlalchemy.engine.Engine:COMMIT\n",
      "INFO:langvault.dbms:Database zh.db initialized successfully.\n"
     ]
    },
    {
     "name": "stdout",
     "output_type": "stream",
     "text": [
      "2025-07-03 23:44:58,795 INFO sqlalchemy.engine.Engine BEGIN (implicit)\n"
     ]
    },
    {
     "name": "stderr",
     "output_type": "stream",
     "text": [
      "INFO:sqlalchemy.engine.Engine:BEGIN (implicit)\n"
     ]
    },
    {
     "name": "stdout",
     "output_type": "stream",
     "text": [
      "2025-07-03 23:44:58,796 INFO sqlalchemy.engine.Engine SELECT units.unit_id AS units_unit_id, units.title AS units_title, units.description AS units_description, units.level AS units_level \n",
      "FROM units \n",
      "WHERE units.unit_id = ?\n",
      " LIMIT ? OFFSET ?\n"
     ]
    },
    {
     "name": "stderr",
     "output_type": "stream",
     "text": [
      "INFO:sqlalchemy.engine.Engine:SELECT units.unit_id AS units_unit_id, units.title AS units_title, units.description AS units_description, units.level AS units_level \n",
      "FROM units \n",
      "WHERE units.unit_id = ?\n",
      " LIMIT ? OFFSET ?\n"
     ]
    },
    {
     "name": "stdout",
     "output_type": "stream",
     "text": [
      "2025-07-03 23:44:58,796 INFO sqlalchemy.engine.Engine [generated in 0.00033s] ('ZH_3', 1, 0)\n"
     ]
    },
    {
     "name": "stderr",
     "output_type": "stream",
     "text": [
      "INFO:sqlalchemy.engine.Engine:[generated in 0.00033s] ('ZH_3', 1, 0)\n"
     ]
    },
    {
     "name": "stdout",
     "output_type": "stream",
     "text": [
      "2025-07-03 23:44:58,797 INFO sqlalchemy.engine.Engine UPDATE units SET level=? WHERE units.unit_id = ?\n"
     ]
    },
    {
     "name": "stderr",
     "output_type": "stream",
     "text": [
      "INFO:sqlalchemy.engine.Engine:UPDATE units SET level=? WHERE units.unit_id = ?\n"
     ]
    },
    {
     "name": "stdout",
     "output_type": "stream",
     "text": [
      "2025-07-03 23:44:58,797 INFO sqlalchemy.engine.Engine [generated in 0.00033s] ('A2', 'ZH_3')\n"
     ]
    },
    {
     "name": "stderr",
     "output_type": "stream",
     "text": [
      "INFO:sqlalchemy.engine.Engine:[generated in 0.00033s] ('A2', 'ZH_3')\n"
     ]
    },
    {
     "name": "stdout",
     "output_type": "stream",
     "text": [
      "2025-07-03 23:44:58,798 INFO sqlalchemy.engine.Engine COMMIT\n"
     ]
    },
    {
     "name": "stderr",
     "output_type": "stream",
     "text": [
      "INFO:sqlalchemy.engine.Engine:COMMIT\n"
     ]
    }
   ],
   "source": [
    "engine, session = init_db(language_name)\n",
    "\n",
    "unit = Unit(\n",
    "    unit_id = \"ZH_3\",\n",
    "    level = \"A2\"\n",
    ")\n",
    "\n",
    "modify(session, unit)\n",
    "session.close()"
   ]
  },
  {
   "cell_type": "markdown",
   "id": "241ea864",
   "metadata": {},
   "source": [
    "## Delete Unit based on Unit_id"
   ]
  },
  {
   "cell_type": "code",
   "execution_count": 6,
   "id": "f188054b",
   "metadata": {},
   "outputs": [
    {
     "name": "stderr",
     "output_type": "stream",
     "text": [
      "INFO:langvault.dbms:Found existing database zh.db.\n"
     ]
    },
    {
     "name": "stdout",
     "output_type": "stream",
     "text": [
      "2025-07-03 23:44:58,802 INFO sqlalchemy.engine.Engine BEGIN (implicit)\n"
     ]
    },
    {
     "name": "stderr",
     "output_type": "stream",
     "text": [
      "INFO:sqlalchemy.engine.Engine:BEGIN (implicit)\n"
     ]
    },
    {
     "name": "stdout",
     "output_type": "stream",
     "text": [
      "2025-07-03 23:44:58,802 INFO sqlalchemy.engine.Engine PRAGMA main.table_info(\"units\")\n"
     ]
    },
    {
     "name": "stderr",
     "output_type": "stream",
     "text": [
      "INFO:sqlalchemy.engine.Engine:PRAGMA main.table_info(\"units\")\n"
     ]
    },
    {
     "name": "stdout",
     "output_type": "stream",
     "text": [
      "2025-07-03 23:44:58,803 INFO sqlalchemy.engine.Engine [raw sql] ()\n"
     ]
    },
    {
     "name": "stderr",
     "output_type": "stream",
     "text": [
      "INFO:sqlalchemy.engine.Engine:[raw sql] ()\n"
     ]
    },
    {
     "name": "stdout",
     "output_type": "stream",
     "text": [
      "2025-07-03 23:44:58,803 INFO sqlalchemy.engine.Engine PRAGMA main.table_info(\"calligraphy_characters\")\n"
     ]
    },
    {
     "name": "stderr",
     "output_type": "stream",
     "text": [
      "INFO:sqlalchemy.engine.Engine:PRAGMA main.table_info(\"calligraphy_characters\")\n"
     ]
    },
    {
     "name": "stdout",
     "output_type": "stream",
     "text": [
      "2025-07-03 23:44:58,803 INFO sqlalchemy.engine.Engine [raw sql] ()\n"
     ]
    },
    {
     "name": "stderr",
     "output_type": "stream",
     "text": [
      "INFO:sqlalchemy.engine.Engine:[raw sql] ()\n"
     ]
    },
    {
     "name": "stdout",
     "output_type": "stream",
     "text": [
      "2025-07-03 23:44:58,803 INFO sqlalchemy.engine.Engine PRAGMA main.table_info(\"grammar_rules\")\n"
     ]
    },
    {
     "name": "stderr",
     "output_type": "stream",
     "text": [
      "INFO:sqlalchemy.engine.Engine:PRAGMA main.table_info(\"grammar_rules\")\n"
     ]
    },
    {
     "name": "stdout",
     "output_type": "stream",
     "text": [
      "2025-07-03 23:44:58,804 INFO sqlalchemy.engine.Engine [raw sql] ()\n"
     ]
    },
    {
     "name": "stderr",
     "output_type": "stream",
     "text": [
      "INFO:sqlalchemy.engine.Engine:[raw sql] ()\n"
     ]
    },
    {
     "name": "stdout",
     "output_type": "stream",
     "text": [
      "2025-07-03 23:44:58,804 INFO sqlalchemy.engine.Engine PRAGMA main.table_info(\"vocabulary\")\n"
     ]
    },
    {
     "name": "stderr",
     "output_type": "stream",
     "text": [
      "INFO:sqlalchemy.engine.Engine:PRAGMA main.table_info(\"vocabulary\")\n"
     ]
    },
    {
     "name": "stdout",
     "output_type": "stream",
     "text": [
      "2025-07-03 23:44:58,804 INFO sqlalchemy.engine.Engine [raw sql] ()\n"
     ]
    },
    {
     "name": "stderr",
     "output_type": "stream",
     "text": [
      "INFO:sqlalchemy.engine.Engine:[raw sql] ()\n"
     ]
    },
    {
     "name": "stdout",
     "output_type": "stream",
     "text": [
      "2025-07-03 23:44:58,804 INFO sqlalchemy.engine.Engine PRAGMA main.table_info(\"exercises\")\n"
     ]
    },
    {
     "name": "stderr",
     "output_type": "stream",
     "text": [
      "INFO:sqlalchemy.engine.Engine:PRAGMA main.table_info(\"exercises\")\n"
     ]
    },
    {
     "name": "stdout",
     "output_type": "stream",
     "text": [
      "2025-07-03 23:44:58,805 INFO sqlalchemy.engine.Engine [raw sql] ()\n"
     ]
    },
    {
     "name": "stderr",
     "output_type": "stream",
     "text": [
      "INFO:sqlalchemy.engine.Engine:[raw sql] ()\n"
     ]
    },
    {
     "name": "stdout",
     "output_type": "stream",
     "text": [
      "2025-07-03 23:44:58,805 INFO sqlalchemy.engine.Engine COMMIT\n"
     ]
    },
    {
     "name": "stderr",
     "output_type": "stream",
     "text": [
      "INFO:sqlalchemy.engine.Engine:COMMIT\n",
      "INFO:langvault.dbms:Database zh.db initialized successfully.\n"
     ]
    },
    {
     "name": "stdout",
     "output_type": "stream",
     "text": [
      "2025-07-03 23:44:58,805 INFO sqlalchemy.engine.Engine BEGIN (implicit)\n"
     ]
    },
    {
     "name": "stderr",
     "output_type": "stream",
     "text": [
      "INFO:sqlalchemy.engine.Engine:BEGIN (implicit)\n"
     ]
    },
    {
     "name": "stdout",
     "output_type": "stream",
     "text": [
      "2025-07-03 23:44:58,806 INFO sqlalchemy.engine.Engine SELECT units.unit_id AS units_unit_id, units.title AS units_title, units.description AS units_description, units.level AS units_level \n",
      "FROM units \n",
      "WHERE units.unit_id = ?\n",
      " LIMIT ? OFFSET ?\n"
     ]
    },
    {
     "name": "stderr",
     "output_type": "stream",
     "text": [
      "INFO:sqlalchemy.engine.Engine:SELECT units.unit_id AS units_unit_id, units.title AS units_title, units.description AS units_description, units.level AS units_level \n",
      "FROM units \n",
      "WHERE units.unit_id = ?\n",
      " LIMIT ? OFFSET ?\n"
     ]
    },
    {
     "name": "stdout",
     "output_type": "stream",
     "text": [
      "2025-07-03 23:44:58,806 INFO sqlalchemy.engine.Engine [generated in 0.00023s] ('ZH_4', 1, 0)\n"
     ]
    },
    {
     "name": "stderr",
     "output_type": "stream",
     "text": [
      "INFO:sqlalchemy.engine.Engine:[generated in 0.00023s] ('ZH_4', 1, 0)\n"
     ]
    },
    {
     "name": "stdout",
     "output_type": "stream",
     "text": [
      "2025-07-03 23:44:58,807 INFO sqlalchemy.engine.Engine DELETE FROM units WHERE units.unit_id = ?\n"
     ]
    },
    {
     "name": "stderr",
     "output_type": "stream",
     "text": [
      "INFO:sqlalchemy.engine.Engine:DELETE FROM units WHERE units.unit_id = ?\n"
     ]
    },
    {
     "name": "stdout",
     "output_type": "stream",
     "text": [
      "2025-07-03 23:44:58,807 INFO sqlalchemy.engine.Engine [generated in 0.00020s] ('ZH_4',)\n"
     ]
    },
    {
     "name": "stderr",
     "output_type": "stream",
     "text": [
      "INFO:sqlalchemy.engine.Engine:[generated in 0.00020s] ('ZH_4',)\n"
     ]
    },
    {
     "name": "stdout",
     "output_type": "stream",
     "text": [
      "2025-07-03 23:44:58,808 INFO sqlalchemy.engine.Engine COMMIT\n"
     ]
    },
    {
     "name": "stderr",
     "output_type": "stream",
     "text": [
      "INFO:sqlalchemy.engine.Engine:COMMIT\n"
     ]
    }
   ],
   "source": [
    "engine, session = init_db(language_name)\n",
    "\n",
    "unit = Unit(\n",
    "    unit_id = \"ZH_4\"\n",
    ")\n",
    "delete(session, unit)\n",
    "session.close()"
   ]
  }
 ],
 "metadata": {
  "kernelspec": {
   "display_name": "language-learning-app",
   "language": "python",
   "name": "python3"
  },
  "language_info": {
   "codemirror_mode": {
    "name": "ipython",
    "version": 3
   },
   "file_extension": ".py",
   "mimetype": "text/x-python",
   "name": "python",
   "nbconvert_exporter": "python",
   "pygments_lexer": "ipython3",
   "version": "3.12.11"
  }
 },
 "nbformat": 4,
 "nbformat_minor": 5
}
