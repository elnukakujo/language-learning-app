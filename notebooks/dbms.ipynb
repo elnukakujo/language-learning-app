{
 "cells": [
  {
   "cell_type": "markdown",
   "id": "28204344",
   "metadata": {},
   "source": [
    "# Database Management System Notebook"
   ]
  },
  {
   "cell_type": "code",
   "execution_count": 3,
   "id": "1b2c20de",
   "metadata": {},
   "outputs": [],
   "source": [
    "import json\n",
    "import os\n",
    "from lapp.dbms import init_db, inserts, modify, delete, find_by_attr\n",
    "from lapp.tables import Unit\n",
    "\n",
    "import logging\n",
    "logging.basicConfig(level=logging.INFO)\n",
    "logger = logging.getLogger(__name__)"
   ]
  },
  {
   "cell_type": "code",
   "execution_count": 2,
   "id": "1b8731a0",
   "metadata": {},
   "outputs": [],
   "source": [
    "language_name = 'zh'"
   ]
  },
  {
   "cell_type": "markdown",
   "id": "e65331c8",
   "metadata": {},
   "source": [
    "## Addition of Units.json"
   ]
  },
  {
   "cell_type": "code",
   "execution_count": null,
   "id": "ac83b557",
   "metadata": {},
   "outputs": [
    {
     "name": "stderr",
     "output_type": "stream",
     "text": [
      "INFO:langvault.dbms:Found existing database zh.db.\n"
     ]
    },
    {
     "name": "stdout",
     "output_type": "stream",
     "text": [
      "2025-07-04 22:09:39,790 INFO sqlalchemy.engine.Engine BEGIN (implicit)\n"
     ]
    },
    {
     "name": "stderr",
     "output_type": "stream",
     "text": [
      "INFO:sqlalchemy.engine.Engine:BEGIN (implicit)\n"
     ]
    },
    {
     "name": "stdout",
     "output_type": "stream",
     "text": [
      "2025-07-04 22:09:39,790 INFO sqlalchemy.engine.Engine PRAGMA main.table_info(\"units\")\n"
     ]
    },
    {
     "name": "stderr",
     "output_type": "stream",
     "text": [
      "INFO:sqlalchemy.engine.Engine:PRAGMA main.table_info(\"units\")\n"
     ]
    },
    {
     "name": "stdout",
     "output_type": "stream",
     "text": [
      "2025-07-04 22:09:39,791 INFO sqlalchemy.engine.Engine [raw sql] ()\n"
     ]
    },
    {
     "name": "stderr",
     "output_type": "stream",
     "text": [
      "INFO:sqlalchemy.engine.Engine:[raw sql] ()\n"
     ]
    },
    {
     "name": "stdout",
     "output_type": "stream",
     "text": [
      "2025-07-04 22:09:39,791 INFO sqlalchemy.engine.Engine PRAGMA main.table_info(\"calligraphy_characters\")\n"
     ]
    },
    {
     "name": "stderr",
     "output_type": "stream",
     "text": [
      "INFO:sqlalchemy.engine.Engine:PRAGMA main.table_info(\"calligraphy_characters\")\n"
     ]
    },
    {
     "name": "stdout",
     "output_type": "stream",
     "text": [
      "2025-07-04 22:09:39,791 INFO sqlalchemy.engine.Engine [raw sql] ()\n"
     ]
    },
    {
     "name": "stderr",
     "output_type": "stream",
     "text": [
      "INFO:sqlalchemy.engine.Engine:[raw sql] ()\n"
     ]
    },
    {
     "name": "stdout",
     "output_type": "stream",
     "text": [
      "2025-07-04 22:09:39,792 INFO sqlalchemy.engine.Engine PRAGMA main.table_info(\"grammar_rules\")\n"
     ]
    },
    {
     "name": "stderr",
     "output_type": "stream",
     "text": [
      "INFO:sqlalchemy.engine.Engine:PRAGMA main.table_info(\"grammar_rules\")\n"
     ]
    },
    {
     "name": "stdout",
     "output_type": "stream",
     "text": [
      "2025-07-04 22:09:39,792 INFO sqlalchemy.engine.Engine [raw sql] ()\n"
     ]
    },
    {
     "name": "stderr",
     "output_type": "stream",
     "text": [
      "INFO:sqlalchemy.engine.Engine:[raw sql] ()\n"
     ]
    },
    {
     "name": "stdout",
     "output_type": "stream",
     "text": [
      "2025-07-04 22:09:39,792 INFO sqlalchemy.engine.Engine PRAGMA main.table_info(\"vocabulary\")\n"
     ]
    },
    {
     "name": "stderr",
     "output_type": "stream",
     "text": [
      "INFO:sqlalchemy.engine.Engine:PRAGMA main.table_info(\"vocabulary\")\n"
     ]
    },
    {
     "name": "stdout",
     "output_type": "stream",
     "text": [
      "2025-07-04 22:09:39,792 INFO sqlalchemy.engine.Engine [raw sql] ()\n"
     ]
    },
    {
     "name": "stderr",
     "output_type": "stream",
     "text": [
      "INFO:sqlalchemy.engine.Engine:[raw sql] ()\n"
     ]
    },
    {
     "name": "stdout",
     "output_type": "stream",
     "text": [
      "2025-07-04 22:09:39,793 INFO sqlalchemy.engine.Engine PRAGMA main.table_info(\"exercises\")\n"
     ]
    },
    {
     "name": "stderr",
     "output_type": "stream",
     "text": [
      "INFO:sqlalchemy.engine.Engine:PRAGMA main.table_info(\"exercises\")\n"
     ]
    },
    {
     "name": "stdout",
     "output_type": "stream",
     "text": [
      "2025-07-04 22:09:39,793 INFO sqlalchemy.engine.Engine [raw sql] ()\n"
     ]
    },
    {
     "name": "stderr",
     "output_type": "stream",
     "text": [
      "INFO:sqlalchemy.engine.Engine:[raw sql] ()\n"
     ]
    },
    {
     "name": "stdout",
     "output_type": "stream",
     "text": [
      "2025-07-04 22:09:39,793 INFO sqlalchemy.engine.Engine COMMIT\n"
     ]
    },
    {
     "name": "stderr",
     "output_type": "stream",
     "text": [
      "INFO:sqlalchemy.engine.Engine:COMMIT\n",
      "INFO:langvault.dbms:Database zh.db initialized successfully.\n",
      "INFO:__main__:Units loaded: 16\n"
     ]
    },
    {
     "name": "stdout",
     "output_type": "stream",
     "text": [
      "2025-07-04 22:09:39,795 INFO sqlalchemy.engine.Engine BEGIN (implicit)\n"
     ]
    },
    {
     "name": "stderr",
     "output_type": "stream",
     "text": [
      "INFO:sqlalchemy.engine.Engine:BEGIN (implicit)\n"
     ]
    },
    {
     "name": "stdout",
     "output_type": "stream",
     "text": [
      "2025-07-04 22:09:39,796 INFO sqlalchemy.engine.Engine INSERT INTO units (unit_id, title, description, level) VALUES (?, ?, ?, ?)\n"
     ]
    },
    {
     "name": "stderr",
     "output_type": "stream",
     "text": [
      "INFO:sqlalchemy.engine.Engine:INSERT INTO units (unit_id, title, description, level) VALUES (?, ?, ?, ?)\n"
     ]
    },
    {
     "name": "stdout",
     "output_type": "stream",
     "text": [
      "2025-07-04 22:09:39,798 INFO sqlalchemy.engine.Engine [generated in 0.00178s] ('ZH_1', 'Lecon introductive: Bonjour!', \"A l'oral: Connaitre les salutations de base\\nA l'ecrit: 5 caracteres\", 'A1')\n"
     ]
    },
    {
     "name": "stderr",
     "output_type": "stream",
     "text": [
      "INFO:sqlalchemy.engine.Engine:[generated in 0.00178s] ('ZH_1', 'Lecon introductive: Bonjour!', \"A l'oral: Connaitre les salutations de base\\nA l'ecrit: 5 caracteres\", 'A1')\n"
     ]
    },
    {
     "name": "stdout",
     "output_type": "stream",
     "text": [
      "2025-07-04 22:09:39,799 INFO sqlalchemy.engine.Engine ROLLBACK\n"
     ]
    },
    {
     "name": "stderr",
     "output_type": "stream",
     "text": [
      "INFO:sqlalchemy.engine.Engine:ROLLBACK\n",
      "WARNING:langvault.dbms:Insert failed: (sqlite3.IntegrityError) UNIQUE constraint failed: units.unit_id\n",
      "[SQL: INSERT INTO units (unit_id, title, description, level) VALUES (?, ?, ?, ?)]\n",
      "[parameters: ('ZH_1', 'Lecon introductive: Bonjour!', \"A l'oral: Connaitre les salutations de base\\nA l'ecrit: 5 caracteres\", 'A1')]\n",
      "(Background on this error at: https://sqlalche.me/e/20/gkpj). Attempting to modify an existing record.\n"
     ]
    },
    {
     "name": "stdout",
     "output_type": "stream",
     "text": [
      "2025-07-04 22:09:39,802 INFO sqlalchemy.engine.Engine BEGIN (implicit)\n"
     ]
    },
    {
     "name": "stderr",
     "output_type": "stream",
     "text": [
      "INFO:sqlalchemy.engine.Engine:BEGIN (implicit)\n"
     ]
    },
    {
     "name": "stdout",
     "output_type": "stream",
     "text": [
      "2025-07-04 22:09:39,805 INFO sqlalchemy.engine.Engine SELECT units.unit_id AS units_unit_id, units.title AS units_title, units.description AS units_description, units.level AS units_level \n",
      "FROM units \n",
      "WHERE units.unit_id = ?\n",
      " LIMIT ? OFFSET ?\n"
     ]
    },
    {
     "name": "stderr",
     "output_type": "stream",
     "text": [
      "INFO:sqlalchemy.engine.Engine:SELECT units.unit_id AS units_unit_id, units.title AS units_title, units.description AS units_description, units.level AS units_level \n",
      "FROM units \n",
      "WHERE units.unit_id = ?\n",
      " LIMIT ? OFFSET ?\n"
     ]
    },
    {
     "name": "stdout",
     "output_type": "stream",
     "text": [
      "2025-07-04 22:09:39,806 INFO sqlalchemy.engine.Engine [generated in 0.00192s] ('ZH_1', 1, 0)\n"
     ]
    },
    {
     "name": "stderr",
     "output_type": "stream",
     "text": [
      "INFO:sqlalchemy.engine.Engine:[generated in 0.00192s] ('ZH_1', 1, 0)\n"
     ]
    },
    {
     "name": "stdout",
     "output_type": "stream",
     "text": [
      "2025-07-04 22:09:39,808 INFO sqlalchemy.engine.Engine COMMIT\n"
     ]
    },
    {
     "name": "stderr",
     "output_type": "stream",
     "text": [
      "INFO:sqlalchemy.engine.Engine:COMMIT\n"
     ]
    },
    {
     "name": "stdout",
     "output_type": "stream",
     "text": [
      "2025-07-04 22:09:39,809 INFO sqlalchemy.engine.Engine BEGIN (implicit)\n"
     ]
    },
    {
     "name": "stderr",
     "output_type": "stream",
     "text": [
      "INFO:sqlalchemy.engine.Engine:BEGIN (implicit)\n"
     ]
    },
    {
     "name": "stdout",
     "output_type": "stream",
     "text": [
      "2025-07-04 22:09:39,810 INFO sqlalchemy.engine.Engine INSERT INTO units (unit_id, title, description, level) VALUES (?, ?, ?, ?)\n"
     ]
    },
    {
     "name": "stderr",
     "output_type": "stream",
     "text": [
      "INFO:sqlalchemy.engine.Engine:INSERT INTO units (unit_id, title, description, level) VALUES (?, ?, ?, ?)\n"
     ]
    },
    {
     "name": "stdout",
     "output_type": "stream",
     "text": [
      "2025-07-04 22:09:39,810 INFO sqlalchemy.engine.Engine [cached since 0.01429s ago] ('ZH_2', \"Unite 1: Comment t'appelles-tu?\", \"A l'oral: Savoir se presenter et presenter quelqu'un\\nParler de sa nationalite\\nA l'ecrit: 19 caracteres\", 'A1')\n"
     ]
    },
    {
     "name": "stderr",
     "output_type": "stream",
     "text": [
      "INFO:sqlalchemy.engine.Engine:[cached since 0.01429s ago] ('ZH_2', \"Unite 1: Comment t'appelles-tu?\", \"A l'oral: Savoir se presenter et presenter quelqu'un\\nParler de sa nationalite\\nA l'ecrit: 19 caracteres\", 'A1')\n"
     ]
    },
    {
     "name": "stdout",
     "output_type": "stream",
     "text": [
      "2025-07-04 22:09:39,811 INFO sqlalchemy.engine.Engine ROLLBACK\n"
     ]
    },
    {
     "name": "stderr",
     "output_type": "stream",
     "text": [
      "INFO:sqlalchemy.engine.Engine:ROLLBACK\n",
      "WARNING:langvault.dbms:Insert failed: (sqlite3.IntegrityError) UNIQUE constraint failed: units.unit_id\n",
      "[SQL: INSERT INTO units (unit_id, title, description, level) VALUES (?, ?, ?, ?)]\n",
      "[parameters: ('ZH_2', \"Unite 1: Comment t'appelles-tu?\", \"A l'oral: Savoir se presenter et presenter quelqu'un\\nParler de sa nationalite\\nA l'ecrit: 19 caracteres\", 'A1')]\n",
      "(Background on this error at: https://sqlalche.me/e/20/gkpj). Attempting to modify an existing record.\n"
     ]
    },
    {
     "name": "stdout",
     "output_type": "stream",
     "text": [
      "2025-07-04 22:09:39,813 INFO sqlalchemy.engine.Engine BEGIN (implicit)\n"
     ]
    },
    {
     "name": "stderr",
     "output_type": "stream",
     "text": [
      "INFO:sqlalchemy.engine.Engine:BEGIN (implicit)\n"
     ]
    },
    {
     "name": "stdout",
     "output_type": "stream",
     "text": [
      "2025-07-04 22:09:39,813 INFO sqlalchemy.engine.Engine SELECT units.unit_id AS units_unit_id, units.title AS units_title, units.description AS units_description, units.level AS units_level \n",
      "FROM units \n",
      "WHERE units.unit_id = ?\n",
      " LIMIT ? OFFSET ?\n"
     ]
    },
    {
     "name": "stderr",
     "output_type": "stream",
     "text": [
      "INFO:sqlalchemy.engine.Engine:SELECT units.unit_id AS units_unit_id, units.title AS units_title, units.description AS units_description, units.level AS units_level \n",
      "FROM units \n",
      "WHERE units.unit_id = ?\n",
      " LIMIT ? OFFSET ?\n"
     ]
    },
    {
     "name": "stdout",
     "output_type": "stream",
     "text": [
      "2025-07-04 22:09:39,814 INFO sqlalchemy.engine.Engine [cached since 0.009007s ago] ('ZH_2', 1, 0)\n"
     ]
    },
    {
     "name": "stderr",
     "output_type": "stream",
     "text": [
      "INFO:sqlalchemy.engine.Engine:[cached since 0.009007s ago] ('ZH_2', 1, 0)\n"
     ]
    },
    {
     "name": "stdout",
     "output_type": "stream",
     "text": [
      "2025-07-04 22:09:39,814 INFO sqlalchemy.engine.Engine COMMIT\n"
     ]
    },
    {
     "name": "stderr",
     "output_type": "stream",
     "text": [
      "INFO:sqlalchemy.engine.Engine:COMMIT\n"
     ]
    },
    {
     "name": "stdout",
     "output_type": "stream",
     "text": [
      "2025-07-04 22:09:39,815 INFO sqlalchemy.engine.Engine BEGIN (implicit)\n"
     ]
    },
    {
     "name": "stderr",
     "output_type": "stream",
     "text": [
      "INFO:sqlalchemy.engine.Engine:BEGIN (implicit)\n"
     ]
    },
    {
     "name": "stdout",
     "output_type": "stream",
     "text": [
      "2025-07-04 22:09:39,815 INFO sqlalchemy.engine.Engine INSERT INTO units (unit_id, title, description, level) VALUES (?, ?, ?, ?)\n"
     ]
    },
    {
     "name": "stderr",
     "output_type": "stream",
     "text": [
      "INFO:sqlalchemy.engine.Engine:INSERT INTO units (unit_id, title, description, level) VALUES (?, ?, ?, ?)\n"
     ]
    },
    {
     "name": "stdout",
     "output_type": "stream",
     "text": [
      "2025-07-04 22:09:39,816 INFO sqlalchemy.engine.Engine [cached since 0.01952s ago] ('ZH_3', 'Unite 2: Un, deux, trois', \"A l'oral: Compter de 1 a 9999\\nSavoir enumerer des objets\\nA l'ecrit: 19 caracteres\", 'A1')\n"
     ]
    },
    {
     "name": "stderr",
     "output_type": "stream",
     "text": [
      "INFO:sqlalchemy.engine.Engine:[cached since 0.01952s ago] ('ZH_3', 'Unite 2: Un, deux, trois', \"A l'oral: Compter de 1 a 9999\\nSavoir enumerer des objets\\nA l'ecrit: 19 caracteres\", 'A1')\n"
     ]
    },
    {
     "name": "stdout",
     "output_type": "stream",
     "text": [
      "2025-07-04 22:09:39,817 INFO sqlalchemy.engine.Engine ROLLBACK\n"
     ]
    },
    {
     "name": "stderr",
     "output_type": "stream",
     "text": [
      "INFO:sqlalchemy.engine.Engine:ROLLBACK\n",
      "WARNING:langvault.dbms:Insert failed: (sqlite3.IntegrityError) UNIQUE constraint failed: units.unit_id\n",
      "[SQL: INSERT INTO units (unit_id, title, description, level) VALUES (?, ?, ?, ?)]\n",
      "[parameters: ('ZH_3', 'Unite 2: Un, deux, trois', \"A l'oral: Compter de 1 a 9999\\nSavoir enumerer des objets\\nA l'ecrit: 19 caracteres\", 'A1')]\n",
      "(Background on this error at: https://sqlalche.me/e/20/gkpj). Attempting to modify an existing record.\n"
     ]
    },
    {
     "name": "stdout",
     "output_type": "stream",
     "text": [
      "2025-07-04 22:09:39,818 INFO sqlalchemy.engine.Engine BEGIN (implicit)\n"
     ]
    },
    {
     "name": "stderr",
     "output_type": "stream",
     "text": [
      "INFO:sqlalchemy.engine.Engine:BEGIN (implicit)\n"
     ]
    },
    {
     "name": "stdout",
     "output_type": "stream",
     "text": [
      "2025-07-04 22:09:39,819 INFO sqlalchemy.engine.Engine SELECT units.unit_id AS units_unit_id, units.title AS units_title, units.description AS units_description, units.level AS units_level \n",
      "FROM units \n",
      "WHERE units.unit_id = ?\n",
      " LIMIT ? OFFSET ?\n"
     ]
    },
    {
     "name": "stderr",
     "output_type": "stream",
     "text": [
      "INFO:sqlalchemy.engine.Engine:SELECT units.unit_id AS units_unit_id, units.title AS units_title, units.description AS units_description, units.level AS units_level \n",
      "FROM units \n",
      "WHERE units.unit_id = ?\n",
      " LIMIT ? OFFSET ?\n"
     ]
    },
    {
     "name": "stdout",
     "output_type": "stream",
     "text": [
      "2025-07-04 22:09:39,820 INFO sqlalchemy.engine.Engine [cached since 0.01509s ago] ('ZH_3', 1, 0)\n"
     ]
    },
    {
     "name": "stderr",
     "output_type": "stream",
     "text": [
      "INFO:sqlalchemy.engine.Engine:[cached since 0.01509s ago] ('ZH_3', 1, 0)\n"
     ]
    },
    {
     "name": "stdout",
     "output_type": "stream",
     "text": [
      "2025-07-04 22:09:39,820 INFO sqlalchemy.engine.Engine UPDATE units SET level=? WHERE units.unit_id = ?\n"
     ]
    },
    {
     "name": "stderr",
     "output_type": "stream",
     "text": [
      "INFO:sqlalchemy.engine.Engine:UPDATE units SET level=? WHERE units.unit_id = ?\n"
     ]
    },
    {
     "name": "stdout",
     "output_type": "stream",
     "text": [
      "2025-07-04 22:09:39,821 INFO sqlalchemy.engine.Engine [generated in 0.00023s] ('A1', 'ZH_3')\n"
     ]
    },
    {
     "name": "stderr",
     "output_type": "stream",
     "text": [
      "INFO:sqlalchemy.engine.Engine:[generated in 0.00023s] ('A1', 'ZH_3')\n"
     ]
    },
    {
     "name": "stdout",
     "output_type": "stream",
     "text": [
      "2025-07-04 22:09:39,821 INFO sqlalchemy.engine.Engine COMMIT\n"
     ]
    },
    {
     "name": "stderr",
     "output_type": "stream",
     "text": [
      "INFO:sqlalchemy.engine.Engine:COMMIT\n"
     ]
    },
    {
     "name": "stdout",
     "output_type": "stream",
     "text": [
      "2025-07-04 22:09:39,822 INFO sqlalchemy.engine.Engine BEGIN (implicit)\n"
     ]
    },
    {
     "name": "stderr",
     "output_type": "stream",
     "text": [
      "INFO:sqlalchemy.engine.Engine:BEGIN (implicit)\n"
     ]
    },
    {
     "name": "stdout",
     "output_type": "stream",
     "text": [
      "2025-07-04 22:09:39,822 INFO sqlalchemy.engine.Engine INSERT INTO units (unit_id, title, description, level) VALUES (?, ?, ?, ?)\n"
     ]
    },
    {
     "name": "stderr",
     "output_type": "stream",
     "text": [
      "INFO:sqlalchemy.engine.Engine:INSERT INTO units (unit_id, title, description, level) VALUES (?, ?, ?, ?)\n"
     ]
    },
    {
     "name": "stdout",
     "output_type": "stream",
     "text": [
      "2025-07-04 22:09:39,822 INFO sqlalchemy.engine.Engine [cached since 0.02634s ago] ('ZH_4', \"Unite 3: Aujourd'hui\", \"A l'oral: Savoir annoncer la date\\nParler des moments de la journee et de l'heure\\nA l'ecrit: 17 caracteres\", 'A1')\n"
     ]
    },
    {
     "name": "stderr",
     "output_type": "stream",
     "text": [
      "INFO:sqlalchemy.engine.Engine:[cached since 0.02634s ago] ('ZH_4', \"Unite 3: Aujourd'hui\", \"A l'oral: Savoir annoncer la date\\nParler des moments de la journee et de l'heure\\nA l'ecrit: 17 caracteres\", 'A1')\n"
     ]
    },
    {
     "name": "stdout",
     "output_type": "stream",
     "text": [
      "2025-07-04 22:09:39,823 INFO sqlalchemy.engine.Engine COMMIT\n"
     ]
    },
    {
     "name": "stderr",
     "output_type": "stream",
     "text": [
      "INFO:sqlalchemy.engine.Engine:COMMIT\n"
     ]
    },
    {
     "name": "stdout",
     "output_type": "stream",
     "text": [
      "2025-07-04 22:09:39,823 INFO sqlalchemy.engine.Engine BEGIN (implicit)\n"
     ]
    },
    {
     "name": "stderr",
     "output_type": "stream",
     "text": [
      "INFO:sqlalchemy.engine.Engine:BEGIN (implicit)\n"
     ]
    },
    {
     "name": "stdout",
     "output_type": "stream",
     "text": [
      "2025-07-04 22:09:39,824 INFO sqlalchemy.engine.Engine INSERT INTO units (unit_id, title, description, level) VALUES (?, ?, ?, ?)\n"
     ]
    },
    {
     "name": "stderr",
     "output_type": "stream",
     "text": [
      "INFO:sqlalchemy.engine.Engine:INSERT INTO units (unit_id, title, description, level) VALUES (?, ?, ?, ?)\n"
     ]
    },
    {
     "name": "stdout",
     "output_type": "stream",
     "text": [
      "2025-07-04 22:09:39,824 INFO sqlalchemy.engine.Engine [cached since 0.02778s ago] ('ZH_5', 'Unite 4: Ou allons-nous?', \"A l'oral: Parler d'un evenement passe, d'une experience\\nPouvoir se situer, parler ou l'on est, ou l'on va\\nA l'ecrit: 17 caracteres\", 'A1')\n"
     ]
    },
    {
     "name": "stderr",
     "output_type": "stream",
     "text": [
      "INFO:sqlalchemy.engine.Engine:[cached since 0.02778s ago] ('ZH_5', 'Unite 4: Ou allons-nous?', \"A l'oral: Parler d'un evenement passe, d'une experience\\nPouvoir se situer, parler ou l'on est, ou l'on va\\nA l'ecrit: 17 caracteres\", 'A1')\n"
     ]
    },
    {
     "name": "stdout",
     "output_type": "stream",
     "text": [
      "2025-07-04 22:09:39,824 INFO sqlalchemy.engine.Engine ROLLBACK\n"
     ]
    },
    {
     "name": "stderr",
     "output_type": "stream",
     "text": [
      "INFO:sqlalchemy.engine.Engine:ROLLBACK\n",
      "WARNING:langvault.dbms:Insert failed: (sqlite3.IntegrityError) UNIQUE constraint failed: units.unit_id\n",
      "[SQL: INSERT INTO units (unit_id, title, description, level) VALUES (?, ?, ?, ?)]\n",
      "[parameters: ('ZH_5', 'Unite 4: Ou allons-nous?', \"A l'oral: Parler d'un evenement passe, d'une experience\\nPouvoir se situer, parler ou l'on est, ou l'on va\\nA l'ecrit: 17 caracteres\", 'A1')]\n",
      "(Background on this error at: https://sqlalche.me/e/20/gkpj). Attempting to modify an existing record.\n"
     ]
    },
    {
     "name": "stdout",
     "output_type": "stream",
     "text": [
      "2025-07-04 22:09:39,825 INFO sqlalchemy.engine.Engine BEGIN (implicit)\n"
     ]
    },
    {
     "name": "stderr",
     "output_type": "stream",
     "text": [
      "INFO:sqlalchemy.engine.Engine:BEGIN (implicit)\n"
     ]
    },
    {
     "name": "stdout",
     "output_type": "stream",
     "text": [
      "2025-07-04 22:09:39,825 INFO sqlalchemy.engine.Engine SELECT units.unit_id AS units_unit_id, units.title AS units_title, units.description AS units_description, units.level AS units_level \n",
      "FROM units \n",
      "WHERE units.unit_id = ?\n",
      " LIMIT ? OFFSET ?\n"
     ]
    },
    {
     "name": "stderr",
     "output_type": "stream",
     "text": [
      "INFO:sqlalchemy.engine.Engine:SELECT units.unit_id AS units_unit_id, units.title AS units_title, units.description AS units_description, units.level AS units_level \n",
      "FROM units \n",
      "WHERE units.unit_id = ?\n",
      " LIMIT ? OFFSET ?\n"
     ]
    },
    {
     "name": "stdout",
     "output_type": "stream",
     "text": [
      "2025-07-04 22:09:39,825 INFO sqlalchemy.engine.Engine [cached since 0.02083s ago] ('ZH_5', 1, 0)\n"
     ]
    },
    {
     "name": "stderr",
     "output_type": "stream",
     "text": [
      "INFO:sqlalchemy.engine.Engine:[cached since 0.02083s ago] ('ZH_5', 1, 0)\n"
     ]
    },
    {
     "name": "stdout",
     "output_type": "stream",
     "text": [
      "2025-07-04 22:09:39,826 INFO sqlalchemy.engine.Engine COMMIT\n"
     ]
    },
    {
     "name": "stderr",
     "output_type": "stream",
     "text": [
      "INFO:sqlalchemy.engine.Engine:COMMIT\n"
     ]
    },
    {
     "name": "stdout",
     "output_type": "stream",
     "text": [
      "2025-07-04 22:09:39,826 INFO sqlalchemy.engine.Engine BEGIN (implicit)\n"
     ]
    },
    {
     "name": "stderr",
     "output_type": "stream",
     "text": [
      "INFO:sqlalchemy.engine.Engine:BEGIN (implicit)\n"
     ]
    },
    {
     "name": "stdout",
     "output_type": "stream",
     "text": [
      "2025-07-04 22:09:39,826 INFO sqlalchemy.engine.Engine INSERT INTO units (unit_id, title, description, level) VALUES (?, ?, ?, ?)\n"
     ]
    },
    {
     "name": "stderr",
     "output_type": "stream",
     "text": [
      "INFO:sqlalchemy.engine.Engine:INSERT INTO units (unit_id, title, description, level) VALUES (?, ?, ?, ?)\n"
     ]
    },
    {
     "name": "stdout",
     "output_type": "stream",
     "text": [
      "2025-07-04 22:09:39,826 INFO sqlalchemy.engine.Engine [cached since 0.03022s ago] ('ZH_6', 'Unite 5: Je ne suis pas vieux', \"A l'oral: Decrire quelqu'un ou quelque chose\\nUtilise les adjectifs\\nA l'ecrit: 17 caracteres\", 'A1')\n"
     ]
    },
    {
     "name": "stderr",
     "output_type": "stream",
     "text": [
      "INFO:sqlalchemy.engine.Engine:[cached since 0.03022s ago] ('ZH_6', 'Unite 5: Je ne suis pas vieux', \"A l'oral: Decrire quelqu'un ou quelque chose\\nUtilise les adjectifs\\nA l'ecrit: 17 caracteres\", 'A1')\n"
     ]
    },
    {
     "name": "stdout",
     "output_type": "stream",
     "text": [
      "2025-07-04 22:09:39,827 INFO sqlalchemy.engine.Engine ROLLBACK\n"
     ]
    },
    {
     "name": "stderr",
     "output_type": "stream",
     "text": [
      "INFO:sqlalchemy.engine.Engine:ROLLBACK\n",
      "WARNING:langvault.dbms:Insert failed: (sqlite3.IntegrityError) UNIQUE constraint failed: units.unit_id\n",
      "[SQL: INSERT INTO units (unit_id, title, description, level) VALUES (?, ?, ?, ?)]\n",
      "[parameters: ('ZH_6', 'Unite 5: Je ne suis pas vieux', \"A l'oral: Decrire quelqu'un ou quelque chose\\nUtilise les adjectifs\\nA l'ecrit: 17 caracteres\", 'A1')]\n",
      "(Background on this error at: https://sqlalche.me/e/20/gkpj). Attempting to modify an existing record.\n"
     ]
    },
    {
     "name": "stdout",
     "output_type": "stream",
     "text": [
      "2025-07-04 22:09:39,827 INFO sqlalchemy.engine.Engine BEGIN (implicit)\n"
     ]
    },
    {
     "name": "stderr",
     "output_type": "stream",
     "text": [
      "INFO:sqlalchemy.engine.Engine:BEGIN (implicit)\n"
     ]
    },
    {
     "name": "stdout",
     "output_type": "stream",
     "text": [
      "2025-07-04 22:09:39,827 INFO sqlalchemy.engine.Engine SELECT units.unit_id AS units_unit_id, units.title AS units_title, units.description AS units_description, units.level AS units_level \n",
      "FROM units \n",
      "WHERE units.unit_id = ?\n",
      " LIMIT ? OFFSET ?\n"
     ]
    },
    {
     "name": "stderr",
     "output_type": "stream",
     "text": [
      "INFO:sqlalchemy.engine.Engine:SELECT units.unit_id AS units_unit_id, units.title AS units_title, units.description AS units_description, units.level AS units_level \n",
      "FROM units \n",
      "WHERE units.unit_id = ?\n",
      " LIMIT ? OFFSET ?\n"
     ]
    },
    {
     "name": "stdout",
     "output_type": "stream",
     "text": [
      "2025-07-04 22:09:39,827 INFO sqlalchemy.engine.Engine [cached since 0.02296s ago] ('ZH_6', 1, 0)\n"
     ]
    },
    {
     "name": "stderr",
     "output_type": "stream",
     "text": [
      "INFO:sqlalchemy.engine.Engine:[cached since 0.02296s ago] ('ZH_6', 1, 0)\n"
     ]
    },
    {
     "name": "stdout",
     "output_type": "stream",
     "text": [
      "2025-07-04 22:09:39,828 INFO sqlalchemy.engine.Engine COMMIT\n"
     ]
    },
    {
     "name": "stderr",
     "output_type": "stream",
     "text": [
      "INFO:sqlalchemy.engine.Engine:COMMIT\n"
     ]
    },
    {
     "name": "stdout",
     "output_type": "stream",
     "text": [
      "2025-07-04 22:09:39,828 INFO sqlalchemy.engine.Engine BEGIN (implicit)\n"
     ]
    },
    {
     "name": "stderr",
     "output_type": "stream",
     "text": [
      "INFO:sqlalchemy.engine.Engine:BEGIN (implicit)\n"
     ]
    },
    {
     "name": "stdout",
     "output_type": "stream",
     "text": [
      "2025-07-04 22:09:39,828 INFO sqlalchemy.engine.Engine INSERT INTO units (unit_id, title, description, level) VALUES (?, ?, ?, ?)\n"
     ]
    },
    {
     "name": "stderr",
     "output_type": "stream",
     "text": [
      "INFO:sqlalchemy.engine.Engine:INSERT INTO units (unit_id, title, description, level) VALUES (?, ?, ?, ?)\n"
     ]
    },
    {
     "name": "stdout",
     "output_type": "stream",
     "text": [
      "2025-07-04 22:09:39,829 INFO sqlalchemy.engine.Engine [cached since 0.03239s ago] ('ZH_7', 'Unite 6: Ma famille', \"A l'oral: Pouvoir presenter sa famille\\nUtilise les demonstratifs\\nA l'ecrit: 22 caracteres\", 'A1')\n"
     ]
    },
    {
     "name": "stderr",
     "output_type": "stream",
     "text": [
      "INFO:sqlalchemy.engine.Engine:[cached since 0.03239s ago] ('ZH_7', 'Unite 6: Ma famille', \"A l'oral: Pouvoir presenter sa famille\\nUtilise les demonstratifs\\nA l'ecrit: 22 caracteres\", 'A1')\n"
     ]
    },
    {
     "name": "stdout",
     "output_type": "stream",
     "text": [
      "2025-07-04 22:09:39,829 INFO sqlalchemy.engine.Engine ROLLBACK\n"
     ]
    },
    {
     "name": "stderr",
     "output_type": "stream",
     "text": [
      "INFO:sqlalchemy.engine.Engine:ROLLBACK\n",
      "WARNING:langvault.dbms:Insert failed: (sqlite3.IntegrityError) UNIQUE constraint failed: units.unit_id\n",
      "[SQL: INSERT INTO units (unit_id, title, description, level) VALUES (?, ?, ?, ?)]\n",
      "[parameters: ('ZH_7', 'Unite 6: Ma famille', \"A l'oral: Pouvoir presenter sa famille\\nUtilise les demonstratifs\\nA l'ecrit: 22 caracteres\", 'A1')]\n",
      "(Background on this error at: https://sqlalche.me/e/20/gkpj). Attempting to modify an existing record.\n"
     ]
    },
    {
     "name": "stdout",
     "output_type": "stream",
     "text": [
      "2025-07-04 22:09:39,829 INFO sqlalchemy.engine.Engine BEGIN (implicit)\n"
     ]
    },
    {
     "name": "stderr",
     "output_type": "stream",
     "text": [
      "INFO:sqlalchemy.engine.Engine:BEGIN (implicit)\n"
     ]
    },
    {
     "name": "stdout",
     "output_type": "stream",
     "text": [
      "2025-07-04 22:09:39,829 INFO sqlalchemy.engine.Engine SELECT units.unit_id AS units_unit_id, units.title AS units_title, units.description AS units_description, units.level AS units_level \n",
      "FROM units \n",
      "WHERE units.unit_id = ?\n",
      " LIMIT ? OFFSET ?\n"
     ]
    },
    {
     "name": "stderr",
     "output_type": "stream",
     "text": [
      "INFO:sqlalchemy.engine.Engine:SELECT units.unit_id AS units_unit_id, units.title AS units_title, units.description AS units_description, units.level AS units_level \n",
      "FROM units \n",
      "WHERE units.unit_id = ?\n",
      " LIMIT ? OFFSET ?\n"
     ]
    },
    {
     "name": "stdout",
     "output_type": "stream",
     "text": [
      "2025-07-04 22:09:39,830 INFO sqlalchemy.engine.Engine [cached since 0.02511s ago] ('ZH_7', 1, 0)\n"
     ]
    },
    {
     "name": "stderr",
     "output_type": "stream",
     "text": [
      "INFO:sqlalchemy.engine.Engine:[cached since 0.02511s ago] ('ZH_7', 1, 0)\n"
     ]
    },
    {
     "name": "stdout",
     "output_type": "stream",
     "text": [
      "2025-07-04 22:09:39,830 INFO sqlalchemy.engine.Engine COMMIT\n"
     ]
    },
    {
     "name": "stderr",
     "output_type": "stream",
     "text": [
      "INFO:sqlalchemy.engine.Engine:COMMIT\n"
     ]
    },
    {
     "name": "stdout",
     "output_type": "stream",
     "text": [
      "2025-07-04 22:09:39,830 INFO sqlalchemy.engine.Engine BEGIN (implicit)\n"
     ]
    },
    {
     "name": "stderr",
     "output_type": "stream",
     "text": [
      "INFO:sqlalchemy.engine.Engine:BEGIN (implicit)\n"
     ]
    },
    {
     "name": "stdout",
     "output_type": "stream",
     "text": [
      "2025-07-04 22:09:39,830 INFO sqlalchemy.engine.Engine INSERT INTO units (unit_id, title, description, level) VALUES (?, ?, ?, ?)\n"
     ]
    },
    {
     "name": "stderr",
     "output_type": "stream",
     "text": [
      "INFO:sqlalchemy.engine.Engine:INSERT INTO units (unit_id, title, description, level) VALUES (?, ?, ?, ?)\n"
     ]
    },
    {
     "name": "stdout",
     "output_type": "stream",
     "text": [
      "2025-07-04 22:09:39,831 INFO sqlalchemy.engine.Engine [cached since 0.03453s ago] ('ZH_8', 'Unite 7: Mes amis', \"A l'oral: Parler des ses amis\\nParler des langues etrangeres\\nComparer des gens ou des objets\\nA l'ecrit: 18 caracteres\", 'A1')\n"
     ]
    },
    {
     "name": "stderr",
     "output_type": "stream",
     "text": [
      "INFO:sqlalchemy.engine.Engine:[cached since 0.03453s ago] ('ZH_8', 'Unite 7: Mes amis', \"A l'oral: Parler des ses amis\\nParler des langues etrangeres\\nComparer des gens ou des objets\\nA l'ecrit: 18 caracteres\", 'A1')\n"
     ]
    },
    {
     "name": "stdout",
     "output_type": "stream",
     "text": [
      "2025-07-04 22:09:39,831 INFO sqlalchemy.engine.Engine ROLLBACK\n"
     ]
    },
    {
     "name": "stderr",
     "output_type": "stream",
     "text": [
      "INFO:sqlalchemy.engine.Engine:ROLLBACK\n",
      "WARNING:langvault.dbms:Insert failed: (sqlite3.IntegrityError) UNIQUE constraint failed: units.unit_id\n",
      "[SQL: INSERT INTO units (unit_id, title, description, level) VALUES (?, ?, ?, ?)]\n",
      "[parameters: ('ZH_8', 'Unite 7: Mes amis', \"A l'oral: Parler des ses amis\\nParler des langues etrangeres\\nComparer des gens ou des objets\\nA l'ecrit: 18 caracteres\", 'A1')]\n",
      "(Background on this error at: https://sqlalche.me/e/20/gkpj). Attempting to modify an existing record.\n"
     ]
    },
    {
     "name": "stdout",
     "output_type": "stream",
     "text": [
      "2025-07-04 22:09:39,831 INFO sqlalchemy.engine.Engine BEGIN (implicit)\n"
     ]
    },
    {
     "name": "stderr",
     "output_type": "stream",
     "text": [
      "INFO:sqlalchemy.engine.Engine:BEGIN (implicit)\n"
     ]
    },
    {
     "name": "stdout",
     "output_type": "stream",
     "text": [
      "2025-07-04 22:09:39,832 INFO sqlalchemy.engine.Engine SELECT units.unit_id AS units_unit_id, units.title AS units_title, units.description AS units_description, units.level AS units_level \n",
      "FROM units \n",
      "WHERE units.unit_id = ?\n",
      " LIMIT ? OFFSET ?\n"
     ]
    },
    {
     "name": "stderr",
     "output_type": "stream",
     "text": [
      "INFO:sqlalchemy.engine.Engine:SELECT units.unit_id AS units_unit_id, units.title AS units_title, units.description AS units_description, units.level AS units_level \n",
      "FROM units \n",
      "WHERE units.unit_id = ?\n",
      " LIMIT ? OFFSET ?\n"
     ]
    },
    {
     "name": "stdout",
     "output_type": "stream",
     "text": [
      "2025-07-04 22:09:39,832 INFO sqlalchemy.engine.Engine [cached since 0.02732s ago] ('ZH_8', 1, 0)\n"
     ]
    },
    {
     "name": "stderr",
     "output_type": "stream",
     "text": [
      "INFO:sqlalchemy.engine.Engine:[cached since 0.02732s ago] ('ZH_8', 1, 0)\n"
     ]
    },
    {
     "name": "stdout",
     "output_type": "stream",
     "text": [
      "2025-07-04 22:09:39,832 INFO sqlalchemy.engine.Engine COMMIT\n"
     ]
    },
    {
     "name": "stderr",
     "output_type": "stream",
     "text": [
      "INFO:sqlalchemy.engine.Engine:COMMIT\n"
     ]
    },
    {
     "name": "stdout",
     "output_type": "stream",
     "text": [
      "2025-07-04 22:09:39,832 INFO sqlalchemy.engine.Engine BEGIN (implicit)\n"
     ]
    },
    {
     "name": "stderr",
     "output_type": "stream",
     "text": [
      "INFO:sqlalchemy.engine.Engine:BEGIN (implicit)\n"
     ]
    },
    {
     "name": "stdout",
     "output_type": "stream",
     "text": [
      "2025-07-04 22:09:39,833 INFO sqlalchemy.engine.Engine INSERT INTO units (unit_id, title, description, level) VALUES (?, ?, ?, ?)\n"
     ]
    },
    {
     "name": "stderr",
     "output_type": "stream",
     "text": [
      "INFO:sqlalchemy.engine.Engine:INSERT INTO units (unit_id, title, description, level) VALUES (?, ?, ?, ?)\n"
     ]
    },
    {
     "name": "stdout",
     "output_type": "stream",
     "text": [
      "2025-07-04 22:09:39,833 INFO sqlalchemy.engine.Engine [cached since 0.03676s ago] ('ZH_9', \"Unite 8: Qu'aimes-tu faire?\", \"A l'oral: Parler de ses activites favorites\\nInterroger sur la maniere\\nA l'ecrit: 16 caracteres\", 'A2')\n"
     ]
    },
    {
     "name": "stderr",
     "output_type": "stream",
     "text": [
      "INFO:sqlalchemy.engine.Engine:[cached since 0.03676s ago] ('ZH_9', \"Unite 8: Qu'aimes-tu faire?\", \"A l'oral: Parler de ses activites favorites\\nInterroger sur la maniere\\nA l'ecrit: 16 caracteres\", 'A2')\n"
     ]
    },
    {
     "name": "stdout",
     "output_type": "stream",
     "text": [
      "2025-07-04 22:09:39,833 INFO sqlalchemy.engine.Engine ROLLBACK\n"
     ]
    },
    {
     "name": "stderr",
     "output_type": "stream",
     "text": [
      "INFO:sqlalchemy.engine.Engine:ROLLBACK\n",
      "WARNING:langvault.dbms:Insert failed: (sqlite3.IntegrityError) UNIQUE constraint failed: units.unit_id\n",
      "[SQL: INSERT INTO units (unit_id, title, description, level) VALUES (?, ?, ?, ?)]\n",
      "[parameters: ('ZH_9', \"Unite 8: Qu'aimes-tu faire?\", \"A l'oral: Parler de ses activites favorites\\nInterroger sur la maniere\\nA l'ecrit: 16 caracteres\", 'A2')]\n",
      "(Background on this error at: https://sqlalche.me/e/20/gkpj). Attempting to modify an existing record.\n"
     ]
    },
    {
     "name": "stdout",
     "output_type": "stream",
     "text": [
      "2025-07-04 22:09:39,834 INFO sqlalchemy.engine.Engine BEGIN (implicit)\n"
     ]
    },
    {
     "name": "stderr",
     "output_type": "stream",
     "text": [
      "INFO:sqlalchemy.engine.Engine:BEGIN (implicit)\n"
     ]
    },
    {
     "name": "stdout",
     "output_type": "stream",
     "text": [
      "2025-07-04 22:09:39,834 INFO sqlalchemy.engine.Engine SELECT units.unit_id AS units_unit_id, units.title AS units_title, units.description AS units_description, units.level AS units_level \n",
      "FROM units \n",
      "WHERE units.unit_id = ?\n",
      " LIMIT ? OFFSET ?\n"
     ]
    },
    {
     "name": "stderr",
     "output_type": "stream",
     "text": [
      "INFO:sqlalchemy.engine.Engine:SELECT units.unit_id AS units_unit_id, units.title AS units_title, units.description AS units_description, units.level AS units_level \n",
      "FROM units \n",
      "WHERE units.unit_id = ?\n",
      " LIMIT ? OFFSET ?\n"
     ]
    },
    {
     "name": "stdout",
     "output_type": "stream",
     "text": [
      "2025-07-04 22:09:39,834 INFO sqlalchemy.engine.Engine [cached since 0.02959s ago] ('ZH_9', 1, 0)\n"
     ]
    },
    {
     "name": "stderr",
     "output_type": "stream",
     "text": [
      "INFO:sqlalchemy.engine.Engine:[cached since 0.02959s ago] ('ZH_9', 1, 0)\n"
     ]
    },
    {
     "name": "stdout",
     "output_type": "stream",
     "text": [
      "2025-07-04 22:09:39,834 INFO sqlalchemy.engine.Engine COMMIT\n"
     ]
    },
    {
     "name": "stderr",
     "output_type": "stream",
     "text": [
      "INFO:sqlalchemy.engine.Engine:COMMIT\n"
     ]
    },
    {
     "name": "stdout",
     "output_type": "stream",
     "text": [
      "2025-07-04 22:09:39,835 INFO sqlalchemy.engine.Engine BEGIN (implicit)\n"
     ]
    },
    {
     "name": "stderr",
     "output_type": "stream",
     "text": [
      "INFO:sqlalchemy.engine.Engine:BEGIN (implicit)\n"
     ]
    },
    {
     "name": "stdout",
     "output_type": "stream",
     "text": [
      "2025-07-04 22:09:39,835 INFO sqlalchemy.engine.Engine INSERT INTO units (unit_id, title, description, level) VALUES (?, ?, ?, ?)\n"
     ]
    },
    {
     "name": "stderr",
     "output_type": "stream",
     "text": [
      "INFO:sqlalchemy.engine.Engine:INSERT INTO units (unit_id, title, description, level) VALUES (?, ?, ?, ?)\n"
     ]
    },
    {
     "name": "stdout",
     "output_type": "stream",
     "text": [
      "2025-07-04 22:09:39,835 INFO sqlalchemy.engine.Engine [cached since 0.0391s ago] ('ZH_10', 'Unite 9: Une journee classique', \"A l'oral: Raconter sa journee\\nParler des differents moyens de transport\\nA l'ecrit: 16 caracteres\", 'A2')\n"
     ]
    },
    {
     "name": "stderr",
     "output_type": "stream",
     "text": [
      "INFO:sqlalchemy.engine.Engine:[cached since 0.0391s ago] ('ZH_10', 'Unite 9: Une journee classique', \"A l'oral: Raconter sa journee\\nParler des differents moyens de transport\\nA l'ecrit: 16 caracteres\", 'A2')\n"
     ]
    },
    {
     "name": "stdout",
     "output_type": "stream",
     "text": [
      "2025-07-04 22:09:39,836 INFO sqlalchemy.engine.Engine ROLLBACK\n"
     ]
    },
    {
     "name": "stderr",
     "output_type": "stream",
     "text": [
      "INFO:sqlalchemy.engine.Engine:ROLLBACK\n",
      "WARNING:langvault.dbms:Insert failed: (sqlite3.IntegrityError) UNIQUE constraint failed: units.unit_id\n",
      "[SQL: INSERT INTO units (unit_id, title, description, level) VALUES (?, ?, ?, ?)]\n",
      "[parameters: ('ZH_10', 'Unite 9: Une journee classique', \"A l'oral: Raconter sa journee\\nParler des differents moyens de transport\\nA l'ecrit: 16 caracteres\", 'A2')]\n",
      "(Background on this error at: https://sqlalche.me/e/20/gkpj). Attempting to modify an existing record.\n"
     ]
    },
    {
     "name": "stdout",
     "output_type": "stream",
     "text": [
      "2025-07-04 22:09:39,836 INFO sqlalchemy.engine.Engine BEGIN (implicit)\n"
     ]
    },
    {
     "name": "stderr",
     "output_type": "stream",
     "text": [
      "INFO:sqlalchemy.engine.Engine:BEGIN (implicit)\n"
     ]
    },
    {
     "name": "stdout",
     "output_type": "stream",
     "text": [
      "2025-07-04 22:09:39,836 INFO sqlalchemy.engine.Engine SELECT units.unit_id AS units_unit_id, units.title AS units_title, units.description AS units_description, units.level AS units_level \n",
      "FROM units \n",
      "WHERE units.unit_id = ?\n",
      " LIMIT ? OFFSET ?\n"
     ]
    },
    {
     "name": "stderr",
     "output_type": "stream",
     "text": [
      "INFO:sqlalchemy.engine.Engine:SELECT units.unit_id AS units_unit_id, units.title AS units_title, units.description AS units_description, units.level AS units_level \n",
      "FROM units \n",
      "WHERE units.unit_id = ?\n",
      " LIMIT ? OFFSET ?\n"
     ]
    },
    {
     "name": "stdout",
     "output_type": "stream",
     "text": [
      "2025-07-04 22:09:39,837 INFO sqlalchemy.engine.Engine [cached since 0.03209s ago] ('ZH_10', 1, 0)\n"
     ]
    },
    {
     "name": "stderr",
     "output_type": "stream",
     "text": [
      "INFO:sqlalchemy.engine.Engine:[cached since 0.03209s ago] ('ZH_10', 1, 0)\n"
     ]
    },
    {
     "name": "stdout",
     "output_type": "stream",
     "text": [
      "2025-07-04 22:09:39,837 INFO sqlalchemy.engine.Engine COMMIT\n"
     ]
    },
    {
     "name": "stderr",
     "output_type": "stream",
     "text": [
      "INFO:sqlalchemy.engine.Engine:COMMIT\n"
     ]
    },
    {
     "name": "stdout",
     "output_type": "stream",
     "text": [
      "2025-07-04 22:09:39,837 INFO sqlalchemy.engine.Engine BEGIN (implicit)\n"
     ]
    },
    {
     "name": "stderr",
     "output_type": "stream",
     "text": [
      "INFO:sqlalchemy.engine.Engine:BEGIN (implicit)\n"
     ]
    },
    {
     "name": "stdout",
     "output_type": "stream",
     "text": [
      "2025-07-04 22:09:39,838 INFO sqlalchemy.engine.Engine INSERT INTO units (unit_id, title, description, level) VALUES (?, ?, ?, ?)\n"
     ]
    },
    {
     "name": "stderr",
     "output_type": "stream",
     "text": [
      "INFO:sqlalchemy.engine.Engine:INSERT INTO units (unit_id, title, description, level) VALUES (?, ?, ?, ?)\n"
     ]
    },
    {
     "name": "stdout",
     "output_type": "stream",
     "text": [
      "2025-07-04 22:09:39,838 INFO sqlalchemy.engine.Engine [cached since 0.04164s ago] ('ZH_11', 'Unite 10: Au travail', \"A l'oral: Parler du monde du travail\\nA l'ecrit: 18 caracteres\", 'A2')\n"
     ]
    },
    {
     "name": "stderr",
     "output_type": "stream",
     "text": [
      "INFO:sqlalchemy.engine.Engine:[cached since 0.04164s ago] ('ZH_11', 'Unite 10: Au travail', \"A l'oral: Parler du monde du travail\\nA l'ecrit: 18 caracteres\", 'A2')\n"
     ]
    },
    {
     "name": "stdout",
     "output_type": "stream",
     "text": [
      "2025-07-04 22:09:39,838 INFO sqlalchemy.engine.Engine ROLLBACK\n"
     ]
    },
    {
     "name": "stderr",
     "output_type": "stream",
     "text": [
      "INFO:sqlalchemy.engine.Engine:ROLLBACK\n",
      "WARNING:langvault.dbms:Insert failed: (sqlite3.IntegrityError) UNIQUE constraint failed: units.unit_id\n",
      "[SQL: INSERT INTO units (unit_id, title, description, level) VALUES (?, ?, ?, ?)]\n",
      "[parameters: ('ZH_11', 'Unite 10: Au travail', \"A l'oral: Parler du monde du travail\\nA l'ecrit: 18 caracteres\", 'A2')]\n",
      "(Background on this error at: https://sqlalche.me/e/20/gkpj). Attempting to modify an existing record.\n"
     ]
    },
    {
     "name": "stdout",
     "output_type": "stream",
     "text": [
      "2025-07-04 22:09:39,839 INFO sqlalchemy.engine.Engine BEGIN (implicit)\n"
     ]
    },
    {
     "name": "stderr",
     "output_type": "stream",
     "text": [
      "INFO:sqlalchemy.engine.Engine:BEGIN (implicit)\n"
     ]
    },
    {
     "name": "stdout",
     "output_type": "stream",
     "text": [
      "2025-07-04 22:09:39,839 INFO sqlalchemy.engine.Engine SELECT units.unit_id AS units_unit_id, units.title AS units_title, units.description AS units_description, units.level AS units_level \n",
      "FROM units \n",
      "WHERE units.unit_id = ?\n",
      " LIMIT ? OFFSET ?\n"
     ]
    },
    {
     "name": "stderr",
     "output_type": "stream",
     "text": [
      "INFO:sqlalchemy.engine.Engine:SELECT units.unit_id AS units_unit_id, units.title AS units_title, units.description AS units_description, units.level AS units_level \n",
      "FROM units \n",
      "WHERE units.unit_id = ?\n",
      " LIMIT ? OFFSET ?\n"
     ]
    },
    {
     "name": "stdout",
     "output_type": "stream",
     "text": [
      "2025-07-04 22:09:39,839 INFO sqlalchemy.engine.Engine [cached since 0.03451s ago] ('ZH_11', 1, 0)\n"
     ]
    },
    {
     "name": "stderr",
     "output_type": "stream",
     "text": [
      "INFO:sqlalchemy.engine.Engine:[cached since 0.03451s ago] ('ZH_11', 1, 0)\n"
     ]
    },
    {
     "name": "stdout",
     "output_type": "stream",
     "text": [
      "2025-07-04 22:09:39,839 INFO sqlalchemy.engine.Engine COMMIT\n"
     ]
    },
    {
     "name": "stderr",
     "output_type": "stream",
     "text": [
      "INFO:sqlalchemy.engine.Engine:COMMIT\n"
     ]
    },
    {
     "name": "stdout",
     "output_type": "stream",
     "text": [
      "2025-07-04 22:09:39,840 INFO sqlalchemy.engine.Engine BEGIN (implicit)\n"
     ]
    },
    {
     "name": "stderr",
     "output_type": "stream",
     "text": [
      "INFO:sqlalchemy.engine.Engine:BEGIN (implicit)\n"
     ]
    },
    {
     "name": "stdout",
     "output_type": "stream",
     "text": [
      "2025-07-04 22:09:39,840 INFO sqlalchemy.engine.Engine INSERT INTO units (unit_id, title, description, level) VALUES (?, ?, ?, ?)\n"
     ]
    },
    {
     "name": "stderr",
     "output_type": "stream",
     "text": [
      "INFO:sqlalchemy.engine.Engine:INSERT INTO units (unit_id, title, description, level) VALUES (?, ?, ?, ?)\n"
     ]
    },
    {
     "name": "stdout",
     "output_type": "stream",
     "text": [
      "2025-07-04 22:09:39,840 INFO sqlalchemy.engine.Engine [cached since 0.04422s ago] ('ZH_12', 'Unite 11: Dans une grande ville', \"A l'oral: Pouvoir demander son chemin\\nSe reperer en ville\\nA l'ecrit: 18 caracteres\", 'A2')\n"
     ]
    },
    {
     "name": "stderr",
     "output_type": "stream",
     "text": [
      "INFO:sqlalchemy.engine.Engine:[cached since 0.04422s ago] ('ZH_12', 'Unite 11: Dans une grande ville', \"A l'oral: Pouvoir demander son chemin\\nSe reperer en ville\\nA l'ecrit: 18 caracteres\", 'A2')\n"
     ]
    },
    {
     "name": "stdout",
     "output_type": "stream",
     "text": [
      "2025-07-04 22:09:39,841 INFO sqlalchemy.engine.Engine ROLLBACK\n"
     ]
    },
    {
     "name": "stderr",
     "output_type": "stream",
     "text": [
      "INFO:sqlalchemy.engine.Engine:ROLLBACK\n",
      "WARNING:langvault.dbms:Insert failed: (sqlite3.IntegrityError) UNIQUE constraint failed: units.unit_id\n",
      "[SQL: INSERT INTO units (unit_id, title, description, level) VALUES (?, ?, ?, ?)]\n",
      "[parameters: ('ZH_12', 'Unite 11: Dans une grande ville', \"A l'oral: Pouvoir demander son chemin\\nSe reperer en ville\\nA l'ecrit: 18 caracteres\", 'A2')]\n",
      "(Background on this error at: https://sqlalche.me/e/20/gkpj). Attempting to modify an existing record.\n"
     ]
    },
    {
     "name": "stdout",
     "output_type": "stream",
     "text": [
      "2025-07-04 22:09:39,841 INFO sqlalchemy.engine.Engine BEGIN (implicit)\n"
     ]
    },
    {
     "name": "stderr",
     "output_type": "stream",
     "text": [
      "INFO:sqlalchemy.engine.Engine:BEGIN (implicit)\n"
     ]
    },
    {
     "name": "stdout",
     "output_type": "stream",
     "text": [
      "2025-07-04 22:09:39,841 INFO sqlalchemy.engine.Engine SELECT units.unit_id AS units_unit_id, units.title AS units_title, units.description AS units_description, units.level AS units_level \n",
      "FROM units \n",
      "WHERE units.unit_id = ?\n",
      " LIMIT ? OFFSET ?\n"
     ]
    },
    {
     "name": "stderr",
     "output_type": "stream",
     "text": [
      "INFO:sqlalchemy.engine.Engine:SELECT units.unit_id AS units_unit_id, units.title AS units_title, units.description AS units_description, units.level AS units_level \n",
      "FROM units \n",
      "WHERE units.unit_id = ?\n",
      " LIMIT ? OFFSET ?\n"
     ]
    },
    {
     "name": "stdout",
     "output_type": "stream",
     "text": [
      "2025-07-04 22:09:39,842 INFO sqlalchemy.engine.Engine [cached since 0.03724s ago] ('ZH_12', 1, 0)\n"
     ]
    },
    {
     "name": "stderr",
     "output_type": "stream",
     "text": [
      "INFO:sqlalchemy.engine.Engine:[cached since 0.03724s ago] ('ZH_12', 1, 0)\n"
     ]
    },
    {
     "name": "stdout",
     "output_type": "stream",
     "text": [
      "2025-07-04 22:09:39,842 INFO sqlalchemy.engine.Engine COMMIT\n"
     ]
    },
    {
     "name": "stderr",
     "output_type": "stream",
     "text": [
      "INFO:sqlalchemy.engine.Engine:COMMIT\n"
     ]
    },
    {
     "name": "stdout",
     "output_type": "stream",
     "text": [
      "2025-07-04 22:09:39,842 INFO sqlalchemy.engine.Engine BEGIN (implicit)\n"
     ]
    },
    {
     "name": "stderr",
     "output_type": "stream",
     "text": [
      "INFO:sqlalchemy.engine.Engine:BEGIN (implicit)\n"
     ]
    },
    {
     "name": "stdout",
     "output_type": "stream",
     "text": [
      "2025-07-04 22:09:39,843 INFO sqlalchemy.engine.Engine INSERT INTO units (unit_id, title, description, level) VALUES (?, ?, ?, ?)\n"
     ]
    },
    {
     "name": "stderr",
     "output_type": "stream",
     "text": [
      "INFO:sqlalchemy.engine.Engine:INSERT INTO units (unit_id, title, description, level) VALUES (?, ?, ?, ?)\n"
     ]
    },
    {
     "name": "stdout",
     "output_type": "stream",
     "text": [
      "2025-07-04 22:09:39,843 INFO sqlalchemy.engine.Engine [cached since 0.04689s ago] ('ZH_13', 'Unite 12: Faire des achats', \"A l'oral: Negocier un prix\\nFaire des achats\\nA l'ecrit: 18 caracteres\", 'A2')\n"
     ]
    },
    {
     "name": "stderr",
     "output_type": "stream",
     "text": [
      "INFO:sqlalchemy.engine.Engine:[cached since 0.04689s ago] ('ZH_13', 'Unite 12: Faire des achats', \"A l'oral: Negocier un prix\\nFaire des achats\\nA l'ecrit: 18 caracteres\", 'A2')\n"
     ]
    },
    {
     "name": "stdout",
     "output_type": "stream",
     "text": [
      "2025-07-04 22:09:39,843 INFO sqlalchemy.engine.Engine ROLLBACK\n"
     ]
    },
    {
     "name": "stderr",
     "output_type": "stream",
     "text": [
      "INFO:sqlalchemy.engine.Engine:ROLLBACK\n",
      "WARNING:langvault.dbms:Insert failed: (sqlite3.IntegrityError) UNIQUE constraint failed: units.unit_id\n",
      "[SQL: INSERT INTO units (unit_id, title, description, level) VALUES (?, ?, ?, ?)]\n",
      "[parameters: ('ZH_13', 'Unite 12: Faire des achats', \"A l'oral: Negocier un prix\\nFaire des achats\\nA l'ecrit: 18 caracteres\", 'A2')]\n",
      "(Background on this error at: https://sqlalche.me/e/20/gkpj). Attempting to modify an existing record.\n"
     ]
    },
    {
     "name": "stdout",
     "output_type": "stream",
     "text": [
      "2025-07-04 22:09:39,844 INFO sqlalchemy.engine.Engine BEGIN (implicit)\n"
     ]
    },
    {
     "name": "stderr",
     "output_type": "stream",
     "text": [
      "INFO:sqlalchemy.engine.Engine:BEGIN (implicit)\n"
     ]
    },
    {
     "name": "stdout",
     "output_type": "stream",
     "text": [
      "2025-07-04 22:09:39,844 INFO sqlalchemy.engine.Engine SELECT units.unit_id AS units_unit_id, units.title AS units_title, units.description AS units_description, units.level AS units_level \n",
      "FROM units \n",
      "WHERE units.unit_id = ?\n",
      " LIMIT ? OFFSET ?\n"
     ]
    },
    {
     "name": "stderr",
     "output_type": "stream",
     "text": [
      "INFO:sqlalchemy.engine.Engine:SELECT units.unit_id AS units_unit_id, units.title AS units_title, units.description AS units_description, units.level AS units_level \n",
      "FROM units \n",
      "WHERE units.unit_id = ?\n",
      " LIMIT ? OFFSET ?\n"
     ]
    },
    {
     "name": "stdout",
     "output_type": "stream",
     "text": [
      "2025-07-04 22:09:39,844 INFO sqlalchemy.engine.Engine [cached since 0.03979s ago] ('ZH_13', 1, 0)\n"
     ]
    },
    {
     "name": "stderr",
     "output_type": "stream",
     "text": [
      "INFO:sqlalchemy.engine.Engine:[cached since 0.03979s ago] ('ZH_13', 1, 0)\n"
     ]
    },
    {
     "name": "stdout",
     "output_type": "stream",
     "text": [
      "2025-07-04 22:09:39,845 INFO sqlalchemy.engine.Engine COMMIT\n"
     ]
    },
    {
     "name": "stderr",
     "output_type": "stream",
     "text": [
      "INFO:sqlalchemy.engine.Engine:COMMIT\n"
     ]
    },
    {
     "name": "stdout",
     "output_type": "stream",
     "text": [
      "2025-07-04 22:09:39,845 INFO sqlalchemy.engine.Engine BEGIN (implicit)\n"
     ]
    },
    {
     "name": "stderr",
     "output_type": "stream",
     "text": [
      "INFO:sqlalchemy.engine.Engine:BEGIN (implicit)\n"
     ]
    },
    {
     "name": "stdout",
     "output_type": "stream",
     "text": [
      "2025-07-04 22:09:39,845 INFO sqlalchemy.engine.Engine INSERT INTO units (unit_id, title, description, level) VALUES (?, ?, ?, ?)\n"
     ]
    },
    {
     "name": "stderr",
     "output_type": "stream",
     "text": [
      "INFO:sqlalchemy.engine.Engine:INSERT INTO units (unit_id, title, description, level) VALUES (?, ?, ?, ?)\n"
     ]
    },
    {
     "name": "stdout",
     "output_type": "stream",
     "text": [
      "2025-07-04 22:09:39,846 INFO sqlalchemy.engine.Engine [cached since 0.04939s ago] ('ZH_14', \"Unite 13: En voyage a l'etranger\", \"A l'oral: Pouvoir raconter ou prevoir un voyage\\nUtiliser 'Avant, apres, pendant'\\nA l'ecrit: 17 caracteres\", 'A2')\n"
     ]
    },
    {
     "name": "stderr",
     "output_type": "stream",
     "text": [
      "INFO:sqlalchemy.engine.Engine:[cached since 0.04939s ago] ('ZH_14', \"Unite 13: En voyage a l'etranger\", \"A l'oral: Pouvoir raconter ou prevoir un voyage\\nUtiliser 'Avant, apres, pendant'\\nA l'ecrit: 17 caracteres\", 'A2')\n"
     ]
    },
    {
     "name": "stdout",
     "output_type": "stream",
     "text": [
      "2025-07-04 22:09:39,846 INFO sqlalchemy.engine.Engine ROLLBACK\n"
     ]
    },
    {
     "name": "stderr",
     "output_type": "stream",
     "text": [
      "INFO:sqlalchemy.engine.Engine:ROLLBACK\n",
      "WARNING:langvault.dbms:Insert failed: (sqlite3.IntegrityError) UNIQUE constraint failed: units.unit_id\n",
      "[SQL: INSERT INTO units (unit_id, title, description, level) VALUES (?, ?, ?, ?)]\n",
      "[parameters: ('ZH_14', \"Unite 13: En voyage a l'etranger\", \"A l'oral: Pouvoir raconter ou prevoir un voyage\\nUtiliser 'Avant, apres, pendant'\\nA l'ecrit: 17 caracteres\", 'A2')]\n",
      "(Background on this error at: https://sqlalche.me/e/20/gkpj). Attempting to modify an existing record.\n"
     ]
    },
    {
     "name": "stdout",
     "output_type": "stream",
     "text": [
      "2025-07-04 22:09:39,846 INFO sqlalchemy.engine.Engine BEGIN (implicit)\n"
     ]
    },
    {
     "name": "stderr",
     "output_type": "stream",
     "text": [
      "INFO:sqlalchemy.engine.Engine:BEGIN (implicit)\n"
     ]
    },
    {
     "name": "stdout",
     "output_type": "stream",
     "text": [
      "2025-07-04 22:09:39,847 INFO sqlalchemy.engine.Engine SELECT units.unit_id AS units_unit_id, units.title AS units_title, units.description AS units_description, units.level AS units_level \n",
      "FROM units \n",
      "WHERE units.unit_id = ?\n",
      " LIMIT ? OFFSET ?\n"
     ]
    },
    {
     "name": "stderr",
     "output_type": "stream",
     "text": [
      "INFO:sqlalchemy.engine.Engine:SELECT units.unit_id AS units_unit_id, units.title AS units_title, units.description AS units_description, units.level AS units_level \n",
      "FROM units \n",
      "WHERE units.unit_id = ?\n",
      " LIMIT ? OFFSET ?\n"
     ]
    },
    {
     "name": "stdout",
     "output_type": "stream",
     "text": [
      "2025-07-04 22:09:39,847 INFO sqlalchemy.engine.Engine [cached since 0.04244s ago] ('ZH_14', 1, 0)\n"
     ]
    },
    {
     "name": "stderr",
     "output_type": "stream",
     "text": [
      "INFO:sqlalchemy.engine.Engine:[cached since 0.04244s ago] ('ZH_14', 1, 0)\n"
     ]
    },
    {
     "name": "stdout",
     "output_type": "stream",
     "text": [
      "2025-07-04 22:09:39,847 INFO sqlalchemy.engine.Engine COMMIT\n"
     ]
    },
    {
     "name": "stderr",
     "output_type": "stream",
     "text": [
      "INFO:sqlalchemy.engine.Engine:COMMIT\n"
     ]
    },
    {
     "name": "stdout",
     "output_type": "stream",
     "text": [
      "2025-07-04 22:09:39,848 INFO sqlalchemy.engine.Engine BEGIN (implicit)\n"
     ]
    },
    {
     "name": "stderr",
     "output_type": "stream",
     "text": [
      "INFO:sqlalchemy.engine.Engine:BEGIN (implicit)\n"
     ]
    },
    {
     "name": "stdout",
     "output_type": "stream",
     "text": [
      "2025-07-04 22:09:39,848 INFO sqlalchemy.engine.Engine INSERT INTO units (unit_id, title, description, level) VALUES (?, ?, ?, ?)\n"
     ]
    },
    {
     "name": "stderr",
     "output_type": "stream",
     "text": [
      "INFO:sqlalchemy.engine.Engine:INSERT INTO units (unit_id, title, description, level) VALUES (?, ?, ?, ?)\n"
     ]
    },
    {
     "name": "stdout",
     "output_type": "stream",
     "text": [
      "2025-07-04 22:09:39,848 INFO sqlalchemy.engine.Engine [cached since 0.05204s ago] ('ZH_15', 'Unite 14: La culture chinoise', \"A l'oral: Decouvrir la culture chinoise\\nParler des fetes et des vacances\\nA l'ecrit: 19 caracteres\", 'A2')\n"
     ]
    },
    {
     "name": "stderr",
     "output_type": "stream",
     "text": [
      "INFO:sqlalchemy.engine.Engine:[cached since 0.05204s ago] ('ZH_15', 'Unite 14: La culture chinoise', \"A l'oral: Decouvrir la culture chinoise\\nParler des fetes et des vacances\\nA l'ecrit: 19 caracteres\", 'A2')\n"
     ]
    },
    {
     "name": "stdout",
     "output_type": "stream",
     "text": [
      "2025-07-04 22:09:39,849 INFO sqlalchemy.engine.Engine ROLLBACK\n"
     ]
    },
    {
     "name": "stderr",
     "output_type": "stream",
     "text": [
      "INFO:sqlalchemy.engine.Engine:ROLLBACK\n",
      "WARNING:langvault.dbms:Insert failed: (sqlite3.IntegrityError) UNIQUE constraint failed: units.unit_id\n",
      "[SQL: INSERT INTO units (unit_id, title, description, level) VALUES (?, ?, ?, ?)]\n",
      "[parameters: ('ZH_15', 'Unite 14: La culture chinoise', \"A l'oral: Decouvrir la culture chinoise\\nParler des fetes et des vacances\\nA l'ecrit: 19 caracteres\", 'A2')]\n",
      "(Background on this error at: https://sqlalche.me/e/20/gkpj). Attempting to modify an existing record.\n"
     ]
    },
    {
     "name": "stdout",
     "output_type": "stream",
     "text": [
      "2025-07-04 22:09:39,849 INFO sqlalchemy.engine.Engine BEGIN (implicit)\n"
     ]
    },
    {
     "name": "stderr",
     "output_type": "stream",
     "text": [
      "INFO:sqlalchemy.engine.Engine:BEGIN (implicit)\n"
     ]
    },
    {
     "name": "stdout",
     "output_type": "stream",
     "text": [
      "2025-07-04 22:09:39,849 INFO sqlalchemy.engine.Engine SELECT units.unit_id AS units_unit_id, units.title AS units_title, units.description AS units_description, units.level AS units_level \n",
      "FROM units \n",
      "WHERE units.unit_id = ?\n",
      " LIMIT ? OFFSET ?\n"
     ]
    },
    {
     "name": "stderr",
     "output_type": "stream",
     "text": [
      "INFO:sqlalchemy.engine.Engine:SELECT units.unit_id AS units_unit_id, units.title AS units_title, units.description AS units_description, units.level AS units_level \n",
      "FROM units \n",
      "WHERE units.unit_id = ?\n",
      " LIMIT ? OFFSET ?\n"
     ]
    },
    {
     "name": "stdout",
     "output_type": "stream",
     "text": [
      "2025-07-04 22:09:39,850 INFO sqlalchemy.engine.Engine [cached since 0.04506s ago] ('ZH_15', 1, 0)\n"
     ]
    },
    {
     "name": "stderr",
     "output_type": "stream",
     "text": [
      "INFO:sqlalchemy.engine.Engine:[cached since 0.04506s ago] ('ZH_15', 1, 0)\n"
     ]
    },
    {
     "name": "stdout",
     "output_type": "stream",
     "text": [
      "2025-07-04 22:09:39,850 INFO sqlalchemy.engine.Engine COMMIT\n"
     ]
    },
    {
     "name": "stderr",
     "output_type": "stream",
     "text": [
      "INFO:sqlalchemy.engine.Engine:COMMIT\n"
     ]
    },
    {
     "name": "stdout",
     "output_type": "stream",
     "text": [
      "2025-07-04 22:09:39,850 INFO sqlalchemy.engine.Engine BEGIN (implicit)\n"
     ]
    },
    {
     "name": "stderr",
     "output_type": "stream",
     "text": [
      "INFO:sqlalchemy.engine.Engine:BEGIN (implicit)\n"
     ]
    },
    {
     "name": "stdout",
     "output_type": "stream",
     "text": [
      "2025-07-04 22:09:39,851 INFO sqlalchemy.engine.Engine INSERT INTO units (unit_id, title, description, level) VALUES (?, ?, ?, ?)\n"
     ]
    },
    {
     "name": "stderr",
     "output_type": "stream",
     "text": [
      "INFO:sqlalchemy.engine.Engine:INSERT INTO units (unit_id, title, description, level) VALUES (?, ?, ?, ?)\n"
     ]
    },
    {
     "name": "stdout",
     "output_type": "stream",
     "text": [
      "2025-07-04 22:09:39,851 INFO sqlalchemy.engine.Engine [cached since 0.05468s ago] ('ZH_16', 'Unite 15: A la maison', \"A l'oral: Decrire une maison, un appartement\\nUtiliser 吧 et les directionnels\\nA l'ecrit: 17 caracteres\", 'A2')\n"
     ]
    },
    {
     "name": "stderr",
     "output_type": "stream",
     "text": [
      "INFO:sqlalchemy.engine.Engine:[cached since 0.05468s ago] ('ZH_16', 'Unite 15: A la maison', \"A l'oral: Decrire une maison, un appartement\\nUtiliser 吧 et les directionnels\\nA l'ecrit: 17 caracteres\", 'A2')\n"
     ]
    },
    {
     "name": "stdout",
     "output_type": "stream",
     "text": [
      "2025-07-04 22:09:39,851 INFO sqlalchemy.engine.Engine ROLLBACK\n"
     ]
    },
    {
     "name": "stderr",
     "output_type": "stream",
     "text": [
      "INFO:sqlalchemy.engine.Engine:ROLLBACK\n",
      "WARNING:langvault.dbms:Insert failed: (sqlite3.IntegrityError) UNIQUE constraint failed: units.unit_id\n",
      "[SQL: INSERT INTO units (unit_id, title, description, level) VALUES (?, ?, ?, ?)]\n",
      "[parameters: ('ZH_16', 'Unite 15: A la maison', \"A l'oral: Decrire une maison, un appartement\\nUtiliser 吧 et les directionnels\\nA l'ecrit: 17 caracteres\", 'A2')]\n",
      "(Background on this error at: https://sqlalche.me/e/20/gkpj). Attempting to modify an existing record.\n"
     ]
    },
    {
     "name": "stdout",
     "output_type": "stream",
     "text": [
      "2025-07-04 22:09:39,852 INFO sqlalchemy.engine.Engine BEGIN (implicit)\n"
     ]
    },
    {
     "name": "stderr",
     "output_type": "stream",
     "text": [
      "INFO:sqlalchemy.engine.Engine:BEGIN (implicit)\n"
     ]
    },
    {
     "name": "stdout",
     "output_type": "stream",
     "text": [
      "2025-07-04 22:09:39,852 INFO sqlalchemy.engine.Engine SELECT units.unit_id AS units_unit_id, units.title AS units_title, units.description AS units_description, units.level AS units_level \n",
      "FROM units \n",
      "WHERE units.unit_id = ?\n",
      " LIMIT ? OFFSET ?\n"
     ]
    },
    {
     "name": "stderr",
     "output_type": "stream",
     "text": [
      "INFO:sqlalchemy.engine.Engine:SELECT units.unit_id AS units_unit_id, units.title AS units_title, units.description AS units_description, units.level AS units_level \n",
      "FROM units \n",
      "WHERE units.unit_id = ?\n",
      " LIMIT ? OFFSET ?\n"
     ]
    },
    {
     "name": "stdout",
     "output_type": "stream",
     "text": [
      "2025-07-04 22:09:39,852 INFO sqlalchemy.engine.Engine [cached since 0.04767s ago] ('ZH_16', 1, 0)\n"
     ]
    },
    {
     "name": "stderr",
     "output_type": "stream",
     "text": [
      "INFO:sqlalchemy.engine.Engine:[cached since 0.04767s ago] ('ZH_16', 1, 0)\n"
     ]
    },
    {
     "name": "stdout",
     "output_type": "stream",
     "text": [
      "2025-07-04 22:09:39,853 INFO sqlalchemy.engine.Engine COMMIT\n"
     ]
    },
    {
     "name": "stderr",
     "output_type": "stream",
     "text": [
      "INFO:sqlalchemy.engine.Engine:COMMIT\n"
     ]
    }
   ],
   "source": [
    "# Initialize the database connection and create db file if it doesn't exist\n",
    "engine, session = init_db(language_name)\n",
    "\n",
    "if not os.path.exists(f'../data/{language_name}'):\n",
    "    raise FileNotFoundError(f\"Dataset for {language_name} not found.\")\n",
    "\n",
    "# Initialize the database\n",
    "with open(f'../data/{language_name}/units.json', 'r') as f:\n",
    "    units_array = json.load(f)\n",
    "    \n",
    "logger.info(f\"Units loaded: {len(units_array)}\")\n",
    "units = []\n",
    "for idx, unit_data in enumerate(units_array):\n",
    "    units.append(\n",
    "        Unit(\n",
    "            unit_id = f\"{language_name.upper()}_{idx + 1}\",\n",
    "            title = unit_data['title'],\n",
    "            description = unit_data['description'],\n",
    "            level = unit_data['level']\n",
    "        )\n",
    "    )\n",
    "inserts(session, units)\n",
    "session.close()"
   ]
  },
  {
   "cell_type": "markdown",
   "id": "ad8c7c20",
   "metadata": {},
   "source": [
    "## Find Unit by Attribute values"
   ]
  },
  {
   "cell_type": "code",
   "execution_count": 4,
   "id": "6a861317",
   "metadata": {},
   "outputs": [
    {
     "name": "stderr",
     "output_type": "stream",
     "text": [
      "INFO:langvault.dbms:Found existing database zh.db.\n"
     ]
    },
    {
     "name": "stdout",
     "output_type": "stream",
     "text": [
      "2025-07-04 22:09:39,857 INFO sqlalchemy.engine.Engine BEGIN (implicit)\n"
     ]
    },
    {
     "name": "stderr",
     "output_type": "stream",
     "text": [
      "INFO:sqlalchemy.engine.Engine:BEGIN (implicit)\n"
     ]
    },
    {
     "name": "stdout",
     "output_type": "stream",
     "text": [
      "2025-07-04 22:09:39,857 INFO sqlalchemy.engine.Engine PRAGMA main.table_info(\"units\")\n"
     ]
    },
    {
     "name": "stderr",
     "output_type": "stream",
     "text": [
      "INFO:sqlalchemy.engine.Engine:PRAGMA main.table_info(\"units\")\n"
     ]
    },
    {
     "name": "stdout",
     "output_type": "stream",
     "text": [
      "2025-07-04 22:09:39,857 INFO sqlalchemy.engine.Engine [raw sql] ()\n"
     ]
    },
    {
     "name": "stderr",
     "output_type": "stream",
     "text": [
      "INFO:sqlalchemy.engine.Engine:[raw sql] ()\n"
     ]
    },
    {
     "name": "stdout",
     "output_type": "stream",
     "text": [
      "2025-07-04 22:09:39,858 INFO sqlalchemy.engine.Engine PRAGMA main.table_info(\"calligraphy_characters\")\n"
     ]
    },
    {
     "name": "stderr",
     "output_type": "stream",
     "text": [
      "INFO:sqlalchemy.engine.Engine:PRAGMA main.table_info(\"calligraphy_characters\")\n"
     ]
    },
    {
     "name": "stdout",
     "output_type": "stream",
     "text": [
      "2025-07-04 22:09:39,858 INFO sqlalchemy.engine.Engine [raw sql] ()\n"
     ]
    },
    {
     "name": "stderr",
     "output_type": "stream",
     "text": [
      "INFO:sqlalchemy.engine.Engine:[raw sql] ()\n"
     ]
    },
    {
     "name": "stdout",
     "output_type": "stream",
     "text": [
      "2025-07-04 22:09:39,859 INFO sqlalchemy.engine.Engine PRAGMA main.table_info(\"grammar_rules\")\n"
     ]
    },
    {
     "name": "stderr",
     "output_type": "stream",
     "text": [
      "INFO:sqlalchemy.engine.Engine:PRAGMA main.table_info(\"grammar_rules\")\n"
     ]
    },
    {
     "name": "stdout",
     "output_type": "stream",
     "text": [
      "2025-07-04 22:09:39,859 INFO sqlalchemy.engine.Engine [raw sql] ()\n"
     ]
    },
    {
     "name": "stderr",
     "output_type": "stream",
     "text": [
      "INFO:sqlalchemy.engine.Engine:[raw sql] ()\n"
     ]
    },
    {
     "name": "stdout",
     "output_type": "stream",
     "text": [
      "2025-07-04 22:09:39,859 INFO sqlalchemy.engine.Engine PRAGMA main.table_info(\"vocabulary\")\n"
     ]
    },
    {
     "name": "stderr",
     "output_type": "stream",
     "text": [
      "INFO:sqlalchemy.engine.Engine:PRAGMA main.table_info(\"vocabulary\")\n"
     ]
    },
    {
     "name": "stdout",
     "output_type": "stream",
     "text": [
      "2025-07-04 22:09:39,859 INFO sqlalchemy.engine.Engine [raw sql] ()\n"
     ]
    },
    {
     "name": "stderr",
     "output_type": "stream",
     "text": [
      "INFO:sqlalchemy.engine.Engine:[raw sql] ()\n"
     ]
    },
    {
     "name": "stdout",
     "output_type": "stream",
     "text": [
      "2025-07-04 22:09:39,860 INFO sqlalchemy.engine.Engine PRAGMA main.table_info(\"exercises\")\n"
     ]
    },
    {
     "name": "stderr",
     "output_type": "stream",
     "text": [
      "INFO:sqlalchemy.engine.Engine:PRAGMA main.table_info(\"exercises\")\n"
     ]
    },
    {
     "name": "stdout",
     "output_type": "stream",
     "text": [
      "2025-07-04 22:09:39,860 INFO sqlalchemy.engine.Engine [raw sql] ()\n"
     ]
    },
    {
     "name": "stderr",
     "output_type": "stream",
     "text": [
      "INFO:sqlalchemy.engine.Engine:[raw sql] ()\n"
     ]
    },
    {
     "name": "stdout",
     "output_type": "stream",
     "text": [
      "2025-07-04 22:09:39,861 INFO sqlalchemy.engine.Engine COMMIT\n"
     ]
    },
    {
     "name": "stderr",
     "output_type": "stream",
     "text": [
      "INFO:sqlalchemy.engine.Engine:COMMIT\n",
      "INFO:langvault.dbms:Database zh.db initialized successfully.\n"
     ]
    },
    {
     "name": "stdout",
     "output_type": "stream",
     "text": [
      "2025-07-04 22:09:39,861 INFO sqlalchemy.engine.Engine BEGIN (implicit)\n"
     ]
    },
    {
     "name": "stderr",
     "output_type": "stream",
     "text": [
      "INFO:sqlalchemy.engine.Engine:BEGIN (implicit)\n"
     ]
    },
    {
     "name": "stdout",
     "output_type": "stream",
     "text": [
      "2025-07-04 22:09:39,862 INFO sqlalchemy.engine.Engine SELECT units.unit_id AS units_unit_id, units.title AS units_title, units.description AS units_description, units.level AS units_level \n",
      "FROM units \n",
      "WHERE units.title = ? AND units.level = ?\n",
      " LIMIT ? OFFSET ?\n"
     ]
    },
    {
     "name": "stderr",
     "output_type": "stream",
     "text": [
      "INFO:sqlalchemy.engine.Engine:SELECT units.unit_id AS units_unit_id, units.title AS units_title, units.description AS units_description, units.level AS units_level \n",
      "FROM units \n",
      "WHERE units.title = ? AND units.level = ?\n",
      " LIMIT ? OFFSET ?\n"
     ]
    },
    {
     "name": "stdout",
     "output_type": "stream",
     "text": [
      "2025-07-04 22:09:39,862 INFO sqlalchemy.engine.Engine [generated in 0.00025s] ('Unite 7: Mes amis', 'A1', 1, 0)\n"
     ]
    },
    {
     "name": "stderr",
     "output_type": "stream",
     "text": [
      "INFO:sqlalchemy.engine.Engine:[generated in 0.00025s] ('Unite 7: Mes amis', 'A1', 1, 0)\n"
     ]
    },
    {
     "name": "stdout",
     "output_type": "stream",
     "text": [
      "Found unit: {'title': 'Unite 7: Mes amis', 'unit_id': 'ZH_8', 'level': 'A1', 'description': \"A l'oral: Parler des ses amis\\nParler des langues etrangeres\\nComparer des gens ou des objets\\nA l'ecrit: 18 caracteres\"}\n",
      "2025-07-04 22:09:39,862 INFO sqlalchemy.engine.Engine ROLLBACK\n"
     ]
    },
    {
     "name": "stderr",
     "output_type": "stream",
     "text": [
      "INFO:sqlalchemy.engine.Engine:ROLLBACK\n"
     ]
    }
   ],
   "source": [
    "engine, session = init_db(language_name)\n",
    "\n",
    "title = \"Unite 7: Mes amis\"\n",
    "level = \"A1\"\n",
    "\n",
    "unit = find_by_attr(session, {\"title\": title, \"level\": level}, model_class=Unit)\n",
    "print(f\"Found unit: {unit}\")\n",
    "session.close()"
   ]
  },
  {
   "cell_type": "markdown",
   "id": "736f8010",
   "metadata": {},
   "source": [
    "## Modification of specific Unit in database"
   ]
  },
  {
   "cell_type": "code",
   "execution_count": null,
   "id": "c9402f8f",
   "metadata": {},
   "outputs": [
    {
     "name": "stderr",
     "output_type": "stream",
     "text": [
      "INFO:langvault.dbms:Found existing database zh.db.\n"
     ]
    },
    {
     "name": "stdout",
     "output_type": "stream",
     "text": [
      "2025-07-04 22:09:39,867 INFO sqlalchemy.engine.Engine BEGIN (implicit)\n"
     ]
    },
    {
     "name": "stderr",
     "output_type": "stream",
     "text": [
      "INFO:sqlalchemy.engine.Engine:BEGIN (implicit)\n"
     ]
    },
    {
     "name": "stdout",
     "output_type": "stream",
     "text": [
      "2025-07-04 22:09:39,867 INFO sqlalchemy.engine.Engine PRAGMA main.table_info(\"units\")\n"
     ]
    },
    {
     "name": "stderr",
     "output_type": "stream",
     "text": [
      "INFO:sqlalchemy.engine.Engine:PRAGMA main.table_info(\"units\")\n"
     ]
    },
    {
     "name": "stdout",
     "output_type": "stream",
     "text": [
      "2025-07-04 22:09:39,867 INFO sqlalchemy.engine.Engine [raw sql] ()\n"
     ]
    },
    {
     "name": "stderr",
     "output_type": "stream",
     "text": [
      "INFO:sqlalchemy.engine.Engine:[raw sql] ()\n"
     ]
    },
    {
     "name": "stdout",
     "output_type": "stream",
     "text": [
      "2025-07-04 22:09:39,868 INFO sqlalchemy.engine.Engine PRAGMA main.table_info(\"calligraphy_characters\")\n"
     ]
    },
    {
     "name": "stderr",
     "output_type": "stream",
     "text": [
      "INFO:sqlalchemy.engine.Engine:PRAGMA main.table_info(\"calligraphy_characters\")\n"
     ]
    },
    {
     "name": "stdout",
     "output_type": "stream",
     "text": [
      "2025-07-04 22:09:39,868 INFO sqlalchemy.engine.Engine [raw sql] ()\n"
     ]
    },
    {
     "name": "stderr",
     "output_type": "stream",
     "text": [
      "INFO:sqlalchemy.engine.Engine:[raw sql] ()\n"
     ]
    },
    {
     "name": "stdout",
     "output_type": "stream",
     "text": [
      "2025-07-04 22:09:39,869 INFO sqlalchemy.engine.Engine PRAGMA main.table_info(\"grammar_rules\")\n"
     ]
    },
    {
     "name": "stderr",
     "output_type": "stream",
     "text": [
      "INFO:sqlalchemy.engine.Engine:PRAGMA main.table_info(\"grammar_rules\")\n"
     ]
    },
    {
     "name": "stdout",
     "output_type": "stream",
     "text": [
      "2025-07-04 22:09:39,869 INFO sqlalchemy.engine.Engine [raw sql] ()\n"
     ]
    },
    {
     "name": "stderr",
     "output_type": "stream",
     "text": [
      "INFO:sqlalchemy.engine.Engine:[raw sql] ()\n"
     ]
    },
    {
     "name": "stdout",
     "output_type": "stream",
     "text": [
      "2025-07-04 22:09:39,869 INFO sqlalchemy.engine.Engine PRAGMA main.table_info(\"vocabulary\")\n"
     ]
    },
    {
     "name": "stderr",
     "output_type": "stream",
     "text": [
      "INFO:sqlalchemy.engine.Engine:PRAGMA main.table_info(\"vocabulary\")\n"
     ]
    },
    {
     "name": "stdout",
     "output_type": "stream",
     "text": [
      "2025-07-04 22:09:39,870 INFO sqlalchemy.engine.Engine [raw sql] ()\n"
     ]
    },
    {
     "name": "stderr",
     "output_type": "stream",
     "text": [
      "INFO:sqlalchemy.engine.Engine:[raw sql] ()\n"
     ]
    },
    {
     "name": "stdout",
     "output_type": "stream",
     "text": [
      "2025-07-04 22:09:39,870 INFO sqlalchemy.engine.Engine PRAGMA main.table_info(\"exercises\")\n"
     ]
    },
    {
     "name": "stderr",
     "output_type": "stream",
     "text": [
      "INFO:sqlalchemy.engine.Engine:PRAGMA main.table_info(\"exercises\")\n"
     ]
    },
    {
     "name": "stdout",
     "output_type": "stream",
     "text": [
      "2025-07-04 22:09:39,870 INFO sqlalchemy.engine.Engine [raw sql] ()\n"
     ]
    },
    {
     "name": "stderr",
     "output_type": "stream",
     "text": [
      "INFO:sqlalchemy.engine.Engine:[raw sql] ()\n"
     ]
    },
    {
     "name": "stdout",
     "output_type": "stream",
     "text": [
      "2025-07-04 22:09:39,870 INFO sqlalchemy.engine.Engine COMMIT\n"
     ]
    },
    {
     "name": "stderr",
     "output_type": "stream",
     "text": [
      "INFO:sqlalchemy.engine.Engine:COMMIT\n",
      "INFO:langvault.dbms:Database zh.db initialized successfully.\n"
     ]
    },
    {
     "name": "stdout",
     "output_type": "stream",
     "text": [
      "2025-07-04 22:09:39,871 INFO sqlalchemy.engine.Engine BEGIN (implicit)\n"
     ]
    },
    {
     "name": "stderr",
     "output_type": "stream",
     "text": [
      "INFO:sqlalchemy.engine.Engine:BEGIN (implicit)\n"
     ]
    },
    {
     "name": "stdout",
     "output_type": "stream",
     "text": [
      "2025-07-04 22:09:39,871 INFO sqlalchemy.engine.Engine SELECT units.unit_id AS units_unit_id, units.title AS units_title, units.description AS units_description, units.level AS units_level \n",
      "FROM units \n",
      "WHERE units.unit_id = ?\n",
      " LIMIT ? OFFSET ?\n"
     ]
    },
    {
     "name": "stderr",
     "output_type": "stream",
     "text": [
      "INFO:sqlalchemy.engine.Engine:SELECT units.unit_id AS units_unit_id, units.title AS units_title, units.description AS units_description, units.level AS units_level \n",
      "FROM units \n",
      "WHERE units.unit_id = ?\n",
      " LIMIT ? OFFSET ?\n"
     ]
    },
    {
     "name": "stdout",
     "output_type": "stream",
     "text": [
      "2025-07-04 22:09:39,872 INFO sqlalchemy.engine.Engine [generated in 0.00026s] ('ZH_3', 1, 0)\n"
     ]
    },
    {
     "name": "stderr",
     "output_type": "stream",
     "text": [
      "INFO:sqlalchemy.engine.Engine:[generated in 0.00026s] ('ZH_3', 1, 0)\n"
     ]
    },
    {
     "name": "stdout",
     "output_type": "stream",
     "text": [
      "2025-07-04 22:09:39,872 INFO sqlalchemy.engine.Engine UPDATE units SET level=? WHERE units.unit_id = ?\n"
     ]
    },
    {
     "name": "stderr",
     "output_type": "stream",
     "text": [
      "INFO:sqlalchemy.engine.Engine:UPDATE units SET level=? WHERE units.unit_id = ?\n"
     ]
    },
    {
     "name": "stdout",
     "output_type": "stream",
     "text": [
      "2025-07-04 22:09:39,872 INFO sqlalchemy.engine.Engine [generated in 0.00022s] ('A2', 'ZH_3')\n"
     ]
    },
    {
     "name": "stderr",
     "output_type": "stream",
     "text": [
      "INFO:sqlalchemy.engine.Engine:[generated in 0.00022s] ('A2', 'ZH_3')\n"
     ]
    },
    {
     "name": "stdout",
     "output_type": "stream",
     "text": [
      "2025-07-04 22:09:39,873 INFO sqlalchemy.engine.Engine COMMIT\n"
     ]
    },
    {
     "name": "stderr",
     "output_type": "stream",
     "text": [
      "INFO:sqlalchemy.engine.Engine:COMMIT\n"
     ]
    }
   ],
   "source": [
    "engine, session = init_db(language_name)\n",
    "\n",
    "unit = Unit(\n",
    "    unit_id = \"ZH_3\",\n",
    "    level = \"A2\"\n",
    ")\n",
    "\n",
    "modify(session, unit)\n",
    "session.close()"
   ]
  },
  {
   "cell_type": "markdown",
   "id": "241ea864",
   "metadata": {},
   "source": [
    "## Delete Unit based on Unit_id"
   ]
  },
  {
   "cell_type": "code",
   "execution_count": null,
   "id": "0c664b7d",
   "metadata": {},
   "outputs": [
    {
     "name": "stderr",
     "output_type": "stream",
     "text": [
      "INFO:lapp.dbms:Found existing database languages.db.\n"
     ]
    },
    {
     "name": "stdout",
     "output_type": "stream",
     "text": [
      "2025-07-23 22:52:26,305 INFO sqlalchemy.engine.Engine BEGIN (implicit)\n"
     ]
    },
    {
     "name": "stderr",
     "output_type": "stream",
     "text": [
      "INFO:sqlalchemy.engine.Engine:BEGIN (implicit)\n"
     ]
    },
    {
     "name": "stdout",
     "output_type": "stream",
     "text": [
      "2025-07-23 22:52:26,306 INFO sqlalchemy.engine.Engine PRAGMA main.table_info(\"language\")\n"
     ]
    },
    {
     "name": "stderr",
     "output_type": "stream",
     "text": [
      "INFO:sqlalchemy.engine.Engine:PRAGMA main.table_info(\"language\")\n"
     ]
    },
    {
     "name": "stdout",
     "output_type": "stream",
     "text": [
      "2025-07-23 22:52:26,306 INFO sqlalchemy.engine.Engine [raw sql] ()\n"
     ]
    },
    {
     "name": "stderr",
     "output_type": "stream",
     "text": [
      "INFO:sqlalchemy.engine.Engine:[raw sql] ()\n"
     ]
    },
    {
     "name": "stdout",
     "output_type": "stream",
     "text": [
      "2025-07-23 22:52:26,307 INFO sqlalchemy.engine.Engine PRAGMA main.table_info(\"unit\")\n"
     ]
    },
    {
     "name": "stderr",
     "output_type": "stream",
     "text": [
      "INFO:sqlalchemy.engine.Engine:PRAGMA main.table_info(\"unit\")\n"
     ]
    },
    {
     "name": "stdout",
     "output_type": "stream",
     "text": [
      "2025-07-23 22:52:26,308 INFO sqlalchemy.engine.Engine [raw sql] ()\n"
     ]
    },
    {
     "name": "stderr",
     "output_type": "stream",
     "text": [
      "INFO:sqlalchemy.engine.Engine:[raw sql] ()\n"
     ]
    },
    {
     "name": "stdout",
     "output_type": "stream",
     "text": [
      "2025-07-23 22:52:26,309 INFO sqlalchemy.engine.Engine PRAGMA main.table_info(\"calligraphy_character\")\n"
     ]
    },
    {
     "name": "stderr",
     "output_type": "stream",
     "text": [
      "INFO:sqlalchemy.engine.Engine:PRAGMA main.table_info(\"calligraphy_character\")\n"
     ]
    },
    {
     "name": "stdout",
     "output_type": "stream",
     "text": [
      "2025-07-23 22:52:26,309 INFO sqlalchemy.engine.Engine [raw sql] ()\n"
     ]
    },
    {
     "name": "stderr",
     "output_type": "stream",
     "text": [
      "INFO:sqlalchemy.engine.Engine:[raw sql] ()\n"
     ]
    },
    {
     "name": "stdout",
     "output_type": "stream",
     "text": [
      "2025-07-23 22:52:26,310 INFO sqlalchemy.engine.Engine PRAGMA main.table_info(\"grammar_rule\")\n"
     ]
    },
    {
     "name": "stderr",
     "output_type": "stream",
     "text": [
      "INFO:sqlalchemy.engine.Engine:PRAGMA main.table_info(\"grammar_rule\")\n"
     ]
    },
    {
     "name": "stdout",
     "output_type": "stream",
     "text": [
      "2025-07-23 22:52:26,311 INFO sqlalchemy.engine.Engine [raw sql] ()\n"
     ]
    },
    {
     "name": "stderr",
     "output_type": "stream",
     "text": [
      "INFO:sqlalchemy.engine.Engine:[raw sql] ()\n"
     ]
    },
    {
     "name": "stdout",
     "output_type": "stream",
     "text": [
      "2025-07-23 22:52:26,312 INFO sqlalchemy.engine.Engine PRAGMA main.table_info(\"vocabulary\")\n"
     ]
    },
    {
     "name": "stderr",
     "output_type": "stream",
     "text": [
      "INFO:sqlalchemy.engine.Engine:PRAGMA main.table_info(\"vocabulary\")\n"
     ]
    },
    {
     "name": "stdout",
     "output_type": "stream",
     "text": [
      "2025-07-23 22:52:26,312 INFO sqlalchemy.engine.Engine [raw sql] ()\n"
     ]
    },
    {
     "name": "stderr",
     "output_type": "stream",
     "text": [
      "INFO:sqlalchemy.engine.Engine:[raw sql] ()\n"
     ]
    },
    {
     "name": "stdout",
     "output_type": "stream",
     "text": [
      "2025-07-23 22:52:26,312 INFO sqlalchemy.engine.Engine PRAGMA main.table_info(\"exercises\")\n"
     ]
    },
    {
     "name": "stderr",
     "output_type": "stream",
     "text": [
      "INFO:sqlalchemy.engine.Engine:PRAGMA main.table_info(\"exercises\")\n"
     ]
    },
    {
     "name": "stdout",
     "output_type": "stream",
     "text": [
      "2025-07-23 22:52:26,313 INFO sqlalchemy.engine.Engine [raw sql] ()\n"
     ]
    },
    {
     "name": "stderr",
     "output_type": "stream",
     "text": [
      "INFO:sqlalchemy.engine.Engine:[raw sql] ()\n"
     ]
    },
    {
     "name": "stdout",
     "output_type": "stream",
     "text": [
      "2025-07-23 22:52:26,313 INFO sqlalchemy.engine.Engine COMMIT\n"
     ]
    },
    {
     "name": "stderr",
     "output_type": "stream",
     "text": [
      "INFO:sqlalchemy.engine.Engine:COMMIT\n",
      "INFO:lapp.dbms:Database languages.db initialized successfully.\n"
     ]
    },
    {
     "name": "stdout",
     "output_type": "stream",
     "text": [
      "2025-07-23 22:52:26,314 INFO sqlalchemy.engine.Engine BEGIN (implicit)\n"
     ]
    },
    {
     "name": "stderr",
     "output_type": "stream",
     "text": [
      "INFO:sqlalchemy.engine.Engine:BEGIN (implicit)\n"
     ]
    },
    {
     "name": "stdout",
     "output_type": "stream",
     "text": [
      "2025-07-23 22:52:26,316 INFO sqlalchemy.engine.Engine SELECT avg(vocabulary.score) AS avg_1 \n",
      "FROM vocabulary \n",
      "WHERE vocabulary.unit_id = ?\n"
     ]
    },
    {
     "name": "stderr",
     "output_type": "stream",
     "text": [
      "INFO:sqlalchemy.engine.Engine:SELECT avg(vocabulary.score) AS avg_1 \n",
      "FROM vocabulary \n",
      "WHERE vocabulary.unit_id = ?\n"
     ]
    },
    {
     "name": "stdout",
     "output_type": "stream",
     "text": [
      "2025-07-23 22:52:26,317 INFO sqlalchemy.engine.Engine [generated in 0.00097s] ('ZH_1',)\n"
     ]
    },
    {
     "name": "stderr",
     "output_type": "stream",
     "text": [
      "INFO:sqlalchemy.engine.Engine:[generated in 0.00097s] ('ZH_1',)\n"
     ]
    },
    {
     "name": "stdout",
     "output_type": "stream",
     "text": [
      "Average vocabulary score for unit ZH_1: 1.296262835504443\n"
     ]
    }
   ],
   "source": [
    "import sqlalchemy\n",
    "from sqlalchemy import func\n",
    "from lapp.tables import Vocabulary, CalligraphyCharacter, Exercise\n",
    "\n",
    "_, session = init_db()\n",
    "\n",
    "average_vocab_score = session.query(func.avg(Vocabulary.score)).filter(Vocabulary.unit_id == \"ZH_1\").scalar()\n",
    "print(f\"Average vocabulary score for unit ZH_1: {average_vocab_score}\")\n",
    "\n",
    "average_char_score = session.query(func.avg(CalligraphyCharacter.score)).filter(CalligraphyCharacter.unit_id == \"ZH_1\").scalar()\n",
    "print(f\"Average calligraphy character score for unit ZH_1: {average_char_score}\")\n",
    "\n",
    "average_exercise_score = session.query(func.avg(Exercise.score)).filter(Exercise.unit_id == \"ZH_1\").scalar()\n",
    "print(f\"Average exercise score for unit ZH_1: {average_exercise_score}\")\n",
    "\n",
    "session.close()\n",
    "\n",
    "average_score = (average_vocab_score + average_char_score + average_exercise_score) / 3\n",
    "print(f\"Average score for unit ZH_1: {average_score}\")"
   ]
  },
  {
   "cell_type": "code",
   "execution_count": null,
   "id": "f188054b",
   "metadata": {},
   "outputs": [
    {
     "name": "stderr",
     "output_type": "stream",
     "text": [
      "INFO:langvault.dbms:Found existing database zh.db.\n"
     ]
    },
    {
     "name": "stdout",
     "output_type": "stream",
     "text": [
      "2025-07-04 22:09:39,877 INFO sqlalchemy.engine.Engine BEGIN (implicit)\n"
     ]
    },
    {
     "name": "stderr",
     "output_type": "stream",
     "text": [
      "INFO:sqlalchemy.engine.Engine:BEGIN (implicit)\n"
     ]
    },
    {
     "name": "stdout",
     "output_type": "stream",
     "text": [
      "2025-07-04 22:09:39,877 INFO sqlalchemy.engine.Engine PRAGMA main.table_info(\"units\")\n"
     ]
    },
    {
     "name": "stderr",
     "output_type": "stream",
     "text": [
      "INFO:sqlalchemy.engine.Engine:PRAGMA main.table_info(\"units\")\n"
     ]
    },
    {
     "name": "stdout",
     "output_type": "stream",
     "text": [
      "2025-07-04 22:09:39,877 INFO sqlalchemy.engine.Engine [raw sql] ()\n"
     ]
    },
    {
     "name": "stderr",
     "output_type": "stream",
     "text": [
      "INFO:sqlalchemy.engine.Engine:[raw sql] ()\n"
     ]
    },
    {
     "name": "stdout",
     "output_type": "stream",
     "text": [
      "2025-07-04 22:09:39,878 INFO sqlalchemy.engine.Engine PRAGMA main.table_info(\"calligraphy_characters\")\n"
     ]
    },
    {
     "name": "stderr",
     "output_type": "stream",
     "text": [
      "INFO:sqlalchemy.engine.Engine:PRAGMA main.table_info(\"calligraphy_characters\")\n"
     ]
    },
    {
     "name": "stdout",
     "output_type": "stream",
     "text": [
      "2025-07-04 22:09:39,878 INFO sqlalchemy.engine.Engine [raw sql] ()\n"
     ]
    },
    {
     "name": "stderr",
     "output_type": "stream",
     "text": [
      "INFO:sqlalchemy.engine.Engine:[raw sql] ()\n"
     ]
    },
    {
     "name": "stdout",
     "output_type": "stream",
     "text": [
      "2025-07-04 22:09:39,878 INFO sqlalchemy.engine.Engine PRAGMA main.table_info(\"grammar_rules\")\n"
     ]
    },
    {
     "name": "stderr",
     "output_type": "stream",
     "text": [
      "INFO:sqlalchemy.engine.Engine:PRAGMA main.table_info(\"grammar_rules\")\n"
     ]
    },
    {
     "name": "stdout",
     "output_type": "stream",
     "text": [
      "2025-07-04 22:09:39,879 INFO sqlalchemy.engine.Engine [raw sql] ()\n"
     ]
    },
    {
     "name": "stderr",
     "output_type": "stream",
     "text": [
      "INFO:sqlalchemy.engine.Engine:[raw sql] ()\n"
     ]
    },
    {
     "name": "stdout",
     "output_type": "stream",
     "text": [
      "2025-07-04 22:09:39,879 INFO sqlalchemy.engine.Engine PRAGMA main.table_info(\"vocabulary\")\n"
     ]
    },
    {
     "name": "stderr",
     "output_type": "stream",
     "text": [
      "INFO:sqlalchemy.engine.Engine:PRAGMA main.table_info(\"vocabulary\")\n"
     ]
    },
    {
     "name": "stdout",
     "output_type": "stream",
     "text": [
      "2025-07-04 22:09:39,879 INFO sqlalchemy.engine.Engine [raw sql] ()\n"
     ]
    },
    {
     "name": "stderr",
     "output_type": "stream",
     "text": [
      "INFO:sqlalchemy.engine.Engine:[raw sql] ()\n"
     ]
    },
    {
     "name": "stdout",
     "output_type": "stream",
     "text": [
      "2025-07-04 22:09:39,879 INFO sqlalchemy.engine.Engine PRAGMA main.table_info(\"exercises\")\n"
     ]
    },
    {
     "name": "stderr",
     "output_type": "stream",
     "text": [
      "INFO:sqlalchemy.engine.Engine:PRAGMA main.table_info(\"exercises\")\n"
     ]
    },
    {
     "name": "stdout",
     "output_type": "stream",
     "text": [
      "2025-07-04 22:09:39,880 INFO sqlalchemy.engine.Engine [raw sql] ()\n"
     ]
    },
    {
     "name": "stderr",
     "output_type": "stream",
     "text": [
      "INFO:sqlalchemy.engine.Engine:[raw sql] ()\n"
     ]
    },
    {
     "name": "stdout",
     "output_type": "stream",
     "text": [
      "2025-07-04 22:09:39,880 INFO sqlalchemy.engine.Engine COMMIT\n"
     ]
    },
    {
     "name": "stderr",
     "output_type": "stream",
     "text": [
      "INFO:sqlalchemy.engine.Engine:COMMIT\n",
      "INFO:langvault.dbms:Database zh.db initialized successfully.\n"
     ]
    },
    {
     "name": "stdout",
     "output_type": "stream",
     "text": [
      "2025-07-04 22:09:39,880 INFO sqlalchemy.engine.Engine BEGIN (implicit)\n"
     ]
    },
    {
     "name": "stderr",
     "output_type": "stream",
     "text": [
      "INFO:sqlalchemy.engine.Engine:BEGIN (implicit)\n"
     ]
    },
    {
     "name": "stdout",
     "output_type": "stream",
     "text": [
      "2025-07-04 22:09:39,881 INFO sqlalchemy.engine.Engine SELECT units.unit_id AS units_unit_id, units.title AS units_title, units.description AS units_description, units.level AS units_level \n",
      "FROM units \n",
      "WHERE units.unit_id = ?\n",
      " LIMIT ? OFFSET ?\n"
     ]
    },
    {
     "name": "stderr",
     "output_type": "stream",
     "text": [
      "INFO:sqlalchemy.engine.Engine:SELECT units.unit_id AS units_unit_id, units.title AS units_title, units.description AS units_description, units.level AS units_level \n",
      "FROM units \n",
      "WHERE units.unit_id = ?\n",
      " LIMIT ? OFFSET ?\n"
     ]
    },
    {
     "name": "stdout",
     "output_type": "stream",
     "text": [
      "2025-07-04 22:09:39,881 INFO sqlalchemy.engine.Engine [generated in 0.00025s] ('ZH_4', 1, 0)\n"
     ]
    },
    {
     "name": "stderr",
     "output_type": "stream",
     "text": [
      "INFO:sqlalchemy.engine.Engine:[generated in 0.00025s] ('ZH_4', 1, 0)\n"
     ]
    },
    {
     "name": "stdout",
     "output_type": "stream",
     "text": [
      "2025-07-04 22:09:39,882 INFO sqlalchemy.engine.Engine DELETE FROM units WHERE units.unit_id = ?\n"
     ]
    },
    {
     "name": "stderr",
     "output_type": "stream",
     "text": [
      "INFO:sqlalchemy.engine.Engine:DELETE FROM units WHERE units.unit_id = ?\n"
     ]
    },
    {
     "name": "stdout",
     "output_type": "stream",
     "text": [
      "2025-07-04 22:09:39,882 INFO sqlalchemy.engine.Engine [generated in 0.00023s] ('ZH_4',)\n"
     ]
    },
    {
     "name": "stderr",
     "output_type": "stream",
     "text": [
      "INFO:sqlalchemy.engine.Engine:[generated in 0.00023s] ('ZH_4',)\n"
     ]
    },
    {
     "name": "stdout",
     "output_type": "stream",
     "text": [
      "2025-07-04 22:09:39,882 INFO sqlalchemy.engine.Engine COMMIT\n"
     ]
    },
    {
     "name": "stderr",
     "output_type": "stream",
     "text": [
      "INFO:sqlalchemy.engine.Engine:COMMIT\n"
     ]
    }
   ],
   "source": [
    "from lapp.tables import Exercise\n",
    "\n",
    "\n",
    "engine, session = init_db(language_name)\n",
    "\n",
    "exercise = Exercise(\n",
    "    id = \"5\"\n",
    ")\n",
    "delete(session, exercise)\n",
    "session.close()"
   ]
  }
 ],
 "metadata": {
  "kernelspec": {
   "display_name": "language-learning-app",
   "language": "python",
   "name": "python3"
  },
  "language_info": {
   "codemirror_mode": {
    "name": "ipython",
    "version": 3
   },
   "file_extension": ".py",
   "mimetype": "text/x-python",
   "name": "python",
   "nbconvert_exporter": "python",
   "pygments_lexer": "ipython3",
   "version": "3.12.11"
  }
 },
 "nbformat": 4,
 "nbformat_minor": 5
}
