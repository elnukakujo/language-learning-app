{
 "cells": [
  {
   "cell_type": "code",
   "execution_count": null,
   "id": "047bf4ae",
   "metadata": {},
   "outputs": [],
   "source": [
    "import json\n",
    "import os\n",
    "import random\n",
    "from lapp.dbms import init_db, modify, delete, find_by_attr\n",
    "from lapp.tables import Unit, Vocabulary, GrammarRule"
   ]
  },
  {
   "cell_type": "code",
   "execution_count": 2,
   "id": "d3ed9f5a",
   "metadata": {},
   "outputs": [],
   "source": [
    "language_name = 'zh'"
   ]
  },
  {
   "cell_type": "code",
   "execution_count": null,
   "id": "1165ba5b",
   "metadata": {},
   "outputs": [
    {
     "name": "stdout",
     "output_type": "stream",
     "text": [
      "2025-07-04 23:14:42,530 INFO sqlalchemy.engine.Engine BEGIN (implicit)\n",
      "2025-07-04 23:14:42,530 INFO sqlalchemy.engine.Engine PRAGMA main.table_info(\"unit\")\n",
      "2025-07-04 23:14:42,530 INFO sqlalchemy.engine.Engine [raw sql] ()\n",
      "2025-07-04 23:14:42,531 INFO sqlalchemy.engine.Engine PRAGMA main.table_info(\"calligraphy_character\")\n",
      "2025-07-04 23:14:42,531 INFO sqlalchemy.engine.Engine [raw sql] ()\n",
      "2025-07-04 23:14:42,531 INFO sqlalchemy.engine.Engine PRAGMA main.table_info(\"grammar_rule\")\n",
      "2025-07-04 23:14:42,531 INFO sqlalchemy.engine.Engine [raw sql] ()\n",
      "2025-07-04 23:14:42,531 INFO sqlalchemy.engine.Engine PRAGMA main.table_info(\"vocabulary\")\n",
      "2025-07-04 23:14:42,532 INFO sqlalchemy.engine.Engine [raw sql] ()\n",
      "2025-07-04 23:14:42,532 INFO sqlalchemy.engine.Engine PRAGMA main.table_info(\"exercises\")\n",
      "2025-07-04 23:14:42,532 INFO sqlalchemy.engine.Engine [raw sql] ()\n",
      "2025-07-04 23:14:42,532 INFO sqlalchemy.engine.Engine COMMIT\n",
      "2025-07-04 23:14:42,536 INFO sqlalchemy.engine.Engine BEGIN (implicit)\n",
      "2025-07-04 23:14:42,537 INFO sqlalchemy.engine.Engine SELECT vocabulary.voc_id AS vocabulary_voc_id, vocabulary.word AS vocabulary_word, vocabulary.voc_translation AS vocabulary_voc_translation, vocabulary.voc_phonetic AS vocabulary_voc_phonetic, vocabulary.example_sentence AS vocabulary_example_sentence, vocabulary.voc_type AS vocabulary_voc_type, vocabulary.score AS vocabulary_score, vocabulary.unit_id AS vocabulary_unit_id \n",
      "FROM vocabulary \n",
      "WHERE vocabulary.unit_id = ?\n",
      "2025-07-04 23:14:42,537 INFO sqlalchemy.engine.Engine [generated in 0.00017s] ('ZH_1',)\n"
     ]
    },
    {
     "data": {
      "text/plain": [
       "'我 Je'"
      ]
     },
     "execution_count": 3,
     "metadata": {},
     "output_type": "execute_result"
    }
   ],
   "source": [
    "engine, session = init_db(language_name)\n",
    "\n",
    "vocs = session.query(Vocabulary).filter(Vocabulary.unit_id == f\"{language_name.upper()}_1\").all()\n",
    "word = random.choice(vocs)\n",
    "word.word + \" \" + word.voc_translation"
   ]
  }
 ],
 "metadata": {
  "kernelspec": {
   "display_name": "language-learning-app",
   "language": "python",
   "name": "python3"
  },
  "language_info": {
   "codemirror_mode": {
    "name": "ipython",
    "version": 3
   },
   "file_extension": ".py",
   "mimetype": "text/x-python",
   "name": "python",
   "nbconvert_exporter": "python",
   "pygments_lexer": "ipython3",
   "version": "3.12.11"
  }
 },
 "nbformat": 4,
 "nbformat_minor": 5
}
